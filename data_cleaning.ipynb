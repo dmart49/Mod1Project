{
 "cells": [
  {
   "cell_type": "code",
   "execution_count": 61,
   "metadata": {},
   "outputs": [],
   "source": [
    "import pandas as pd\n",
    "\n",
    "kc_houses = pd.read_csv('/Users/flatironschool/Documents/dsc-v2-mod1-final-project-houston-ds-060319/kc_house_data.csv')"
   ]
  },
  {
   "cell_type": "code",
   "execution_count": 43,
   "metadata": {},
   "outputs": [
    {
     "data": {
      "text/plain": [
       "id                  0\n",
       "date                0\n",
       "price               0\n",
       "bedrooms            0\n",
       "bathrooms           0\n",
       "sqft_living         0\n",
       "sqft_lot            0\n",
       "floors              0\n",
       "waterfront       2376\n",
       "view               63\n",
       "condition           0\n",
       "grade               0\n",
       "sqft_above          0\n",
       "sqft_basement       0\n",
       "yr_built            0\n",
       "yr_renovated     3842\n",
       "zipcode             0\n",
       "lat                 0\n",
       "long                0\n",
       "sqft_living15       0\n",
       "sqft_lot15          0\n",
       "dtype: int64"
      ]
     },
     "execution_count": 43,
     "metadata": {},
     "output_type": "execute_result"
    }
   ],
   "source": [
    "kc_houses.isna().sum()"
   ]
  },
  {
   "cell_type": "code",
   "execution_count": 44,
   "metadata": {},
   "outputs": [
    {
     "data": {
      "text/plain": [
       "array([nan,  0.,  1.])"
      ]
     },
     "execution_count": 44,
     "metadata": {},
     "output_type": "execute_result"
    }
   ],
   "source": [
    "kc_houses['waterfront'].unique()"
   ]
  },
  {
   "cell_type": "code",
   "execution_count": 55,
   "metadata": {},
   "outputs": [
    {
     "data": {
      "text/plain": [
       "array([3, 5, 4, 1, 2])"
      ]
     },
     "execution_count": 55,
     "metadata": {},
     "output_type": "execute_result"
    }
   ],
   "source": [
    "kc_houses['condition'].unique()"
   ]
  },
  {
   "cell_type": "code",
   "execution_count": null,
   "metadata": {},
   "outputs": [],
   "source": []
  },
  {
   "cell_type": "code",
   "execution_count": 45,
   "metadata": {},
   "outputs": [
    {
     "data": {
      "text/plain": [
       "0.0    19075\n",
       "1.0      146\n",
       "Name: waterfront, dtype: int64"
      ]
     },
     "execution_count": 45,
     "metadata": {},
     "output_type": "execute_result"
    }
   ],
   "source": [
    "kc_houses['waterfront'].value_counts()"
   ]
  },
  {
   "cell_type": "code",
   "execution_count": 46,
   "metadata": {},
   "outputs": [
    {
     "data": {
      "text/plain": [
       "5"
      ]
     },
     "execution_count": 46,
     "metadata": {},
     "output_type": "execute_result"
    }
   ],
   "source": [
    "kc_houses['view'].nunique()"
   ]
  },
  {
   "cell_type": "code",
   "execution_count": 47,
   "metadata": {},
   "outputs": [
    {
     "data": {
      "text/plain": [
       "0.0    19422\n",
       "2.0      957\n",
       "3.0      508\n",
       "1.0      330\n",
       "4.0      317\n",
       "Name: view, dtype: int64"
      ]
     },
     "execution_count": 47,
     "metadata": {},
     "output_type": "execute_result"
    }
   ],
   "source": [
    "kc_houses['view'].value_counts()"
   ]
  },
  {
   "cell_type": "code",
   "execution_count": 48,
   "metadata": {},
   "outputs": [
    {
     "data": {
      "text/plain": [
       "0.0       17011\n",
       "2014.0       73\n",
       "2003.0       31\n",
       "2013.0       31\n",
       "2007.0       30\n",
       "2000.0       29\n",
       "2005.0       29\n",
       "1990.0       22\n",
       "2004.0       22\n",
       "2009.0       21\n",
       "1989.0       20\n",
       "2006.0       20\n",
       "2002.0       17\n",
       "1991.0       16\n",
       "1998.0       16\n",
       "1984.0       16\n",
       "1999.0       15\n",
       "2008.0       15\n",
       "2010.0       15\n",
       "2001.0       15\n",
       "1983.0       15\n",
       "2015.0       14\n",
       "1985.0       14\n",
       "1986.0       14\n",
       "1987.0       14\n",
       "1994.0       14\n",
       "1992.0       13\n",
       "1993.0       12\n",
       "1997.0       12\n",
       "1995.0       12\n",
       "          ...  \n",
       "1975.0        5\n",
       "1964.0        5\n",
       "1969.0        4\n",
       "1963.0        4\n",
       "1973.0        4\n",
       "1981.0        4\n",
       "1965.0        4\n",
       "1978.0        3\n",
       "1960.0        3\n",
       "1958.0        3\n",
       "1956.0        3\n",
       "1955.0        3\n",
       "1945.0        3\n",
       "1972.0        3\n",
       "1967.0        2\n",
       "1957.0        2\n",
       "1940.0        2\n",
       "1974.0        2\n",
       "1962.0        2\n",
       "1953.0        1\n",
       "1950.0        1\n",
       "1934.0        1\n",
       "1944.0        1\n",
       "1976.0        1\n",
       "1948.0        1\n",
       "1946.0        1\n",
       "1959.0        1\n",
       "1971.0        1\n",
       "1951.0        1\n",
       "1954.0        1\n",
       "Name: yr_renovated, Length: 70, dtype: int64"
      ]
     },
     "execution_count": 48,
     "metadata": {},
     "output_type": "execute_result"
    }
   ],
   "source": [
    "kc_houses['yr_renovated'].value_counts()"
   ]
  },
  {
   "cell_type": "markdown",
   "metadata": {},
   "source": [
    "Given that the vast majority of lots have a value of 0 for 'yr_renovated' and >10% of the values for 'yr_renovated' are missing, we will replace 'yr_renovated' with a dummy variable 'was_renovated'; all lots that have a year in which they were renovated will be represented with a 1, and all other lots will be represented with 0."
   ]
  },
  {
   "cell_type": "code",
   "execution_count": 62,
   "metadata": {},
   "outputs": [],
   "source": [
    "kc_houses['was_renovated']= kc_houses['yr_renovated'].fillna(0)\n",
    "temp = kc_houses['was_renovated'].astype(bool).astype(int)\n",
    "kc_houses['was_renovated'] = temp"
   ]
  },
  {
   "cell_type": "markdown",
   "metadata": {},
   "source": [
    "Roughly 10% of records have a null value for 'waterfront'. Given that a large number of records have a null value for waterfront but we think this information may have a bearing on sale price, it would not be practical to simply drop the rows for which waterfront has a null value. Instead, null values in the waterfront column will be replaced with 0."
   ]
  },
  {
   "cell_type": "code",
   "execution_count": 63,
   "metadata": {},
   "outputs": [],
   "source": [
    "kc_houses['waterfront'].fillna(0,inplace=True)"
   ]
  },
  {
   "cell_type": "markdown",
   "metadata": {},
   "source": [
    "Given that only 63 rows are missing values for 'view', we will simply drop the rows that have a null value for 'view'"
   ]
  },
  {
   "cell_type": "code",
   "execution_count": 64,
   "metadata": {},
   "outputs": [],
   "source": [
    "no_view = kc_houses['view'].isna()\n",
    "# no_view.head()\n",
    "kc_houses.drop(kc_houses[no_view].index,inplace=True)"
   ]
  },
  {
   "cell_type": "code",
   "execution_count": 27,
   "metadata": {},
   "outputs": [
    {
     "name": "stdout",
     "output_type": "stream",
     "text": [
      "<class 'pandas.core.frame.DataFrame'>\n",
      "Int64Index: 21534 entries, 0 to 21596\n",
      "Data columns (total 22 columns):\n",
      "id               21534 non-null int64\n",
      "date             21534 non-null object\n",
      "price            21534 non-null float64\n",
      "bedrooms         21534 non-null int64\n",
      "bathrooms        21534 non-null float64\n",
      "sqft_living      21534 non-null int64\n",
      "sqft_lot         21534 non-null int64\n",
      "floors           21534 non-null float64\n",
      "waterfront       21534 non-null float64\n",
      "view             21534 non-null float64\n",
      "condition        21534 non-null int64\n",
      "grade            21534 non-null int64\n",
      "sqft_above       21534 non-null int64\n",
      "sqft_basement    21534 non-null object\n",
      "yr_built         21534 non-null int64\n",
      "yr_renovated     17704 non-null float64\n",
      "zipcode          21534 non-null int64\n",
      "lat              21534 non-null float64\n",
      "long             21534 non-null float64\n",
      "sqft_living15    21534 non-null int64\n",
      "sqft_lot15       21534 non-null int64\n",
      "was_renovated    21534 non-null int64\n",
      "dtypes: float64(8), int64(12), object(2)\n",
      "memory usage: 3.8+ MB\n"
     ]
    }
   ],
   "source": [
    "kc_houses.info()"
   ]
  },
  {
   "cell_type": "markdown",
   "metadata": {},
   "source": [
    "'sqft_basement' is a string for some reason? Let's convert that to float."
   ]
  },
  {
   "cell_type": "code",
   "execution_count": 57,
   "metadata": {},
   "outputs": [
    {
     "data": {
      "text/plain": [
       "0.0       12798\n",
       "?           452\n",
       "600.0       216\n",
       "500.0       209\n",
       "700.0       207\n",
       "800.0       201\n",
       "400.0       184\n",
       "1000.0      147\n",
       "900.0       142\n",
       "300.0       140\n",
       "200.0       105\n",
       "750.0       104\n",
       "530.0       103\n",
       "450.0       103\n",
       "480.0       102\n",
       "720.0        98\n",
       "620.0        90\n",
       "580.0        84\n",
       "840.0        83\n",
       "420.0        81\n",
       "1100.0       78\n",
       "860.0        78\n",
       "670.0        77\n",
       "550.0        76\n",
       "780.0        75\n",
       "650.0        75\n",
       "240.0        74\n",
       "680.0        73\n",
       "380.0        73\n",
       "910.0        71\n",
       "          ...  \n",
       "3480.0        1\n",
       "704.0         1\n",
       "1816.0        1\n",
       "946.0         1\n",
       "2310.0        1\n",
       "172.0         1\n",
       "2850.0        1\n",
       "2240.0        1\n",
       "1852.0        1\n",
       "2400.0        1\n",
       "862.0         1\n",
       "4130.0        1\n",
       "207.0         1\n",
       "2360.0        1\n",
       "861.0         1\n",
       "266.0         1\n",
       "3260.0        1\n",
       "2810.0        1\n",
       "915.0         1\n",
       "906.0         1\n",
       "2190.0        1\n",
       "2730.0        1\n",
       "225.0         1\n",
       "1990.0        1\n",
       "65.0          1\n",
       "1548.0        1\n",
       "602.0         1\n",
       "276.0         1\n",
       "768.0         1\n",
       "516.0         1\n",
       "Name: sqft_basement, Length: 302, dtype: int64"
      ]
     },
     "execution_count": 57,
     "metadata": {},
     "output_type": "execute_result"
    }
   ],
   "source": [
    "kc_houses['sqft_basement'].value_counts()"
   ]
  },
  {
   "cell_type": "code",
   "execution_count": 65,
   "metadata": {},
   "outputs": [],
   "source": [
    "no_basement = kc_houses['sqft_basement']=='?'\n",
    "kc_houses = kc_houses.drop(kc_houses[no_basement].index)"
   ]
  },
  {
   "cell_type": "code",
   "execution_count": 67,
   "metadata": {},
   "outputs": [],
   "source": [
    "kc_houses['sqft_basement'] = kc_houses['sqft_basement'].apply(lambda x: float(x))"
   ]
  },
  {
   "cell_type": "code",
   "execution_count": 28,
   "metadata": {},
   "outputs": [
    {
     "data": {
      "text/plain": [
       "0"
      ]
     },
     "execution_count": 28,
     "metadata": {},
     "output_type": "execute_result"
    }
   ],
   "source": [
    "kc_houses['view'].isna().sum()"
   ]
  },
  {
   "cell_type": "code",
   "execution_count": 68,
   "metadata": {},
   "outputs": [
    {
     "data": {
      "text/html": [
       "<div>\n",
       "<style scoped>\n",
       "    .dataframe tbody tr th:only-of-type {\n",
       "        vertical-align: middle;\n",
       "    }\n",
       "\n",
       "    .dataframe tbody tr th {\n",
       "        vertical-align: top;\n",
       "    }\n",
       "\n",
       "    .dataframe thead th {\n",
       "        text-align: right;\n",
       "    }\n",
       "</style>\n",
       "<table border=\"1\" class=\"dataframe\">\n",
       "  <thead>\n",
       "    <tr style=\"text-align: right;\">\n",
       "      <th></th>\n",
       "      <th>id</th>\n",
       "      <th>price</th>\n",
       "      <th>bedrooms</th>\n",
       "      <th>bathrooms</th>\n",
       "      <th>sqft_living</th>\n",
       "      <th>sqft_lot</th>\n",
       "      <th>floors</th>\n",
       "      <th>waterfront</th>\n",
       "      <th>view</th>\n",
       "      <th>condition</th>\n",
       "      <th>...</th>\n",
       "      <th>sqft_above</th>\n",
       "      <th>sqft_basement</th>\n",
       "      <th>yr_built</th>\n",
       "      <th>yr_renovated</th>\n",
       "      <th>zipcode</th>\n",
       "      <th>lat</th>\n",
       "      <th>long</th>\n",
       "      <th>sqft_living15</th>\n",
       "      <th>sqft_lot15</th>\n",
       "      <th>was_renovated</th>\n",
       "    </tr>\n",
       "  </thead>\n",
       "  <tbody>\n",
       "    <tr>\n",
       "      <th>count</th>\n",
       "      <td>2.108200e+04</td>\n",
       "      <td>2.108200e+04</td>\n",
       "      <td>21082.000000</td>\n",
       "      <td>21082.000000</td>\n",
       "      <td>21082.000000</td>\n",
       "      <td>2.108200e+04</td>\n",
       "      <td>21082.00000</td>\n",
       "      <td>21082.000000</td>\n",
       "      <td>21082.000000</td>\n",
       "      <td>21082.000000</td>\n",
       "      <td>...</td>\n",
       "      <td>21082.000000</td>\n",
       "      <td>21082.000000</td>\n",
       "      <td>21082.000000</td>\n",
       "      <td>17340.000000</td>\n",
       "      <td>21082.000000</td>\n",
       "      <td>21082.000000</td>\n",
       "      <td>21082.000000</td>\n",
       "      <td>21082.000000</td>\n",
       "      <td>21082.000000</td>\n",
       "      <td>21082.000000</td>\n",
       "    </tr>\n",
       "    <tr>\n",
       "      <th>mean</th>\n",
       "      <td>4.582793e+09</td>\n",
       "      <td>5.402469e+05</td>\n",
       "      <td>3.372403</td>\n",
       "      <td>2.115916</td>\n",
       "      <td>2080.359975</td>\n",
       "      <td>1.507759e+04</td>\n",
       "      <td>1.49362</td>\n",
       "      <td>0.006688</td>\n",
       "      <td>0.233327</td>\n",
       "      <td>3.409828</td>\n",
       "      <td>...</td>\n",
       "      <td>1789.000000</td>\n",
       "      <td>291.359975</td>\n",
       "      <td>1971.023337</td>\n",
       "      <td>83.111419</td>\n",
       "      <td>98077.858837</td>\n",
       "      <td>47.560371</td>\n",
       "      <td>-122.213843</td>\n",
       "      <td>1986.917418</td>\n",
       "      <td>12732.514135</td>\n",
       "      <td>0.034247</td>\n",
       "    </tr>\n",
       "    <tr>\n",
       "      <th>std</th>\n",
       "      <td>2.876423e+09</td>\n",
       "      <td>3.667323e+05</td>\n",
       "      <td>0.924996</td>\n",
       "      <td>0.768142</td>\n",
       "      <td>917.856396</td>\n",
       "      <td>4.117338e+04</td>\n",
       "      <td>0.53937</td>\n",
       "      <td>0.081509</td>\n",
       "      <td>0.765066</td>\n",
       "      <td>0.650597</td>\n",
       "      <td>...</td>\n",
       "      <td>828.369355</td>\n",
       "      <td>442.007858</td>\n",
       "      <td>29.323120</td>\n",
       "      <td>398.756281</td>\n",
       "      <td>53.528769</td>\n",
       "      <td>0.138568</td>\n",
       "      <td>0.140607</td>\n",
       "      <td>685.544250</td>\n",
       "      <td>27148.781580</td>\n",
       "      <td>0.181868</td>\n",
       "    </tr>\n",
       "    <tr>\n",
       "      <th>min</th>\n",
       "      <td>1.000102e+06</td>\n",
       "      <td>7.800000e+04</td>\n",
       "      <td>1.000000</td>\n",
       "      <td>0.500000</td>\n",
       "      <td>370.000000</td>\n",
       "      <td>5.200000e+02</td>\n",
       "      <td>1.00000</td>\n",
       "      <td>0.000000</td>\n",
       "      <td>0.000000</td>\n",
       "      <td>1.000000</td>\n",
       "      <td>...</td>\n",
       "      <td>370.000000</td>\n",
       "      <td>0.000000</td>\n",
       "      <td>1900.000000</td>\n",
       "      <td>0.000000</td>\n",
       "      <td>98001.000000</td>\n",
       "      <td>47.155900</td>\n",
       "      <td>-122.519000</td>\n",
       "      <td>399.000000</td>\n",
       "      <td>651.000000</td>\n",
       "      <td>0.000000</td>\n",
       "    </tr>\n",
       "    <tr>\n",
       "      <th>25%</th>\n",
       "      <td>2.123700e+09</td>\n",
       "      <td>3.220000e+05</td>\n",
       "      <td>3.000000</td>\n",
       "      <td>1.750000</td>\n",
       "      <td>1430.000000</td>\n",
       "      <td>5.040000e+03</td>\n",
       "      <td>1.00000</td>\n",
       "      <td>0.000000</td>\n",
       "      <td>0.000000</td>\n",
       "      <td>3.000000</td>\n",
       "      <td>...</td>\n",
       "      <td>1200.000000</td>\n",
       "      <td>0.000000</td>\n",
       "      <td>1952.000000</td>\n",
       "      <td>0.000000</td>\n",
       "      <td>98033.000000</td>\n",
       "      <td>47.471325</td>\n",
       "      <td>-122.328000</td>\n",
       "      <td>1490.000000</td>\n",
       "      <td>5100.000000</td>\n",
       "      <td>0.000000</td>\n",
       "    </tr>\n",
       "    <tr>\n",
       "      <th>50%</th>\n",
       "      <td>3.904970e+09</td>\n",
       "      <td>4.500000e+05</td>\n",
       "      <td>3.000000</td>\n",
       "      <td>2.250000</td>\n",
       "      <td>1910.000000</td>\n",
       "      <td>7.620000e+03</td>\n",
       "      <td>1.50000</td>\n",
       "      <td>0.000000</td>\n",
       "      <td>0.000000</td>\n",
       "      <td>3.000000</td>\n",
       "      <td>...</td>\n",
       "      <td>1560.000000</td>\n",
       "      <td>0.000000</td>\n",
       "      <td>1975.000000</td>\n",
       "      <td>0.000000</td>\n",
       "      <td>98065.000000</td>\n",
       "      <td>47.572200</td>\n",
       "      <td>-122.230000</td>\n",
       "      <td>1840.000000</td>\n",
       "      <td>7626.000000</td>\n",
       "      <td>0.000000</td>\n",
       "    </tr>\n",
       "    <tr>\n",
       "      <th>75%</th>\n",
       "      <td>7.312200e+09</td>\n",
       "      <td>6.450000e+05</td>\n",
       "      <td>4.000000</td>\n",
       "      <td>2.500000</td>\n",
       "      <td>2550.000000</td>\n",
       "      <td>1.069775e+04</td>\n",
       "      <td>2.00000</td>\n",
       "      <td>0.000000</td>\n",
       "      <td>0.000000</td>\n",
       "      <td>4.000000</td>\n",
       "      <td>...</td>\n",
       "      <td>2210.000000</td>\n",
       "      <td>560.000000</td>\n",
       "      <td>1997.000000</td>\n",
       "      <td>0.000000</td>\n",
       "      <td>98117.000000</td>\n",
       "      <td>47.678200</td>\n",
       "      <td>-122.125000</td>\n",
       "      <td>2360.000000</td>\n",
       "      <td>10088.750000</td>\n",
       "      <td>0.000000</td>\n",
       "    </tr>\n",
       "    <tr>\n",
       "      <th>max</th>\n",
       "      <td>9.900000e+09</td>\n",
       "      <td>7.700000e+06</td>\n",
       "      <td>33.000000</td>\n",
       "      <td>8.000000</td>\n",
       "      <td>13540.000000</td>\n",
       "      <td>1.651359e+06</td>\n",
       "      <td>3.50000</td>\n",
       "      <td>1.000000</td>\n",
       "      <td>4.000000</td>\n",
       "      <td>5.000000</td>\n",
       "      <td>...</td>\n",
       "      <td>9410.000000</td>\n",
       "      <td>4820.000000</td>\n",
       "      <td>2015.000000</td>\n",
       "      <td>2015.000000</td>\n",
       "      <td>98199.000000</td>\n",
       "      <td>47.777600</td>\n",
       "      <td>-121.315000</td>\n",
       "      <td>6210.000000</td>\n",
       "      <td>871200.000000</td>\n",
       "      <td>1.000000</td>\n",
       "    </tr>\n",
       "  </tbody>\n",
       "</table>\n",
       "<p>8 rows × 21 columns</p>\n",
       "</div>"
      ],
      "text/plain": [
       "                 id         price      bedrooms     bathrooms   sqft_living  \\\n",
       "count  2.108200e+04  2.108200e+04  21082.000000  21082.000000  21082.000000   \n",
       "mean   4.582793e+09  5.402469e+05      3.372403      2.115916   2080.359975   \n",
       "std    2.876423e+09  3.667323e+05      0.924996      0.768142    917.856396   \n",
       "min    1.000102e+06  7.800000e+04      1.000000      0.500000    370.000000   \n",
       "25%    2.123700e+09  3.220000e+05      3.000000      1.750000   1430.000000   \n",
       "50%    3.904970e+09  4.500000e+05      3.000000      2.250000   1910.000000   \n",
       "75%    7.312200e+09  6.450000e+05      4.000000      2.500000   2550.000000   \n",
       "max    9.900000e+09  7.700000e+06     33.000000      8.000000  13540.000000   \n",
       "\n",
       "           sqft_lot       floors    waterfront          view     condition  \\\n",
       "count  2.108200e+04  21082.00000  21082.000000  21082.000000  21082.000000   \n",
       "mean   1.507759e+04      1.49362      0.006688      0.233327      3.409828   \n",
       "std    4.117338e+04      0.53937      0.081509      0.765066      0.650597   \n",
       "min    5.200000e+02      1.00000      0.000000      0.000000      1.000000   \n",
       "25%    5.040000e+03      1.00000      0.000000      0.000000      3.000000   \n",
       "50%    7.620000e+03      1.50000      0.000000      0.000000      3.000000   \n",
       "75%    1.069775e+04      2.00000      0.000000      0.000000      4.000000   \n",
       "max    1.651359e+06      3.50000      1.000000      4.000000      5.000000   \n",
       "\n",
       "           ...          sqft_above  sqft_basement      yr_built  yr_renovated  \\\n",
       "count      ...        21082.000000   21082.000000  21082.000000  17340.000000   \n",
       "mean       ...         1789.000000     291.359975   1971.023337     83.111419   \n",
       "std        ...          828.369355     442.007858     29.323120    398.756281   \n",
       "min        ...          370.000000       0.000000   1900.000000      0.000000   \n",
       "25%        ...         1200.000000       0.000000   1952.000000      0.000000   \n",
       "50%        ...         1560.000000       0.000000   1975.000000      0.000000   \n",
       "75%        ...         2210.000000     560.000000   1997.000000      0.000000   \n",
       "max        ...         9410.000000    4820.000000   2015.000000   2015.000000   \n",
       "\n",
       "            zipcode           lat          long  sqft_living15     sqft_lot15  \\\n",
       "count  21082.000000  21082.000000  21082.000000   21082.000000   21082.000000   \n",
       "mean   98077.858837     47.560371   -122.213843    1986.917418   12732.514135   \n",
       "std       53.528769      0.138568      0.140607     685.544250   27148.781580   \n",
       "min    98001.000000     47.155900   -122.519000     399.000000     651.000000   \n",
       "25%    98033.000000     47.471325   -122.328000    1490.000000    5100.000000   \n",
       "50%    98065.000000     47.572200   -122.230000    1840.000000    7626.000000   \n",
       "75%    98117.000000     47.678200   -122.125000    2360.000000   10088.750000   \n",
       "max    98199.000000     47.777600   -121.315000    6210.000000  871200.000000   \n",
       "\n",
       "       was_renovated  \n",
       "count   21082.000000  \n",
       "mean        0.034247  \n",
       "std         0.181868  \n",
       "min         0.000000  \n",
       "25%         0.000000  \n",
       "50%         0.000000  \n",
       "75%         0.000000  \n",
       "max         1.000000  \n",
       "\n",
       "[8 rows x 21 columns]"
      ]
     },
     "execution_count": 68,
     "metadata": {},
     "output_type": "execute_result"
    }
   ],
   "source": [
    "kc_houses.describe()"
   ]
  },
  {
   "cell_type": "code",
   "execution_count": null,
   "metadata": {},
   "outputs": [],
   "source": []
  },
  {
   "cell_type": "code",
   "execution_count": 70,
   "metadata": {},
   "outputs": [],
   "source": [
    "kc_houses['living-lot-ratio'] = kc_houses['sqft_living']/kc_houses['sqft_lot']"
   ]
  },
  {
   "cell_type": "code",
   "execution_count": 71,
   "metadata": {},
   "outputs": [],
   "source": [
    "kc_houses['living-lot-ratio15'] = kc_houses['sqft_living15']/kc_houses['sqft_lot15']"
   ]
  },
  {
   "cell_type": "code",
   "execution_count": 69,
   "metadata": {},
   "outputs": [
    {
     "data": {
      "image/png": "[encoded data removed]",
      "text/plain": [
       "<Figure size 432x288 with 1 Axes>"
      ]
     },
     "metadata": {
      "needs_background": "light"
     },
     "output_type": "display_data"
    }
   ],
   "source": [
    "import matplotlib.pyplot as plt\n",
    "plt.scatter(kc_houses['sqft_living'],kc_houses['sqft_living15'])\n",
    "plt.show()"
   ]
  },
  {
   "cell_type": "code",
   "execution_count": 37,
   "metadata": {},
   "outputs": [
    {
     "data": {
      "text/html": [
       "<div>\n",
       "<style scoped>\n",
       "    .dataframe tbody tr th:only-of-type {\n",
       "        vertical-align: middle;\n",
       "    }\n",
       "\n",
       "    .dataframe tbody tr th {\n",
       "        vertical-align: top;\n",
       "    }\n",
       "\n",
       "    .dataframe thead th {\n",
       "        text-align: right;\n",
       "    }\n",
       "</style>\n",
       "<table border=\"1\" class=\"dataframe\">\n",
       "  <thead>\n",
       "    <tr style=\"text-align: right;\">\n",
       "      <th></th>\n",
       "      <th>id</th>\n",
       "      <th>price</th>\n",
       "      <th>bedrooms</th>\n",
       "      <th>bathrooms</th>\n",
       "      <th>sqft_living</th>\n",
       "      <th>sqft_lot</th>\n",
       "      <th>floors</th>\n",
       "      <th>waterfront</th>\n",
       "      <th>view</th>\n",
       "      <th>condition</th>\n",
       "      <th>...</th>\n",
       "      <th>yr_built</th>\n",
       "      <th>yr_renovated</th>\n",
       "      <th>zipcode</th>\n",
       "      <th>lat</th>\n",
       "      <th>long</th>\n",
       "      <th>sqft_living15</th>\n",
       "      <th>sqft_lot15</th>\n",
       "      <th>was_renovated</th>\n",
       "      <th>living-lot-ratio</th>\n",
       "      <th>living-lot-ratio15</th>\n",
       "    </tr>\n",
       "  </thead>\n",
       "  <tbody>\n",
       "    <tr>\n",
       "      <th>id</th>\n",
       "      <td>1.000000</td>\n",
       "      <td>-0.017392</td>\n",
       "      <td>0.000991</td>\n",
       "      <td>0.004971</td>\n",
       "      <td>-0.012381</td>\n",
       "      <td>-0.132061</td>\n",
       "      <td>0.018573</td>\n",
       "      <td>-0.004259</td>\n",
       "      <td>0.011592</td>\n",
       "      <td>-0.023944</td>\n",
       "      <td>...</td>\n",
       "      <td>0.021609</td>\n",
       "      <td>-0.011802</td>\n",
       "      <td>-0.008027</td>\n",
       "      <td>-0.002001</td>\n",
       "      <td>0.020637</td>\n",
       "      <td>-0.002707</td>\n",
       "      <td>-0.138607</td>\n",
       "      <td>-0.010481</td>\n",
       "      <td>0.088188</td>\n",
       "      <td>0.099755</td>\n",
       "    </tr>\n",
       "    <tr>\n",
       "      <th>price</th>\n",
       "      <td>-0.017392</td>\n",
       "      <td>1.000000</td>\n",
       "      <td>0.308063</td>\n",
       "      <td>0.525053</td>\n",
       "      <td>0.701587</td>\n",
       "      <td>0.090338</td>\n",
       "      <td>0.257052</td>\n",
       "      <td>0.259220</td>\n",
       "      <td>0.395734</td>\n",
       "      <td>0.035393</td>\n",
       "      <td>...</td>\n",
       "      <td>0.054273</td>\n",
       "      <td>0.129887</td>\n",
       "      <td>-0.053620</td>\n",
       "      <td>0.307868</td>\n",
       "      <td>0.022417</td>\n",
       "      <td>0.585304</td>\n",
       "      <td>0.083189</td>\n",
       "      <td>0.117668</td>\n",
       "      <td>0.123050</td>\n",
       "      <td>0.065531</td>\n",
       "    </tr>\n",
       "    <tr>\n",
       "      <th>bedrooms</th>\n",
       "      <td>0.000991</td>\n",
       "      <td>0.308063</td>\n",
       "      <td>1.000000</td>\n",
       "      <td>0.514368</td>\n",
       "      <td>0.577934</td>\n",
       "      <td>0.032735</td>\n",
       "      <td>0.177391</td>\n",
       "      <td>-0.003733</td>\n",
       "      <td>0.078523</td>\n",
       "      <td>0.026402</td>\n",
       "      <td>...</td>\n",
       "      <td>0.155462</td>\n",
       "      <td>0.018419</td>\n",
       "      <td>-0.153990</td>\n",
       "      <td>-0.010415</td>\n",
       "      <td>0.132318</td>\n",
       "      <td>0.392874</td>\n",
       "      <td>0.030952</td>\n",
       "      <td>0.017531</td>\n",
       "      <td>0.026503</td>\n",
       "      <td>-0.060570</td>\n",
       "    </tr>\n",
       "    <tr>\n",
       "      <th>bathrooms</th>\n",
       "      <td>0.004971</td>\n",
       "      <td>0.525053</td>\n",
       "      <td>0.514368</td>\n",
       "      <td>1.000000</td>\n",
       "      <td>0.755277</td>\n",
       "      <td>0.088921</td>\n",
       "      <td>0.502285</td>\n",
       "      <td>0.061115</td>\n",
       "      <td>0.186451</td>\n",
       "      <td>-0.126682</td>\n",
       "      <td>...</td>\n",
       "      <td>0.507565</td>\n",
       "      <td>0.050786</td>\n",
       "      <td>-0.204435</td>\n",
       "      <td>0.024487</td>\n",
       "      <td>0.225025</td>\n",
       "      <td>0.569139</td>\n",
       "      <td>0.088854</td>\n",
       "      <td>0.046519</td>\n",
       "      <td>0.286945</td>\n",
       "      <td>0.186403</td>\n",
       "    </tr>\n",
       "    <tr>\n",
       "      <th>sqft_living</th>\n",
       "      <td>-0.012381</td>\n",
       "      <td>0.701587</td>\n",
       "      <td>0.577934</td>\n",
       "      <td>0.755277</td>\n",
       "      <td>1.000000</td>\n",
       "      <td>0.173768</td>\n",
       "      <td>0.353529</td>\n",
       "      <td>0.101982</td>\n",
       "      <td>0.282532</td>\n",
       "      <td>-0.059783</td>\n",
       "      <td>...</td>\n",
       "      <td>0.318217</td>\n",
       "      <td>0.055471</td>\n",
       "      <td>-0.199839</td>\n",
       "      <td>0.052383</td>\n",
       "      <td>0.241856</td>\n",
       "      <td>0.756208</td>\n",
       "      <td>0.184801</td>\n",
       "      <td>0.050640</td>\n",
       "      <td>0.076427</td>\n",
       "      <td>-0.032489</td>\n",
       "    </tr>\n",
       "    <tr>\n",
       "      <th>sqft_lot</th>\n",
       "      <td>-0.132061</td>\n",
       "      <td>0.090338</td>\n",
       "      <td>0.032735</td>\n",
       "      <td>0.088921</td>\n",
       "      <td>0.173768</td>\n",
       "      <td>1.000000</td>\n",
       "      <td>-0.005025</td>\n",
       "      <td>0.021465</td>\n",
       "      <td>0.075298</td>\n",
       "      <td>-0.008375</td>\n",
       "      <td>...</td>\n",
       "      <td>0.052646</td>\n",
       "      <td>0.004661</td>\n",
       "      <td>-0.129846</td>\n",
       "      <td>-0.085143</td>\n",
       "      <td>0.230137</td>\n",
       "      <td>0.145142</td>\n",
       "      <td>0.717095</td>\n",
       "      <td>0.005203</td>\n",
       "      <td>-0.252470</td>\n",
       "      <td>-0.252465</td>\n",
       "    </tr>\n",
       "    <tr>\n",
       "      <th>floors</th>\n",
       "      <td>0.018573</td>\n",
       "      <td>0.257052</td>\n",
       "      <td>0.177391</td>\n",
       "      <td>0.502285</td>\n",
       "      <td>0.353529</td>\n",
       "      <td>-0.005025</td>\n",
       "      <td>1.000000</td>\n",
       "      <td>0.020357</td>\n",
       "      <td>0.028436</td>\n",
       "      <td>-0.264138</td>\n",
       "      <td>...</td>\n",
       "      <td>0.489410</td>\n",
       "      <td>0.002978</td>\n",
       "      <td>-0.058966</td>\n",
       "      <td>0.049419</td>\n",
       "      <td>0.125329</td>\n",
       "      <td>0.279176</td>\n",
       "      <td>-0.010850</td>\n",
       "      <td>0.003236</td>\n",
       "      <td>0.557130</td>\n",
       "      <td>0.494861</td>\n",
       "    </tr>\n",
       "    <tr>\n",
       "      <th>waterfront</th>\n",
       "      <td>-0.004259</td>\n",
       "      <td>0.259220</td>\n",
       "      <td>-0.003733</td>\n",
       "      <td>0.061115</td>\n",
       "      <td>0.101982</td>\n",
       "      <td>0.021465</td>\n",
       "      <td>0.020357</td>\n",
       "      <td>1.000000</td>\n",
       "      <td>0.382000</td>\n",
       "      <td>0.016224</td>\n",
       "      <td>...</td>\n",
       "      <td>-0.025000</td>\n",
       "      <td>0.081909</td>\n",
       "      <td>0.029490</td>\n",
       "      <td>-0.012282</td>\n",
       "      <td>-0.037845</td>\n",
       "      <td>0.082352</td>\n",
       "      <td>0.030605</td>\n",
       "      <td>0.074657</td>\n",
       "      <td>-0.029894</td>\n",
       "      <td>-0.042551</td>\n",
       "    </tr>\n",
       "    <tr>\n",
       "      <th>view</th>\n",
       "      <td>0.011592</td>\n",
       "      <td>0.395734</td>\n",
       "      <td>0.078523</td>\n",
       "      <td>0.186451</td>\n",
       "      <td>0.282532</td>\n",
       "      <td>0.075298</td>\n",
       "      <td>0.028436</td>\n",
       "      <td>0.382000</td>\n",
       "      <td>1.000000</td>\n",
       "      <td>0.045735</td>\n",
       "      <td>...</td>\n",
       "      <td>-0.054564</td>\n",
       "      <td>0.100964</td>\n",
       "      <td>0.085277</td>\n",
       "      <td>0.006141</td>\n",
       "      <td>-0.077894</td>\n",
       "      <td>0.279561</td>\n",
       "      <td>0.073332</td>\n",
       "      <td>0.090465</td>\n",
       "      <td>-0.002310</td>\n",
       "      <td>-0.013922</td>\n",
       "    </tr>\n",
       "    <tr>\n",
       "      <th>condition</th>\n",
       "      <td>-0.023944</td>\n",
       "      <td>0.035393</td>\n",
       "      <td>0.026402</td>\n",
       "      <td>-0.126682</td>\n",
       "      <td>-0.059783</td>\n",
       "      <td>-0.008375</td>\n",
       "      <td>-0.264138</td>\n",
       "      <td>0.016224</td>\n",
       "      <td>0.045735</td>\n",
       "      <td>1.000000</td>\n",
       "      <td>...</td>\n",
       "      <td>-0.361398</td>\n",
       "      <td>-0.061764</td>\n",
       "      <td>0.002125</td>\n",
       "      <td>-0.015594</td>\n",
       "      <td>-0.105475</td>\n",
       "      <td>-0.093172</td>\n",
       "      <td>-0.002702</td>\n",
       "      <td>-0.055304</td>\n",
       "      <td>-0.157109</td>\n",
       "      <td>-0.175018</td>\n",
       "    </tr>\n",
       "    <tr>\n",
       "      <th>grade</th>\n",
       "      <td>0.008331</td>\n",
       "      <td>0.668307</td>\n",
       "      <td>0.356095</td>\n",
       "      <td>0.665312</td>\n",
       "      <td>0.762398</td>\n",
       "      <td>0.115122</td>\n",
       "      <td>0.458694</td>\n",
       "      <td>0.081195</td>\n",
       "      <td>0.249727</td>\n",
       "      <td>-0.147326</td>\n",
       "      <td>...</td>\n",
       "      <td>0.448255</td>\n",
       "      <td>0.016186</td>\n",
       "      <td>-0.185710</td>\n",
       "      <td>0.113787</td>\n",
       "      <td>0.200821</td>\n",
       "      <td>0.713462</td>\n",
       "      <td>0.121435</td>\n",
       "      <td>0.014870</td>\n",
       "      <td>0.191191</td>\n",
       "      <td>0.130417</td>\n",
       "    </tr>\n",
       "    <tr>\n",
       "      <th>sqft_above</th>\n",
       "      <td>-0.010967</td>\n",
       "      <td>0.605695</td>\n",
       "      <td>0.479148</td>\n",
       "      <td>0.686173</td>\n",
       "      <td>0.876553</td>\n",
       "      <td>0.184325</td>\n",
       "      <td>0.523367</td>\n",
       "      <td>0.069931</td>\n",
       "      <td>0.166299</td>\n",
       "      <td>-0.158830</td>\n",
       "      <td>...</td>\n",
       "      <td>0.423999</td>\n",
       "      <td>0.021654</td>\n",
       "      <td>-0.261480</td>\n",
       "      <td>-0.000889</td>\n",
       "      <td>0.345051</td>\n",
       "      <td>0.731543</td>\n",
       "      <td>0.195413</td>\n",
       "      <td>0.020136</td>\n",
       "      <td>0.051081</td>\n",
       "      <td>-0.015283</td>\n",
       "    </tr>\n",
       "    <tr>\n",
       "      <th>yr_built</th>\n",
       "      <td>0.021609</td>\n",
       "      <td>0.054273</td>\n",
       "      <td>0.155462</td>\n",
       "      <td>0.507565</td>\n",
       "      <td>0.318217</td>\n",
       "      <td>0.052646</td>\n",
       "      <td>0.489410</td>\n",
       "      <td>-0.025000</td>\n",
       "      <td>-0.054564</td>\n",
       "      <td>-0.361398</td>\n",
       "      <td>...</td>\n",
       "      <td>1.000000</td>\n",
       "      <td>-0.225153</td>\n",
       "      <td>-0.346585</td>\n",
       "      <td>-0.147850</td>\n",
       "      <td>0.409666</td>\n",
       "      <td>0.326539</td>\n",
       "      <td>0.070562</td>\n",
       "      <td>-0.202750</td>\n",
       "      <td>0.279597</td>\n",
       "      <td>0.238930</td>\n",
       "    </tr>\n",
       "    <tr>\n",
       "      <th>yr_renovated</th>\n",
       "      <td>-0.011802</td>\n",
       "      <td>0.129887</td>\n",
       "      <td>0.018419</td>\n",
       "      <td>0.050786</td>\n",
       "      <td>0.055471</td>\n",
       "      <td>0.004661</td>\n",
       "      <td>0.002978</td>\n",
       "      <td>0.081909</td>\n",
       "      <td>0.100964</td>\n",
       "      <td>-0.061764</td>\n",
       "      <td>...</td>\n",
       "      <td>-0.225153</td>\n",
       "      <td>1.000000</td>\n",
       "      <td>0.069868</td>\n",
       "      <td>0.031972</td>\n",
       "      <td>-0.072161</td>\n",
       "      <td>-0.000665</td>\n",
       "      <td>0.004028</td>\n",
       "      <td>0.999968</td>\n",
       "      <td>-0.002154</td>\n",
       "      <td>-0.033864</td>\n",
       "    </tr>\n",
       "    <tr>\n",
       "      <th>zipcode</th>\n",
       "      <td>-0.008027</td>\n",
       "      <td>-0.053620</td>\n",
       "      <td>-0.153990</td>\n",
       "      <td>-0.204435</td>\n",
       "      <td>-0.199839</td>\n",
       "      <td>-0.129846</td>\n",
       "      <td>-0.058966</td>\n",
       "      <td>0.029490</td>\n",
       "      <td>0.085277</td>\n",
       "      <td>0.002125</td>\n",
       "      <td>...</td>\n",
       "      <td>-0.346585</td>\n",
       "      <td>0.069868</td>\n",
       "      <td>1.000000</td>\n",
       "      <td>0.266595</td>\n",
       "      <td>-0.564279</td>\n",
       "      <td>-0.279375</td>\n",
       "      <td>-0.147519</td>\n",
       "      <td>0.062403</td>\n",
       "      <td>0.177568</td>\n",
       "      <td>0.150364</td>\n",
       "    </tr>\n",
       "    <tr>\n",
       "      <th>lat</th>\n",
       "      <td>-0.002001</td>\n",
       "      <td>0.307868</td>\n",
       "      <td>-0.010415</td>\n",
       "      <td>0.024487</td>\n",
       "      <td>0.052383</td>\n",
       "      <td>-0.085143</td>\n",
       "      <td>0.049419</td>\n",
       "      <td>-0.012282</td>\n",
       "      <td>0.006141</td>\n",
       "      <td>-0.015594</td>\n",
       "      <td>...</td>\n",
       "      <td>-0.147850</td>\n",
       "      <td>0.031972</td>\n",
       "      <td>0.266595</td>\n",
       "      <td>1.000000</td>\n",
       "      <td>-0.135439</td>\n",
       "      <td>0.048569</td>\n",
       "      <td>-0.086035</td>\n",
       "      <td>0.027730</td>\n",
       "      <td>0.164529</td>\n",
       "      <td>0.153384</td>\n",
       "    </tr>\n",
       "    <tr>\n",
       "      <th>long</th>\n",
       "      <td>0.020637</td>\n",
       "      <td>0.022417</td>\n",
       "      <td>0.132318</td>\n",
       "      <td>0.225025</td>\n",
       "      <td>0.241856</td>\n",
       "      <td>0.230137</td>\n",
       "      <td>0.125329</td>\n",
       "      <td>-0.037845</td>\n",
       "      <td>-0.077894</td>\n",
       "      <td>-0.105475</td>\n",
       "      <td>...</td>\n",
       "      <td>0.409666</td>\n",
       "      <td>-0.072161</td>\n",
       "      <td>-0.564279</td>\n",
       "      <td>-0.135439</td>\n",
       "      <td>1.000000</td>\n",
       "      <td>0.336019</td>\n",
       "      <td>0.255283</td>\n",
       "      <td>-0.064514</td>\n",
       "      <td>-0.204257</td>\n",
       "      <td>-0.169950</td>\n",
       "    </tr>\n",
       "    <tr>\n",
       "      <th>sqft_living15</th>\n",
       "      <td>-0.002707</td>\n",
       "      <td>0.585304</td>\n",
       "      <td>0.392874</td>\n",
       "      <td>0.569139</td>\n",
       "      <td>0.756208</td>\n",
       "      <td>0.145142</td>\n",
       "      <td>0.279176</td>\n",
       "      <td>0.082352</td>\n",
       "      <td>0.279561</td>\n",
       "      <td>-0.093172</td>\n",
       "      <td>...</td>\n",
       "      <td>0.326539</td>\n",
       "      <td>-0.000665</td>\n",
       "      <td>-0.279375</td>\n",
       "      <td>0.048569</td>\n",
       "      <td>0.336019</td>\n",
       "      <td>1.000000</td>\n",
       "      <td>0.183952</td>\n",
       "      <td>0.000247</td>\n",
       "      <td>-0.042700</td>\n",
       "      <td>0.000484</td>\n",
       "    </tr>\n",
       "    <tr>\n",
       "      <th>sqft_lot15</th>\n",
       "      <td>-0.138607</td>\n",
       "      <td>0.083189</td>\n",
       "      <td>0.030952</td>\n",
       "      <td>0.088854</td>\n",
       "      <td>0.184801</td>\n",
       "      <td>0.717095</td>\n",
       "      <td>-0.010850</td>\n",
       "      <td>0.030605</td>\n",
       "      <td>0.073332</td>\n",
       "      <td>-0.002702</td>\n",
       "      <td>...</td>\n",
       "      <td>0.070562</td>\n",
       "      <td>0.004028</td>\n",
       "      <td>-0.147519</td>\n",
       "      <td>-0.086035</td>\n",
       "      <td>0.255283</td>\n",
       "      <td>0.183952</td>\n",
       "      <td>1.000000</td>\n",
       "      <td>0.004508</td>\n",
       "      <td>-0.277178</td>\n",
       "      <td>-0.313484</td>\n",
       "    </tr>\n",
       "    <tr>\n",
       "      <th>was_renovated</th>\n",
       "      <td>-0.010481</td>\n",
       "      <td>0.117668</td>\n",
       "      <td>0.017531</td>\n",
       "      <td>0.046519</td>\n",
       "      <td>0.050640</td>\n",
       "      <td>0.005203</td>\n",
       "      <td>0.003236</td>\n",
       "      <td>0.074657</td>\n",
       "      <td>0.090465</td>\n",
       "      <td>-0.055304</td>\n",
       "      <td>...</td>\n",
       "      <td>-0.202750</td>\n",
       "      <td>0.999968</td>\n",
       "      <td>0.062403</td>\n",
       "      <td>0.027730</td>\n",
       "      <td>-0.064514</td>\n",
       "      <td>0.000247</td>\n",
       "      <td>0.004508</td>\n",
       "      <td>1.000000</td>\n",
       "      <td>-0.002176</td>\n",
       "      <td>-0.031047</td>\n",
       "    </tr>\n",
       "    <tr>\n",
       "      <th>living-lot-ratio</th>\n",
       "      <td>0.088188</td>\n",
       "      <td>0.123050</td>\n",
       "      <td>0.026503</td>\n",
       "      <td>0.286945</td>\n",
       "      <td>0.076427</td>\n",
       "      <td>-0.252470</td>\n",
       "      <td>0.557130</td>\n",
       "      <td>-0.029894</td>\n",
       "      <td>-0.002310</td>\n",
       "      <td>-0.157109</td>\n",
       "      <td>...</td>\n",
       "      <td>0.279597</td>\n",
       "      <td>-0.002154</td>\n",
       "      <td>0.177568</td>\n",
       "      <td>0.164529</td>\n",
       "      <td>-0.204257</td>\n",
       "      <td>-0.042700</td>\n",
       "      <td>-0.277178</td>\n",
       "      <td>-0.002176</td>\n",
       "      <td>1.000000</td>\n",
       "      <td>0.848737</td>\n",
       "    </tr>\n",
       "    <tr>\n",
       "      <th>living-lot-ratio15</th>\n",
       "      <td>0.099755</td>\n",
       "      <td>0.065531</td>\n",
       "      <td>-0.060570</td>\n",
       "      <td>0.186403</td>\n",
       "      <td>-0.032489</td>\n",
       "      <td>-0.252465</td>\n",
       "      <td>0.494861</td>\n",
       "      <td>-0.042551</td>\n",
       "      <td>-0.013922</td>\n",
       "      <td>-0.175018</td>\n",
       "      <td>...</td>\n",
       "      <td>0.238930</td>\n",
       "      <td>-0.033864</td>\n",
       "      <td>0.150364</td>\n",
       "      <td>0.153384</td>\n",
       "      <td>-0.169950</td>\n",
       "      <td>0.000484</td>\n",
       "      <td>-0.313484</td>\n",
       "      <td>-0.031047</td>\n",
       "      <td>0.848737</td>\n",
       "      <td>1.000000</td>\n",
       "    </tr>\n",
       "  </tbody>\n",
       "</table>\n",
       "<p>22 rows × 22 columns</p>\n",
       "</div>"
      ],
      "text/plain": [
       "                          id     price  bedrooms  bathrooms  sqft_living  \\\n",
       "id                  1.000000 -0.017392  0.000991   0.004971    -0.012381   \n",
       "price              -0.017392  1.000000  0.308063   0.525053     0.701587   \n",
       "bedrooms            0.000991  0.308063  1.000000   0.514368     0.577934   \n",
       "bathrooms           0.004971  0.525053  0.514368   1.000000     0.755277   \n",
       "sqft_living        -0.012381  0.701587  0.577934   0.755277     1.000000   \n",
       "sqft_lot           -0.132061  0.090338  0.032735   0.088921     0.173768   \n",
       "floors              0.018573  0.257052  0.177391   0.502285     0.353529   \n",
       "waterfront         -0.004259  0.259220 -0.003733   0.061115     0.101982   \n",
       "view                0.011592  0.395734  0.078523   0.186451     0.282532   \n",
       "condition          -0.023944  0.035393  0.026402  -0.126682    -0.059783   \n",
       "grade               0.008331  0.668307  0.356095   0.665312     0.762398   \n",
       "sqft_above         -0.010967  0.605695  0.479148   0.686173     0.876553   \n",
       "yr_built            0.021609  0.054273  0.155462   0.507565     0.318217   \n",
       "yr_renovated       -0.011802  0.129887  0.018419   0.050786     0.055471   \n",
       "zipcode            -0.008027 -0.053620 -0.153990  -0.204435    -0.199839   \n",
       "lat                -0.002001  0.307868 -0.010415   0.024487     0.052383   \n",
       "long                0.020637  0.022417  0.132318   0.225025     0.241856   \n",
       "sqft_living15      -0.002707  0.585304  0.392874   0.569139     0.756208   \n",
       "sqft_lot15         -0.138607  0.083189  0.030952   0.088854     0.184801   \n",
       "was_renovated      -0.010481  0.117668  0.017531   0.046519     0.050640   \n",
       "living-lot-ratio    0.088188  0.123050  0.026503   0.286945     0.076427   \n",
       "living-lot-ratio15  0.099755  0.065531 -0.060570   0.186403    -0.032489   \n",
       "\n",
       "                    sqft_lot    floors  waterfront      view  condition  \\\n",
       "id                 -0.132061  0.018573   -0.004259  0.011592  -0.023944   \n",
       "price               0.090338  0.257052    0.259220  0.395734   0.035393   \n",
       "bedrooms            0.032735  0.177391   -0.003733  0.078523   0.026402   \n",
       "bathrooms           0.088921  0.502285    0.061115  0.186451  -0.126682   \n",
       "sqft_living         0.173768  0.353529    0.101982  0.282532  -0.059783   \n",
       "sqft_lot            1.000000 -0.005025    0.021465  0.075298  -0.008375   \n",
       "floors             -0.005025  1.000000    0.020357  0.028436  -0.264138   \n",
       "waterfront          0.021465  0.020357    1.000000  0.382000   0.016224   \n",
       "view                0.075298  0.028436    0.382000  1.000000   0.045735   \n",
       "condition          -0.008375 -0.264138    0.016224  0.045735   1.000000   \n",
       "grade               0.115122  0.458694    0.081195  0.249727  -0.147326   \n",
       "sqft_above          0.184325  0.523367    0.069931  0.166299  -0.158830   \n",
       "yr_built            0.052646  0.489410   -0.025000 -0.054564  -0.361398   \n",
       "yr_renovated        0.004661  0.002978    0.081909  0.100964  -0.061764   \n",
       "zipcode            -0.129846 -0.058966    0.029490  0.085277   0.002125   \n",
       "lat                -0.085143  0.049419   -0.012282  0.006141  -0.015594   \n",
       "long                0.230137  0.125329   -0.037845 -0.077894  -0.105475   \n",
       "sqft_living15       0.145142  0.279176    0.082352  0.279561  -0.093172   \n",
       "sqft_lot15          0.717095 -0.010850    0.030605  0.073332  -0.002702   \n",
       "was_renovated       0.005203  0.003236    0.074657  0.090465  -0.055304   \n",
       "living-lot-ratio   -0.252470  0.557130   -0.029894 -0.002310  -0.157109   \n",
       "living-lot-ratio15 -0.252465  0.494861   -0.042551 -0.013922  -0.175018   \n",
       "\n",
       "                           ...          yr_built  yr_renovated   zipcode  \\\n",
       "id                         ...          0.021609     -0.011802 -0.008027   \n",
       "price                      ...          0.054273      0.129887 -0.053620   \n",
       "bedrooms                   ...          0.155462      0.018419 -0.153990   \n",
       "bathrooms                  ...          0.507565      0.050786 -0.204435   \n",
       "sqft_living                ...          0.318217      0.055471 -0.199839   \n",
       "sqft_lot                   ...          0.052646      0.004661 -0.129846   \n",
       "floors                     ...          0.489410      0.002978 -0.058966   \n",
       "waterfront                 ...         -0.025000      0.081909  0.029490   \n",
       "view                       ...         -0.054564      0.100964  0.085277   \n",
       "condition                  ...         -0.361398     -0.061764  0.002125   \n",
       "grade                      ...          0.448255      0.016186 -0.185710   \n",
       "sqft_above                 ...          0.423999      0.021654 -0.261480   \n",
       "yr_built                   ...          1.000000     -0.225153 -0.346585   \n",
       "yr_renovated               ...         -0.225153      1.000000  0.069868   \n",
       "zipcode                    ...         -0.346585      0.069868  1.000000   \n",
       "lat                        ...         -0.147850      0.031972  0.266595   \n",
       "long                       ...          0.409666     -0.072161 -0.564279   \n",
       "sqft_living15              ...          0.326539     -0.000665 -0.279375   \n",
       "sqft_lot15                 ...          0.070562      0.004028 -0.147519   \n",
       "was_renovated              ...         -0.202750      0.999968  0.062403   \n",
       "living-lot-ratio           ...          0.279597     -0.002154  0.177568   \n",
       "living-lot-ratio15         ...          0.238930     -0.033864  0.150364   \n",
       "\n",
       "                         lat      long  sqft_living15  sqft_lot15  \\\n",
       "id                 -0.002001  0.020637      -0.002707   -0.138607   \n",
       "price               0.307868  0.022417       0.585304    0.083189   \n",
       "bedrooms           -0.010415  0.132318       0.392874    0.030952   \n",
       "bathrooms           0.024487  0.225025       0.569139    0.088854   \n",
       "sqft_living         0.052383  0.241856       0.756208    0.184801   \n",
       "sqft_lot           -0.085143  0.230137       0.145142    0.717095   \n",
       "floors              0.049419  0.125329       0.279176   -0.010850   \n",
       "waterfront         -0.012282 -0.037845       0.082352    0.030605   \n",
       "view                0.006141 -0.077894       0.279561    0.073332   \n",
       "condition          -0.015594 -0.105475      -0.093172   -0.002702   \n",
       "grade               0.113787  0.200821       0.713462    0.121435   \n",
       "sqft_above         -0.000889  0.345051       0.731543    0.195413   \n",
       "yr_built           -0.147850  0.409666       0.326539    0.070562   \n",
       "yr_renovated        0.031972 -0.072161      -0.000665    0.004028   \n",
       "zipcode             0.266595 -0.564279      -0.279375   -0.147519   \n",
       "lat                 1.000000 -0.135439       0.048569   -0.086035   \n",
       "long               -0.135439  1.000000       0.336019    0.255283   \n",
       "sqft_living15       0.048569  0.336019       1.000000    0.183952   \n",
       "sqft_lot15         -0.086035  0.255283       0.183952    1.000000   \n",
       "was_renovated       0.027730 -0.064514       0.000247    0.004508   \n",
       "living-lot-ratio    0.164529 -0.204257      -0.042700   -0.277178   \n",
       "living-lot-ratio15  0.153384 -0.169950       0.000484   -0.313484   \n",
       "\n",
       "                    was_renovated  living-lot-ratio  living-lot-ratio15  \n",
       "id                      -0.010481          0.088188            0.099755  \n",
       "price                    0.117668          0.123050            0.065531  \n",
       "bedrooms                 0.017531          0.026503           -0.060570  \n",
       "bathrooms                0.046519          0.286945            0.186403  \n",
       "sqft_living              0.050640          0.076427           -0.032489  \n",
       "sqft_lot                 0.005203         -0.252470           -0.252465  \n",
       "floors                   0.003236          0.557130            0.494861  \n",
       "waterfront               0.074657         -0.029894           -0.042551  \n",
       "view                     0.090465         -0.002310           -0.013922  \n",
       "condition               -0.055304         -0.157109           -0.175018  \n",
       "grade                    0.014870          0.191191            0.130417  \n",
       "sqft_above               0.020136          0.051081           -0.015283  \n",
       "yr_built                -0.202750          0.279597            0.238930  \n",
       "yr_renovated             0.999968         -0.002154           -0.033864  \n",
       "zipcode                  0.062403          0.177568            0.150364  \n",
       "lat                      0.027730          0.164529            0.153384  \n",
       "long                    -0.064514         -0.204257           -0.169950  \n",
       "sqft_living15            0.000247         -0.042700            0.000484  \n",
       "sqft_lot15               0.004508         -0.277178           -0.313484  \n",
       "was_renovated            1.000000         -0.002176           -0.031047  \n",
       "living-lot-ratio        -0.002176          1.000000            0.848737  \n",
       "living-lot-ratio15      -0.031047          0.848737            1.000000  \n",
       "\n",
       "[22 rows x 22 columns]"
      ]
     },
     "execution_count": 37,
     "metadata": {},
     "output_type": "execute_result"
    }
   ],
   "source": [
    "kc_houses.corr()"
   ]
  },
  {
   "cell_type": "code",
   "execution_count": 69,
   "metadata": {},
   "outputs": [
    {
     "data": {
      "text/plain": [
       "<matplotlib.collections.PathCollection at 0x114e29208>"
      ]
     },
     "execution_count": 69,
     "metadata": {},
     "output_type": "execute_result"
    },
    {
     "data": {
      "image/png": "[encoded data removed]",
      "text/plain": [
       "<Figure size 432x288 with 1 Axes>"
      ]
     },
     "metadata": {
      "needs_background": "light"
     },
     "output_type": "display_data"
    }
   ],
   "source": [
    "plt.scatter(kc_houses['view'],kc_houses['price'])"
   ]
  },
  {
   "cell_type": "code",
   "execution_count": 22,
   "metadata": {},
   "outputs": [
    {
     "data": {
      "text/plain": [
       "70"
      ]
     },
     "execution_count": 22,
     "metadata": {},
     "output_type": "execute_result"
    }
   ],
   "source": [
    "kc_houses['zipcode'].nunique()"
   ]
  },
  {
   "cell_type": "code",
   "execution_count": 32,
   "metadata": {},
   "outputs": [
    {
     "data": {
      "text/plain": [
       "<matplotlib.axes._subplots.AxesSubplot at 0x1a1dfbb6d8>"
      ]
     },
     "execution_count": 32,
     "metadata": {},
     "output_type": "execute_result"
    },
    {
     "data": {
      "image/png": "[encoded data removed]",
      "text/plain": [
       "<Figure size 432x288 with 1 Axes>"
      ]
     },
     "metadata": {
      "needs_background": "light"
     },
     "output_type": "display_data"
    }
   ],
   "source": [
    "kc_houses.groupby('zipcode')['price'].median().hist(bins = 30)"
   ]
  },
  {
   "cell_type": "code",
   "execution_count": null,
   "metadata": {},
   "outputs": [],
   "source": [
    "plt.hist(kc_houses['sqft_living15'])"
   ]
  },
  {
   "cell_type": "code",
   "execution_count": 72,
   "metadata": {},
   "outputs": [
    {
     "data": {
      "text/plain": [
       "(array([3.000e+00, 5.000e+00, 1.290e+02, 1.353e+03, 5.251e+03, 6.531e+03,\n",
       "        4.811e+03, 2.385e+03, 5.590e+02, 5.500e+01]),\n",
       " array([5.98896142, 6.26345689, 6.53795237, 6.81244784, 7.08694332,\n",
       "        7.3614388 , 7.63593427, 7.91042975, 8.18492522, 8.4594207 ,\n",
       "        8.73391617]),\n",
       " <a list of 10 Patch objects>)"
      ]
     },
     "execution_count": 72,
     "metadata": {},
     "output_type": "execute_result"
    },
    {
     "data": {
      "image/png": "[encoded data removed]",
      "text/plain": [
       "<Figure size 432x288 with 1 Axes>"
      ]
     },
     "metadata": {
      "needs_background": "light"
     },
     "output_type": "display_data"
    }
   ],
   "source": [
    "import numpy as np\n",
    "plt.hist(np.log(kc_houses['sqft_living15']))"
   ]
  },
  {
   "cell_type": "code",
   "execution_count": 73,
   "metadata": {},
   "outputs": [],
   "source": [
    "kc_houses['log_sqft_liv'] = np.log(kc_houses['sqft_living15'])"
   ]
  },
  {
   "cell_type": "code",
   "execution_count": 74,
   "metadata": {},
   "outputs": [
    {
     "data": {
      "text/plain": [
       "<matplotlib.collections.PathCollection at 0x1a20bf5748>"
      ]
     },
     "execution_count": 74,
     "metadata": {},
     "output_type": "execute_result"
    },
    {
     "data": {
      "image/png": "[encoded data removed]",
      "text/plain": [
       "<Figure size 432x288 with 1 Axes>"
      ]
     },
     "metadata": {
      "needs_background": "light"
     },
     "output_type": "display_data"
    }
   ],
   "source": [
    "from sklearn.linear_model import LinearRegression as LinReg\n",
    "house_model = LinReg()\n",
    "to_model = kc_houses[['condition','log_sqft_liv']]\n",
    "mod = house_model.fit(to_model,np.log(kc_houses['price']))\n",
    "y_pred = mod.predict(to_model)\n",
    "plt.scatter(y_pred,np.log(kc_houses['price']))"
   ]
  },
  {
   "cell_type": "code",
   "execution_count": 75,
   "metadata": {},
   "outputs": [
    {
     "data": {
      "text/plain": [
       "0.3359501108224201"
      ]
     },
     "execution_count": 75,
     "metadata": {},
     "output_type": "execute_result"
    }
   ],
   "source": [
    "from sklearn.metrics import explained_variance_score\n",
    "explained_variance_score(kc_houses['price'],np.e**y_pred)"
   ]
  },
  {
   "cell_type": "code",
   "execution_count": 30,
   "metadata": {},
   "outputs": [
    {
     "name": "stderr",
     "output_type": "stream",
     "text": [
      "/anaconda3/envs/learn-env/lib/python3.6/site-packages/ipykernel_launcher.py:1: FutureWarning: Method .as_matrix will be removed in a future version. Use .values instead.\n",
      "  \"\"\"Entry point for launching an IPython kernel.\n"
     ]
    },
    {
     "data": {
      "text/plain": [
       "<matplotlib.collections.PathCollection at 0x1a1e07e5c0>"
      ]
     },
     "execution_count": 30,
     "metadata": {},
     "output_type": "execute_result"
    },
    {
     "data": {
      "image/png": "[encoded data removed]",
      "text/plain": [
       "<Figure size 432x288 with 1 Axes>"
      ]
     },
     "metadata": {
      "needs_background": "light"
     },
     "output_type": "display_data"
    }
   ],
   "source": [
    "everything = kc_houses['living-lot-ratio'].as_matrix().reshape(-1,1)\n",
    "mod = house_model.fit(everything,np.log(kc_houses['price']))\n",
    "y_pred = mod.predict(everything)\n",
    "plt.scatter(y_pred,np.log(kc_houses['price']))"
   ]
  },
  {
   "cell_type": "code",
   "execution_count": null,
   "metadata": {},
   "outputs": [],
   "source": [
    "#ask Bryan how to encode 70 categories"
   ]
  },
  {
   "cell_type": "code",
   "execution_count": 76,
   "metadata": {},
   "outputs": [
    {
     "ename": "ValueError",
     "evalue": "Input contains NaN, infinity or a value too large for dtype('float64').",
     "output_type": "error",
     "traceback": [
      "\u001b[0;31m---------------------------------------------------------------------------\u001b[0m",
      "\u001b[0;31mValueError\u001b[0m                                Traceback (most recent call last)",
      "\u001b[0;32m<ipython-input-76-3d7c4d2eee5d>\u001b[0m in \u001b[0;36m<module>\u001b[0;34m()\u001b[0m\n\u001b[1;32m      1\u001b[0m \u001b[0meverything\u001b[0m \u001b[0;34m=\u001b[0m \u001b[0mkc_houses\u001b[0m\u001b[0;34m.\u001b[0m\u001b[0mdrop\u001b[0m\u001b[0;34m(\u001b[0m\u001b[0mcolumns\u001b[0m \u001b[0;34m=\u001b[0m \u001b[0;34m[\u001b[0m\u001b[0;34m'id'\u001b[0m\u001b[0;34m,\u001b[0m\u001b[0;34m'date'\u001b[0m\u001b[0;34m,\u001b[0m\u001b[0;34m'price'\u001b[0m\u001b[0;34m]\u001b[0m\u001b[0;34m)\u001b[0m\u001b[0;34m\u001b[0m\u001b[0m\n\u001b[0;32m----> 2\u001b[0;31m \u001b[0mmod\u001b[0m \u001b[0;34m=\u001b[0m \u001b[0mhouse_model\u001b[0m\u001b[0;34m.\u001b[0m\u001b[0mfit\u001b[0m\u001b[0;34m(\u001b[0m\u001b[0meverything\u001b[0m\u001b[0;34m,\u001b[0m\u001b[0mnp\u001b[0m\u001b[0;34m.\u001b[0m\u001b[0mlog\u001b[0m\u001b[0;34m(\u001b[0m\u001b[0mkc_houses\u001b[0m\u001b[0;34m[\u001b[0m\u001b[0;34m'price'\u001b[0m\u001b[0;34m]\u001b[0m\u001b[0;34m)\u001b[0m\u001b[0;34m)\u001b[0m\u001b[0;34m\u001b[0m\u001b[0m\n\u001b[0m\u001b[1;32m      3\u001b[0m \u001b[0my_pred\u001b[0m \u001b[0;34m=\u001b[0m \u001b[0mmod\u001b[0m\u001b[0;34m.\u001b[0m\u001b[0mpredict\u001b[0m\u001b[0;34m(\u001b[0m\u001b[0meverything\u001b[0m\u001b[0;34m)\u001b[0m\u001b[0;34m\u001b[0m\u001b[0m\n\u001b[1;32m      4\u001b[0m \u001b[0mplt\u001b[0m\u001b[0;34m.\u001b[0m\u001b[0mscatter\u001b[0m\u001b[0;34m(\u001b[0m\u001b[0my_pred\u001b[0m\u001b[0;34m,\u001b[0m\u001b[0mnp\u001b[0m\u001b[0;34m.\u001b[0m\u001b[0mlog\u001b[0m\u001b[0;34m(\u001b[0m\u001b[0mkc_houses\u001b[0m\u001b[0;34m[\u001b[0m\u001b[0;34m'price'\u001b[0m\u001b[0;34m]\u001b[0m\u001b[0;34m)\u001b[0m\u001b[0;34m)\u001b[0m\u001b[0;34m\u001b[0m\u001b[0m\n",
      "\u001b[0;32m/anaconda3/envs/learn-env/lib/python3.6/site-packages/sklearn/linear_model/base.py\u001b[0m in \u001b[0;36mfit\u001b[0;34m(self, X, y, sample_weight)\u001b[0m\n\u001b[1;32m    456\u001b[0m         \u001b[0mn_jobs_\u001b[0m \u001b[0;34m=\u001b[0m \u001b[0mself\u001b[0m\u001b[0;34m.\u001b[0m\u001b[0mn_jobs\u001b[0m\u001b[0;34m\u001b[0m\u001b[0m\n\u001b[1;32m    457\u001b[0m         X, y = check_X_y(X, y, accept_sparse=['csr', 'csc', 'coo'],\n\u001b[0;32m--> 458\u001b[0;31m                          y_numeric=True, multi_output=True)\n\u001b[0m\u001b[1;32m    459\u001b[0m \u001b[0;34m\u001b[0m\u001b[0m\n\u001b[1;32m    460\u001b[0m         \u001b[0;32mif\u001b[0m \u001b[0msample_weight\u001b[0m \u001b[0;32mis\u001b[0m \u001b[0;32mnot\u001b[0m \u001b[0;32mNone\u001b[0m \u001b[0;32mand\u001b[0m \u001b[0mnp\u001b[0m\u001b[0;34m.\u001b[0m\u001b[0matleast_1d\u001b[0m\u001b[0;34m(\u001b[0m\u001b[0msample_weight\u001b[0m\u001b[0;34m)\u001b[0m\u001b[0;34m.\u001b[0m\u001b[0mndim\u001b[0m \u001b[0;34m>\u001b[0m \u001b[0;36m1\u001b[0m\u001b[0;34m:\u001b[0m\u001b[0;34m\u001b[0m\u001b[0m\n",
      "\u001b[0;32m/anaconda3/envs/learn-env/lib/python3.6/site-packages/sklearn/utils/validation.py\u001b[0m in \u001b[0;36mcheck_X_y\u001b[0;34m(X, y, accept_sparse, accept_large_sparse, dtype, order, copy, force_all_finite, ensure_2d, allow_nd, multi_output, ensure_min_samples, ensure_min_features, y_numeric, warn_on_dtype, estimator)\u001b[0m\n\u001b[1;32m    754\u001b[0m                     \u001b[0mensure_min_features\u001b[0m\u001b[0;34m=\u001b[0m\u001b[0mensure_min_features\u001b[0m\u001b[0;34m,\u001b[0m\u001b[0;34m\u001b[0m\u001b[0m\n\u001b[1;32m    755\u001b[0m                     \u001b[0mwarn_on_dtype\u001b[0m\u001b[0;34m=\u001b[0m\u001b[0mwarn_on_dtype\u001b[0m\u001b[0;34m,\u001b[0m\u001b[0;34m\u001b[0m\u001b[0m\n\u001b[0;32m--> 756\u001b[0;31m                     estimator=estimator)\n\u001b[0m\u001b[1;32m    757\u001b[0m     \u001b[0;32mif\u001b[0m \u001b[0mmulti_output\u001b[0m\u001b[0;34m:\u001b[0m\u001b[0;34m\u001b[0m\u001b[0m\n\u001b[1;32m    758\u001b[0m         y = check_array(y, 'csr', force_all_finite=True, ensure_2d=False,\n",
      "\u001b[0;32m/anaconda3/envs/learn-env/lib/python3.6/site-packages/sklearn/utils/validation.py\u001b[0m in \u001b[0;36mcheck_array\u001b[0;34m(array, accept_sparse, accept_large_sparse, dtype, order, copy, force_all_finite, ensure_2d, allow_nd, ensure_min_samples, ensure_min_features, warn_on_dtype, estimator)\u001b[0m\n\u001b[1;32m    571\u001b[0m         \u001b[0;32mif\u001b[0m \u001b[0mforce_all_finite\u001b[0m\u001b[0;34m:\u001b[0m\u001b[0;34m\u001b[0m\u001b[0m\n\u001b[1;32m    572\u001b[0m             _assert_all_finite(array,\n\u001b[0;32m--> 573\u001b[0;31m                                allow_nan=force_all_finite == 'allow-nan')\n\u001b[0m\u001b[1;32m    574\u001b[0m \u001b[0;34m\u001b[0m\u001b[0m\n\u001b[1;32m    575\u001b[0m     \u001b[0mshape_repr\u001b[0m \u001b[0;34m=\u001b[0m \u001b[0m_shape_repr\u001b[0m\u001b[0;34m(\u001b[0m\u001b[0marray\u001b[0m\u001b[0;34m.\u001b[0m\u001b[0mshape\u001b[0m\u001b[0;34m)\u001b[0m\u001b[0;34m\u001b[0m\u001b[0m\n",
      "\u001b[0;32m/anaconda3/envs/learn-env/lib/python3.6/site-packages/sklearn/utils/validation.py\u001b[0m in \u001b[0;36m_assert_all_finite\u001b[0;34m(X, allow_nan)\u001b[0m\n\u001b[1;32m     54\u001b[0m                 not allow_nan and not np.isfinite(X).all()):\n\u001b[1;32m     55\u001b[0m             \u001b[0mtype_err\u001b[0m \u001b[0;34m=\u001b[0m \u001b[0;34m'infinity'\u001b[0m \u001b[0;32mif\u001b[0m \u001b[0mallow_nan\u001b[0m \u001b[0;32melse\u001b[0m \u001b[0;34m'NaN, infinity'\u001b[0m\u001b[0;34m\u001b[0m\u001b[0m\n\u001b[0;32m---> 56\u001b[0;31m             \u001b[0;32mraise\u001b[0m \u001b[0mValueError\u001b[0m\u001b[0;34m(\u001b[0m\u001b[0mmsg_err\u001b[0m\u001b[0;34m.\u001b[0m\u001b[0mformat\u001b[0m\u001b[0;34m(\u001b[0m\u001b[0mtype_err\u001b[0m\u001b[0;34m,\u001b[0m \u001b[0mX\u001b[0m\u001b[0;34m.\u001b[0m\u001b[0mdtype\u001b[0m\u001b[0;34m)\u001b[0m\u001b[0;34m)\u001b[0m\u001b[0;34m\u001b[0m\u001b[0m\n\u001b[0m\u001b[1;32m     57\u001b[0m \u001b[0;34m\u001b[0m\u001b[0m\n\u001b[1;32m     58\u001b[0m \u001b[0;34m\u001b[0m\u001b[0m\n",
      "\u001b[0;31mValueError\u001b[0m: Input contains NaN, infinity or a value too large for dtype('float64')."
     ]
    }
   ],
   "source": [
    "everything = kc_houses.drop(columns = ['id','date','price'])\n",
    "mod = house_model.fit(everything,np.log(kc_houses['price']))\n",
    "y_pred = mod.predict(everything)\n",
    "plt.scatter(y_pred,np.log(kc_houses['price']))"
   ]
  },
  {
   "cell_type": "code",
   "execution_count": null,
   "metadata": {},
   "outputs": [],
   "source": []
  }
 ],
 "metadata": {
  "kernelspec": {
   "display_name": "Python 3",
   "language": "python",
   "name": "python3"
  },
  "language_info": {
   "codemirror_mode": {
    "name": "ipython",
    "version": 3
   },
   "file_extension": ".py",
   "mimetype": "text/x-python",
   "name": "python",
   "nbconvert_exporter": "python",
   "pygments_lexer": "ipython3",
   "version": "3.6.6"
  }
 },
 "nbformat": 4,
 "nbformat_minor": 2
}
