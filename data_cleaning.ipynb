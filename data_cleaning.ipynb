{
 "cells": [
  {
   "cell_type": "code",
   "execution_count": 231,
   "metadata": {},
   "outputs": [],
   "source": [
    "import pandas as pd\n",
    "\n",
    "kc_houses = pd.read_csv('/Users/flatironschool/Documents/dsc-v2-mod1-final-project-houston-ds-060319/kc_house_data.csv')"
   ]
  },
  {
   "cell_type": "code",
   "execution_count": 104,
   "metadata": {},
   "outputs": [
    {
     "data": {
      "text/plain": [
       "id                  0\n",
       "date                0\n",
       "price               0\n",
       "bedrooms            0\n",
       "bathrooms           0\n",
       "sqft_living         0\n",
       "sqft_lot            0\n",
       "floors              0\n",
       "waterfront       2376\n",
       "view               63\n",
       "condition           0\n",
       "grade               0\n",
       "sqft_above          0\n",
       "sqft_basement       0\n",
       "yr_built            0\n",
       "yr_renovated     3842\n",
       "zipcode             0\n",
       "lat                 0\n",
       "long                0\n",
       "sqft_living15       0\n",
       "sqft_lot15          0\n",
       "dtype: int64"
      ]
     },
     "execution_count": 104,
     "metadata": {},
     "output_type": "execute_result"
    }
   ],
   "source": [
    "kc_houses.isna().sum()"
   ]
  },
  {
   "cell_type": "code",
   "execution_count": 105,
   "metadata": {},
   "outputs": [
    {
     "data": {
      "text/plain": [
       "array([nan,  0.,  1.])"
      ]
     },
     "execution_count": 105,
     "metadata": {},
     "output_type": "execute_result"
    }
   ],
   "source": [
    "kc_houses['waterfront'].unique()"
   ]
  },
  {
   "cell_type": "code",
   "execution_count": 106,
   "metadata": {},
   "outputs": [
    {
     "data": {
      "text/plain": [
       "array([3, 5, 4, 1, 2])"
      ]
     },
     "execution_count": 106,
     "metadata": {},
     "output_type": "execute_result"
    }
   ],
   "source": [
    "kc_houses['condition'].unique()"
   ]
  },
  {
   "cell_type": "code",
   "execution_count": 107,
   "metadata": {},
   "outputs": [
    {
     "data": {
      "text/plain": [
       "0.0    19075\n",
       "1.0      146\n",
       "Name: waterfront, dtype: int64"
      ]
     },
     "execution_count": 107,
     "metadata": {},
     "output_type": "execute_result"
    }
   ],
   "source": [
    "kc_houses['waterfront'].value_counts()"
   ]
  },
  {
   "cell_type": "code",
   "execution_count": 108,
   "metadata": {},
   "outputs": [
    {
     "data": {
      "text/plain": [
       "5"
      ]
     },
     "execution_count": 108,
     "metadata": {},
     "output_type": "execute_result"
    }
   ],
   "source": [
    "kc_houses['view'].nunique()"
   ]
  },
  {
   "cell_type": "code",
   "execution_count": 109,
   "metadata": {},
   "outputs": [
    {
     "data": {
      "text/plain": [
       "0.0    19422\n",
       "2.0      957\n",
       "3.0      508\n",
       "1.0      330\n",
       "4.0      317\n",
       "Name: view, dtype: int64"
      ]
     },
     "execution_count": 109,
     "metadata": {},
     "output_type": "execute_result"
    }
   ],
   "source": [
    "kc_houses['view'].value_counts()"
   ]
  },
  {
   "cell_type": "code",
   "execution_count": 48,
   "metadata": {},
   "outputs": [
    {
     "data": {
      "text/plain": [
       "0.0       17011\n",
       "2014.0       73\n",
       "2003.0       31\n",
       "2013.0       31\n",
       "2007.0       30\n",
       "2000.0       29\n",
       "2005.0       29\n",
       "1990.0       22\n",
       "2004.0       22\n",
       "2009.0       21\n",
       "1989.0       20\n",
       "2006.0       20\n",
       "2002.0       17\n",
       "1991.0       16\n",
       "1998.0       16\n",
       "1984.0       16\n",
       "1999.0       15\n",
       "2008.0       15\n",
       "2010.0       15\n",
       "2001.0       15\n",
       "1983.0       15\n",
       "2015.0       14\n",
       "1985.0       14\n",
       "1986.0       14\n",
       "1987.0       14\n",
       "1994.0       14\n",
       "1992.0       13\n",
       "1993.0       12\n",
       "1997.0       12\n",
       "1995.0       12\n",
       "          ...  \n",
       "1975.0        5\n",
       "1964.0        5\n",
       "1969.0        4\n",
       "1963.0        4\n",
       "1973.0        4\n",
       "1981.0        4\n",
       "1965.0        4\n",
       "1978.0        3\n",
       "1960.0        3\n",
       "1958.0        3\n",
       "1956.0        3\n",
       "1955.0        3\n",
       "1945.0        3\n",
       "1972.0        3\n",
       "1967.0        2\n",
       "1957.0        2\n",
       "1940.0        2\n",
       "1974.0        2\n",
       "1962.0        2\n",
       "1953.0        1\n",
       "1950.0        1\n",
       "1934.0        1\n",
       "1944.0        1\n",
       "1976.0        1\n",
       "1948.0        1\n",
       "1946.0        1\n",
       "1959.0        1\n",
       "1971.0        1\n",
       "1951.0        1\n",
       "1954.0        1\n",
       "Name: yr_renovated, Length: 70, dtype: int64"
      ]
     },
     "execution_count": 48,
     "metadata": {},
     "output_type": "execute_result"
    }
   ],
   "source": [
    "kc_houses['yr_renovated'].value_counts()"
   ]
  },
  {
   "cell_type": "markdown",
   "metadata": {},
   "source": [
    "Given that the vast majority of lots have a value of 0 for 'yr_renovated' and >10% of the values for 'yr_renovated' are missing, we will replace 'yr_renovated' with a dummy variable 'was_renovated'; all lots that have a year in which they were renovated will be represented with a 1, and all other lots will be represented with 0."
   ]
  },
  {
   "cell_type": "code",
   "execution_count": 232,
   "metadata": {},
   "outputs": [],
   "source": [
    "kc_houses['was_renovated']= kc_houses['yr_renovated'].fillna(0)\n",
    "temp = kc_houses['was_renovated'].astype(bool).astype(int)\n",
    "kc_houses['was_renovated'] = temp\n",
    "kc_houses.drop(columns = ['yr_renovated'],inplace =True)"
   ]
  },
  {
   "cell_type": "markdown",
   "metadata": {},
   "source": [
    "Roughly 10% of records have a null value for 'waterfront'. Given that a large number of records have a null value for waterfront but we think this information may have a bearing on sale price, it would not be practical to simply drop the rows for which waterfront has a null value. Instead, null values in the waterfront column will be replaced with 0."
   ]
  },
  {
   "cell_type": "code",
   "execution_count": 233,
   "metadata": {},
   "outputs": [],
   "source": [
    "kc_houses['waterfront'].fillna(0,inplace=True)"
   ]
  },
  {
   "cell_type": "markdown",
   "metadata": {},
   "source": [
    "Given that only 63 rows are missing values for 'view', we will simply drop the rows that have a null value for 'view'"
   ]
  },
  {
   "cell_type": "code",
   "execution_count": 234,
   "metadata": {},
   "outputs": [],
   "source": [
    "no_view = kc_houses['view'].isna()\n",
    "# no_view.head()\n",
    "kc_houses.drop(kc_houses[no_view].index,inplace=True)"
   ]
  },
  {
   "cell_type": "code",
   "execution_count": 177,
   "metadata": {},
   "outputs": [
    {
     "name": "stdout",
     "output_type": "stream",
     "text": [
      "<class 'pandas.core.frame.DataFrame'>\n",
      "Int64Index: 21534 entries, 0 to 21596\n",
      "Data columns (total 21 columns):\n",
      "id               21534 non-null int64\n",
      "date             21534 non-null object\n",
      "price            21534 non-null float64\n",
      "bedrooms         21534 non-null int64\n",
      "bathrooms        21534 non-null float64\n",
      "sqft_living      21534 non-null int64\n",
      "sqft_lot         21534 non-null int64\n",
      "floors           21534 non-null float64\n",
      "waterfront       21534 non-null float64\n",
      "view             21534 non-null float64\n",
      "condition        21534 non-null int64\n",
      "grade            21534 non-null int64\n",
      "sqft_above       21534 non-null int64\n",
      "sqft_basement    21534 non-null object\n",
      "yr_built         21534 non-null int64\n",
      "zipcode          21534 non-null int64\n",
      "lat              21534 non-null float64\n",
      "long             21534 non-null float64\n",
      "sqft_living15    21534 non-null int64\n",
      "sqft_lot15       21534 non-null int64\n",
      "was_renovated    21534 non-null int64\n",
      "dtypes: float64(7), int64(12), object(2)\n",
      "memory usage: 3.6+ MB\n"
     ]
    }
   ],
   "source": [
    "kc_houses.info()"
   ]
  },
  {
   "cell_type": "markdown",
   "metadata": {},
   "source": [
    "'sqft_basement' is a string for some reason? Let's convert that to float."
   ]
  },
  {
   "cell_type": "code",
   "execution_count": 235,
   "metadata": {},
   "outputs": [],
   "source": [
    "no_basement = kc_houses['sqft_basement']=='?'\n",
    "kc_houses = kc_houses.drop(kc_houses[no_basement].index)"
   ]
  },
  {
   "cell_type": "code",
   "execution_count": 236,
   "metadata": {},
   "outputs": [],
   "source": [
    "kc_houses['sqft_basement'] = kc_houses['sqft_basement'].apply(lambda x: float(x))"
   ]
  },
  {
   "cell_type": "code",
   "execution_count": 68,
   "metadata": {},
   "outputs": [
    {
     "data": {
      "text/html": [
       "<div>\n",
       "<style scoped>\n",
       "    .dataframe tbody tr th:only-of-type {\n",
       "        vertical-align: middle;\n",
       "    }\n",
       "\n",
       "    .dataframe tbody tr th {\n",
       "        vertical-align: top;\n",
       "    }\n",
       "\n",
       "    .dataframe thead th {\n",
       "        text-align: right;\n",
       "    }\n",
       "</style>\n",
       "<table border=\"1\" class=\"dataframe\">\n",
       "  <thead>\n",
       "    <tr style=\"text-align: right;\">\n",
       "      <th></th>\n",
       "      <th>id</th>\n",
       "      <th>price</th>\n",
       "      <th>bedrooms</th>\n",
       "      <th>bathrooms</th>\n",
       "      <th>sqft_living</th>\n",
       "      <th>sqft_lot</th>\n",
       "      <th>floors</th>\n",
       "      <th>waterfront</th>\n",
       "      <th>view</th>\n",
       "      <th>condition</th>\n",
       "      <th>...</th>\n",
       "      <th>sqft_above</th>\n",
       "      <th>sqft_basement</th>\n",
       "      <th>yr_built</th>\n",
       "      <th>yr_renovated</th>\n",
       "      <th>zipcode</th>\n",
       "      <th>lat</th>\n",
       "      <th>long</th>\n",
       "      <th>sqft_living15</th>\n",
       "      <th>sqft_lot15</th>\n",
       "      <th>was_renovated</th>\n",
       "    </tr>\n",
       "  </thead>\n",
       "  <tbody>\n",
       "    <tr>\n",
       "      <th>count</th>\n",
       "      <td>2.108200e+04</td>\n",
       "      <td>2.108200e+04</td>\n",
       "      <td>21082.000000</td>\n",
       "      <td>21082.000000</td>\n",
       "      <td>21082.000000</td>\n",
       "      <td>2.108200e+04</td>\n",
       "      <td>21082.00000</td>\n",
       "      <td>21082.000000</td>\n",
       "      <td>21082.000000</td>\n",
       "      <td>21082.000000</td>\n",
       "      <td>...</td>\n",
       "      <td>21082.000000</td>\n",
       "      <td>21082.000000</td>\n",
       "      <td>21082.000000</td>\n",
       "      <td>17340.000000</td>\n",
       "      <td>21082.000000</td>\n",
       "      <td>21082.000000</td>\n",
       "      <td>21082.000000</td>\n",
       "      <td>21082.000000</td>\n",
       "      <td>21082.000000</td>\n",
       "      <td>21082.000000</td>\n",
       "    </tr>\n",
       "    <tr>\n",
       "      <th>mean</th>\n",
       "      <td>4.582793e+09</td>\n",
       "      <td>5.402469e+05</td>\n",
       "      <td>3.372403</td>\n",
       "      <td>2.115916</td>\n",
       "      <td>2080.359975</td>\n",
       "      <td>1.507759e+04</td>\n",
       "      <td>1.49362</td>\n",
       "      <td>0.006688</td>\n",
       "      <td>0.233327</td>\n",
       "      <td>3.409828</td>\n",
       "      <td>...</td>\n",
       "      <td>1789.000000</td>\n",
       "      <td>291.359975</td>\n",
       "      <td>1971.023337</td>\n",
       "      <td>83.111419</td>\n",
       "      <td>98077.858837</td>\n",
       "      <td>47.560371</td>\n",
       "      <td>-122.213843</td>\n",
       "      <td>1986.917418</td>\n",
       "      <td>12732.514135</td>\n",
       "      <td>0.034247</td>\n",
       "    </tr>\n",
       "    <tr>\n",
       "      <th>std</th>\n",
       "      <td>2.876423e+09</td>\n",
       "      <td>3.667323e+05</td>\n",
       "      <td>0.924996</td>\n",
       "      <td>0.768142</td>\n",
       "      <td>917.856396</td>\n",
       "      <td>4.117338e+04</td>\n",
       "      <td>0.53937</td>\n",
       "      <td>0.081509</td>\n",
       "      <td>0.765066</td>\n",
       "      <td>0.650597</td>\n",
       "      <td>...</td>\n",
       "      <td>828.369355</td>\n",
       "      <td>442.007858</td>\n",
       "      <td>29.323120</td>\n",
       "      <td>398.756281</td>\n",
       "      <td>53.528769</td>\n",
       "      <td>0.138568</td>\n",
       "      <td>0.140607</td>\n",
       "      <td>685.544250</td>\n",
       "      <td>27148.781580</td>\n",
       "      <td>0.181868</td>\n",
       "    </tr>\n",
       "    <tr>\n",
       "      <th>min</th>\n",
       "      <td>1.000102e+06</td>\n",
       "      <td>7.800000e+04</td>\n",
       "      <td>1.000000</td>\n",
       "      <td>0.500000</td>\n",
       "      <td>370.000000</td>\n",
       "      <td>5.200000e+02</td>\n",
       "      <td>1.00000</td>\n",
       "      <td>0.000000</td>\n",
       "      <td>0.000000</td>\n",
       "      <td>1.000000</td>\n",
       "      <td>...</td>\n",
       "      <td>370.000000</td>\n",
       "      <td>0.000000</td>\n",
       "      <td>1900.000000</td>\n",
       "      <td>0.000000</td>\n",
       "      <td>98001.000000</td>\n",
       "      <td>47.155900</td>\n",
       "      <td>-122.519000</td>\n",
       "      <td>399.000000</td>\n",
       "      <td>651.000000</td>\n",
       "      <td>0.000000</td>\n",
       "    </tr>\n",
       "    <tr>\n",
       "      <th>25%</th>\n",
       "      <td>2.123700e+09</td>\n",
       "      <td>3.220000e+05</td>\n",
       "      <td>3.000000</td>\n",
       "      <td>1.750000</td>\n",
       "      <td>1430.000000</td>\n",
       "      <td>5.040000e+03</td>\n",
       "      <td>1.00000</td>\n",
       "      <td>0.000000</td>\n",
       "      <td>0.000000</td>\n",
       "      <td>3.000000</td>\n",
       "      <td>...</td>\n",
       "      <td>1200.000000</td>\n",
       "      <td>0.000000</td>\n",
       "      <td>1952.000000</td>\n",
       "      <td>0.000000</td>\n",
       "      <td>98033.000000</td>\n",
       "      <td>47.471325</td>\n",
       "      <td>-122.328000</td>\n",
       "      <td>1490.000000</td>\n",
       "      <td>5100.000000</td>\n",
       "      <td>0.000000</td>\n",
       "    </tr>\n",
       "    <tr>\n",
       "      <th>50%</th>\n",
       "      <td>3.904970e+09</td>\n",
       "      <td>4.500000e+05</td>\n",
       "      <td>3.000000</td>\n",
       "      <td>2.250000</td>\n",
       "      <td>1910.000000</td>\n",
       "      <td>7.620000e+03</td>\n",
       "      <td>1.50000</td>\n",
       "      <td>0.000000</td>\n",
       "      <td>0.000000</td>\n",
       "      <td>3.000000</td>\n",
       "      <td>...</td>\n",
       "      <td>1560.000000</td>\n",
       "      <td>0.000000</td>\n",
       "      <td>1975.000000</td>\n",
       "      <td>0.000000</td>\n",
       "      <td>98065.000000</td>\n",
       "      <td>47.572200</td>\n",
       "      <td>-122.230000</td>\n",
       "      <td>1840.000000</td>\n",
       "      <td>7626.000000</td>\n",
       "      <td>0.000000</td>\n",
       "    </tr>\n",
       "    <tr>\n",
       "      <th>75%</th>\n",
       "      <td>7.312200e+09</td>\n",
       "      <td>6.450000e+05</td>\n",
       "      <td>4.000000</td>\n",
       "      <td>2.500000</td>\n",
       "      <td>2550.000000</td>\n",
       "      <td>1.069775e+04</td>\n",
       "      <td>2.00000</td>\n",
       "      <td>0.000000</td>\n",
       "      <td>0.000000</td>\n",
       "      <td>4.000000</td>\n",
       "      <td>...</td>\n",
       "      <td>2210.000000</td>\n",
       "      <td>560.000000</td>\n",
       "      <td>1997.000000</td>\n",
       "      <td>0.000000</td>\n",
       "      <td>98117.000000</td>\n",
       "      <td>47.678200</td>\n",
       "      <td>-122.125000</td>\n",
       "      <td>2360.000000</td>\n",
       "      <td>10088.750000</td>\n",
       "      <td>0.000000</td>\n",
       "    </tr>\n",
       "    <tr>\n",
       "      <th>max</th>\n",
       "      <td>9.900000e+09</td>\n",
       "      <td>7.700000e+06</td>\n",
       "      <td>33.000000</td>\n",
       "      <td>8.000000</td>\n",
       "      <td>13540.000000</td>\n",
       "      <td>1.651359e+06</td>\n",
       "      <td>3.50000</td>\n",
       "      <td>1.000000</td>\n",
       "      <td>4.000000</td>\n",
       "      <td>5.000000</td>\n",
       "      <td>...</td>\n",
       "      <td>9410.000000</td>\n",
       "      <td>4820.000000</td>\n",
       "      <td>2015.000000</td>\n",
       "      <td>2015.000000</td>\n",
       "      <td>98199.000000</td>\n",
       "      <td>47.777600</td>\n",
       "      <td>-121.315000</td>\n",
       "      <td>6210.000000</td>\n",
       "      <td>871200.000000</td>\n",
       "      <td>1.000000</td>\n",
       "    </tr>\n",
       "  </tbody>\n",
       "</table>\n",
       "<p>8 rows × 21 columns</p>\n",
       "</div>"
      ],
      "text/plain": [
       "                 id         price      bedrooms     bathrooms   sqft_living  \\\n",
       "count  2.108200e+04  2.108200e+04  21082.000000  21082.000000  21082.000000   \n",
       "mean   4.582793e+09  5.402469e+05      3.372403      2.115916   2080.359975   \n",
       "std    2.876423e+09  3.667323e+05      0.924996      0.768142    917.856396   \n",
       "min    1.000102e+06  7.800000e+04      1.000000      0.500000    370.000000   \n",
       "25%    2.123700e+09  3.220000e+05      3.000000      1.750000   1430.000000   \n",
       "50%    3.904970e+09  4.500000e+05      3.000000      2.250000   1910.000000   \n",
       "75%    7.312200e+09  6.450000e+05      4.000000      2.500000   2550.000000   \n",
       "max    9.900000e+09  7.700000e+06     33.000000      8.000000  13540.000000   \n",
       "\n",
       "           sqft_lot       floors    waterfront          view     condition  \\\n",
       "count  2.108200e+04  21082.00000  21082.000000  21082.000000  21082.000000   \n",
       "mean   1.507759e+04      1.49362      0.006688      0.233327      3.409828   \n",
       "std    4.117338e+04      0.53937      0.081509      0.765066      0.650597   \n",
       "min    5.200000e+02      1.00000      0.000000      0.000000      1.000000   \n",
       "25%    5.040000e+03      1.00000      0.000000      0.000000      3.000000   \n",
       "50%    7.620000e+03      1.50000      0.000000      0.000000      3.000000   \n",
       "75%    1.069775e+04      2.00000      0.000000      0.000000      4.000000   \n",
       "max    1.651359e+06      3.50000      1.000000      4.000000      5.000000   \n",
       "\n",
       "           ...          sqft_above  sqft_basement      yr_built  yr_renovated  \\\n",
       "count      ...        21082.000000   21082.000000  21082.000000  17340.000000   \n",
       "mean       ...         1789.000000     291.359975   1971.023337     83.111419   \n",
       "std        ...          828.369355     442.007858     29.323120    398.756281   \n",
       "min        ...          370.000000       0.000000   1900.000000      0.000000   \n",
       "25%        ...         1200.000000       0.000000   1952.000000      0.000000   \n",
       "50%        ...         1560.000000       0.000000   1975.000000      0.000000   \n",
       "75%        ...         2210.000000     560.000000   1997.000000      0.000000   \n",
       "max        ...         9410.000000    4820.000000   2015.000000   2015.000000   \n",
       "\n",
       "            zipcode           lat          long  sqft_living15     sqft_lot15  \\\n",
       "count  21082.000000  21082.000000  21082.000000   21082.000000   21082.000000   \n",
       "mean   98077.858837     47.560371   -122.213843    1986.917418   12732.514135   \n",
       "std       53.528769      0.138568      0.140607     685.544250   27148.781580   \n",
       "min    98001.000000     47.155900   -122.519000     399.000000     651.000000   \n",
       "25%    98033.000000     47.471325   -122.328000    1490.000000    5100.000000   \n",
       "50%    98065.000000     47.572200   -122.230000    1840.000000    7626.000000   \n",
       "75%    98117.000000     47.678200   -122.125000    2360.000000   10088.750000   \n",
       "max    98199.000000     47.777600   -121.315000    6210.000000  871200.000000   \n",
       "\n",
       "       was_renovated  \n",
       "count   21082.000000  \n",
       "mean        0.034247  \n",
       "std         0.181868  \n",
       "min         0.000000  \n",
       "25%         0.000000  \n",
       "50%         0.000000  \n",
       "75%         0.000000  \n",
       "max         1.000000  \n",
       "\n",
       "[8 rows x 21 columns]"
      ]
     },
     "execution_count": 68,
     "metadata": {},
     "output_type": "execute_result"
    }
   ],
   "source": [
    "kc_houses.describe()"
   ]
  },
  {
   "cell_type": "code",
   "execution_count": 237,
   "metadata": {},
   "outputs": [
    {
     "data": {
      "image/png": "[encoded data removed]",
      "text/plain": [
       "<Figure size 432x288 with 1 Axes>"
      ]
     },
     "metadata": {
      "needs_background": "light"
     },
     "output_type": "display_data"
    }
   ],
   "source": [
    "import matplotlib.pyplot as plt\n",
    "plt.scatter(kc_houses['sqft_living'],kc_houses['sqft_living15'])\n",
    "plt.show()"
   ]
  },
  {
   "cell_type": "code",
   "execution_count": 247,
   "metadata": {},
   "outputs": [
    {
     "data": {
      "text/html": [
       "<div>\n",
       "<style scoped>\n",
       "    .dataframe tbody tr th:only-of-type {\n",
       "        vertical-align: middle;\n",
       "    }\n",
       "\n",
       "    .dataframe tbody tr th {\n",
       "        vertical-align: top;\n",
       "    }\n",
       "\n",
       "    .dataframe thead th {\n",
       "        text-align: right;\n",
       "    }\n",
       "</style>\n",
       "<table border=\"1\" class=\"dataframe\">\n",
       "  <thead>\n",
       "    <tr style=\"text-align: right;\">\n",
       "      <th></th>\n",
       "      <th>id</th>\n",
       "      <th>price</th>\n",
       "      <th>bedrooms</th>\n",
       "      <th>bathrooms</th>\n",
       "      <th>sqft_living</th>\n",
       "      <th>sqft_lot</th>\n",
       "      <th>floors</th>\n",
       "      <th>waterfront</th>\n",
       "      <th>view</th>\n",
       "      <th>condition</th>\n",
       "      <th>...</th>\n",
       "      <th>sqft_above</th>\n",
       "      <th>sqft_basement</th>\n",
       "      <th>yr_built</th>\n",
       "      <th>zipcode</th>\n",
       "      <th>lat</th>\n",
       "      <th>long</th>\n",
       "      <th>sqft_living15</th>\n",
       "      <th>sqft_lot15</th>\n",
       "      <th>was_renovated</th>\n",
       "      <th>log_sqft_liv</th>\n",
       "    </tr>\n",
       "  </thead>\n",
       "  <tbody>\n",
       "    <tr>\n",
       "      <th>id</th>\n",
       "      <td>1.000000</td>\n",
       "      <td>-0.016413</td>\n",
       "      <td>0.002267</td>\n",
       "      <td>0.005873</td>\n",
       "      <td>-0.011866</td>\n",
       "      <td>-0.132412</td>\n",
       "      <td>0.019150</td>\n",
       "      <td>-0.003588</td>\n",
       "      <td>0.012859</td>\n",
       "      <td>-0.023410</td>\n",
       "      <td>...</td>\n",
       "      <td>-0.010757</td>\n",
       "      <td>-0.004480</td>\n",
       "      <td>0.022179</td>\n",
       "      <td>-0.010959</td>\n",
       "      <td>-0.005062</td>\n",
       "      <td>0.021254</td>\n",
       "      <td>-0.003084</td>\n",
       "      <td>-0.138114</td>\n",
       "      <td>-0.009071</td>\n",
       "      <td>-0.001205</td>\n",
       "    </tr>\n",
       "    <tr>\n",
       "      <th>price</th>\n",
       "      <td>-0.016413</td>\n",
       "      <td>1.000000</td>\n",
       "      <td>0.308454</td>\n",
       "      <td>0.525029</td>\n",
       "      <td>0.702004</td>\n",
       "      <td>0.088400</td>\n",
       "      <td>0.256603</td>\n",
       "      <td>0.260777</td>\n",
       "      <td>0.397176</td>\n",
       "      <td>0.034613</td>\n",
       "      <td>...</td>\n",
       "      <td>0.605481</td>\n",
       "      <td>0.323018</td>\n",
       "      <td>0.054849</td>\n",
       "      <td>-0.053429</td>\n",
       "      <td>0.307667</td>\n",
       "      <td>0.022512</td>\n",
       "      <td>0.586495</td>\n",
       "      <td>0.083530</td>\n",
       "      <td>0.116540</td>\n",
       "      <td>0.612344</td>\n",
       "    </tr>\n",
       "    <tr>\n",
       "      <th>bedrooms</th>\n",
       "      <td>0.002267</td>\n",
       "      <td>0.308454</td>\n",
       "      <td>1.000000</td>\n",
       "      <td>0.513694</td>\n",
       "      <td>0.577696</td>\n",
       "      <td>0.032531</td>\n",
       "      <td>0.178518</td>\n",
       "      <td>-0.001578</td>\n",
       "      <td>0.080379</td>\n",
       "      <td>0.025652</td>\n",
       "      <td>...</td>\n",
       "      <td>0.478967</td>\n",
       "      <td>0.301987</td>\n",
       "      <td>0.156820</td>\n",
       "      <td>-0.152539</td>\n",
       "      <td>-0.009939</td>\n",
       "      <td>0.131398</td>\n",
       "      <td>0.391936</td>\n",
       "      <td>0.030779</td>\n",
       "      <td>0.018082</td>\n",
       "      <td>0.621083</td>\n",
       "    </tr>\n",
       "    <tr>\n",
       "      <th>bathrooms</th>\n",
       "      <td>0.005873</td>\n",
       "      <td>0.525029</td>\n",
       "      <td>0.513694</td>\n",
       "      <td>1.000000</td>\n",
       "      <td>0.754793</td>\n",
       "      <td>0.088451</td>\n",
       "      <td>0.503796</td>\n",
       "      <td>0.062055</td>\n",
       "      <td>0.187249</td>\n",
       "      <td>-0.128167</td>\n",
       "      <td>...</td>\n",
       "      <td>0.685959</td>\n",
       "      <td>0.281813</td>\n",
       "      <td>0.508866</td>\n",
       "      <td>-0.204016</td>\n",
       "      <td>0.025243</td>\n",
       "      <td>0.224660</td>\n",
       "      <td>0.569396</td>\n",
       "      <td>0.089414</td>\n",
       "      <td>0.047303</td>\n",
       "      <td>0.761380</td>\n",
       "    </tr>\n",
       "    <tr>\n",
       "      <th>sqft_living</th>\n",
       "      <td>-0.011866</td>\n",
       "      <td>0.702004</td>\n",
       "      <td>0.577696</td>\n",
       "      <td>0.754793</td>\n",
       "      <td>1.000000</td>\n",
       "      <td>0.173266</td>\n",
       "      <td>0.354260</td>\n",
       "      <td>0.103331</td>\n",
       "      <td>0.283797</td>\n",
       "      <td>-0.061626</td>\n",
       "      <td>...</td>\n",
       "      <td>0.876787</td>\n",
       "      <td>0.433369</td>\n",
       "      <td>0.319584</td>\n",
       "      <td>-0.198987</td>\n",
       "      <td>0.053213</td>\n",
       "      <td>0.241473</td>\n",
       "      <td>0.756199</td>\n",
       "      <td>0.184920</td>\n",
       "      <td>0.049545</td>\n",
       "      <td>0.954619</td>\n",
       "    </tr>\n",
       "    <tr>\n",
       "      <th>sqft_lot</th>\n",
       "      <td>-0.132412</td>\n",
       "      <td>0.088400</td>\n",
       "      <td>0.032531</td>\n",
       "      <td>0.088451</td>\n",
       "      <td>0.173266</td>\n",
       "      <td>1.000000</td>\n",
       "      <td>-0.007745</td>\n",
       "      <td>0.021216</td>\n",
       "      <td>0.072668</td>\n",
       "      <td>-0.009207</td>\n",
       "      <td>...</td>\n",
       "      <td>0.183653</td>\n",
       "      <td>0.015612</td>\n",
       "      <td>0.052469</td>\n",
       "      <td>-0.129626</td>\n",
       "      <td>-0.085076</td>\n",
       "      <td>0.230489</td>\n",
       "      <td>0.143815</td>\n",
       "      <td>0.719499</td>\n",
       "      <td>0.004396</td>\n",
       "      <td>0.149707</td>\n",
       "    </tr>\n",
       "    <tr>\n",
       "      <th>floors</th>\n",
       "      <td>0.019150</td>\n",
       "      <td>0.256603</td>\n",
       "      <td>0.178518</td>\n",
       "      <td>0.503796</td>\n",
       "      <td>0.354260</td>\n",
       "      <td>-0.007745</td>\n",
       "      <td>1.000000</td>\n",
       "      <td>0.019853</td>\n",
       "      <td>0.027748</td>\n",
       "      <td>-0.264259</td>\n",
       "      <td>...</td>\n",
       "      <td>0.523594</td>\n",
       "      <td>-0.245628</td>\n",
       "      <td>0.489898</td>\n",
       "      <td>-0.058443</td>\n",
       "      <td>0.049237</td>\n",
       "      <td>0.125360</td>\n",
       "      <td>0.279379</td>\n",
       "      <td>-0.011632</td>\n",
       "      <td>0.002953</td>\n",
       "      <td>0.367533</td>\n",
       "    </tr>\n",
       "    <tr>\n",
       "      <th>waterfront</th>\n",
       "      <td>-0.003588</td>\n",
       "      <td>0.260777</td>\n",
       "      <td>-0.001578</td>\n",
       "      <td>0.062055</td>\n",
       "      <td>0.103331</td>\n",
       "      <td>0.021216</td>\n",
       "      <td>0.019853</td>\n",
       "      <td>1.000000</td>\n",
       "      <td>0.380418</td>\n",
       "      <td>0.016293</td>\n",
       "      <td>...</td>\n",
       "      <td>0.070315</td>\n",
       "      <td>0.082796</td>\n",
       "      <td>-0.024358</td>\n",
       "      <td>0.028723</td>\n",
       "      <td>-0.011696</td>\n",
       "      <td>-0.036585</td>\n",
       "      <td>0.083676</td>\n",
       "      <td>0.030188</td>\n",
       "      <td>0.070947</td>\n",
       "      <td>0.077985</td>\n",
       "    </tr>\n",
       "    <tr>\n",
       "      <th>view</th>\n",
       "      <td>0.012859</td>\n",
       "      <td>0.397176</td>\n",
       "      <td>0.080379</td>\n",
       "      <td>0.187249</td>\n",
       "      <td>0.283797</td>\n",
       "      <td>0.072668</td>\n",
       "      <td>0.027748</td>\n",
       "      <td>0.380418</td>\n",
       "      <td>1.000000</td>\n",
       "      <td>0.045464</td>\n",
       "      <td>...</td>\n",
       "      <td>0.166907</td>\n",
       "      <td>0.276521</td>\n",
       "      <td>-0.054415</td>\n",
       "      <td>0.085300</td>\n",
       "      <td>0.006174</td>\n",
       "      <td>-0.076306</td>\n",
       "      <td>0.280934</td>\n",
       "      <td>0.072797</td>\n",
       "      <td>0.088482</td>\n",
       "      <td>0.245960</td>\n",
       "    </tr>\n",
       "    <tr>\n",
       "      <th>condition</th>\n",
       "      <td>-0.023410</td>\n",
       "      <td>0.034613</td>\n",
       "      <td>0.025652</td>\n",
       "      <td>-0.128167</td>\n",
       "      <td>-0.061626</td>\n",
       "      <td>-0.009207</td>\n",
       "      <td>-0.264259</td>\n",
       "      <td>0.016293</td>\n",
       "      <td>0.045464</td>\n",
       "      <td>1.000000</td>\n",
       "      <td>...</td>\n",
       "      <td>-0.159186</td>\n",
       "      <td>0.170361</td>\n",
       "      <td>-0.361838</td>\n",
       "      <td>0.002616</td>\n",
       "      <td>-0.016021</td>\n",
       "      <td>-0.105805</td>\n",
       "      <td>-0.093556</td>\n",
       "      <td>-0.004386</td>\n",
       "      <td>-0.055684</td>\n",
       "      <td>-0.052036</td>\n",
       "    </tr>\n",
       "    <tr>\n",
       "      <th>grade</th>\n",
       "      <td>0.008765</td>\n",
       "      <td>0.668099</td>\n",
       "      <td>0.356418</td>\n",
       "      <td>0.665992</td>\n",
       "      <td>0.762719</td>\n",
       "      <td>0.113801</td>\n",
       "      <td>0.459144</td>\n",
       "      <td>0.081945</td>\n",
       "      <td>0.250014</td>\n",
       "      <td>-0.148886</td>\n",
       "      <td>...</td>\n",
       "      <td>0.756289</td>\n",
       "      <td>0.166466</td>\n",
       "      <td>0.448574</td>\n",
       "      <td>-0.185138</td>\n",
       "      <td>0.113629</td>\n",
       "      <td>0.199735</td>\n",
       "      <td>0.713176</td>\n",
       "      <td>0.122404</td>\n",
       "      <td>0.015140</td>\n",
       "      <td>0.743034</td>\n",
       "    </tr>\n",
       "    <tr>\n",
       "      <th>sqft_above</th>\n",
       "      <td>-0.010757</td>\n",
       "      <td>0.605481</td>\n",
       "      <td>0.478967</td>\n",
       "      <td>0.685959</td>\n",
       "      <td>0.876787</td>\n",
       "      <td>0.183653</td>\n",
       "      <td>0.523594</td>\n",
       "      <td>0.070315</td>\n",
       "      <td>0.166907</td>\n",
       "      <td>-0.159186</td>\n",
       "      <td>...</td>\n",
       "      <td>1.000000</td>\n",
       "      <td>-0.053403</td>\n",
       "      <td>0.425170</td>\n",
       "      <td>-0.260751</td>\n",
       "      <td>-0.000014</td>\n",
       "      <td>0.344774</td>\n",
       "      <td>0.730794</td>\n",
       "      <td>0.195983</td>\n",
       "      <td>0.019018</td>\n",
       "      <td>0.832324</td>\n",
       "    </tr>\n",
       "    <tr>\n",
       "      <th>sqft_basement</th>\n",
       "      <td>-0.004480</td>\n",
       "      <td>0.323018</td>\n",
       "      <td>0.301987</td>\n",
       "      <td>0.281813</td>\n",
       "      <td>0.433369</td>\n",
       "      <td>0.015612</td>\n",
       "      <td>-0.245628</td>\n",
       "      <td>0.082796</td>\n",
       "      <td>0.276521</td>\n",
       "      <td>0.170361</td>\n",
       "      <td>...</td>\n",
       "      <td>-0.053403</td>\n",
       "      <td>1.000000</td>\n",
       "      <td>-0.133178</td>\n",
       "      <td>0.075466</td>\n",
       "      <td>0.110526</td>\n",
       "      <td>-0.144709</td>\n",
       "      <td>0.200709</td>\n",
       "      <td>0.016705</td>\n",
       "      <td>0.067242</td>\n",
       "      <td>0.422463</td>\n",
       "    </tr>\n",
       "    <tr>\n",
       "      <th>yr_built</th>\n",
       "      <td>0.022179</td>\n",
       "      <td>0.054849</td>\n",
       "      <td>0.156820</td>\n",
       "      <td>0.508866</td>\n",
       "      <td>0.319584</td>\n",
       "      <td>0.052469</td>\n",
       "      <td>0.489898</td>\n",
       "      <td>-0.024358</td>\n",
       "      <td>-0.054415</td>\n",
       "      <td>-0.361838</td>\n",
       "      <td>...</td>\n",
       "      <td>0.425170</td>\n",
       "      <td>-0.133178</td>\n",
       "      <td>1.000000</td>\n",
       "      <td>-0.346743</td>\n",
       "      <td>-0.148165</td>\n",
       "      <td>0.409009</td>\n",
       "      <td>0.325657</td>\n",
       "      <td>0.071184</td>\n",
       "      <td>-0.200535</td>\n",
       "      <td>0.350929</td>\n",
       "    </tr>\n",
       "    <tr>\n",
       "      <th>zipcode</th>\n",
       "      <td>-0.010959</td>\n",
       "      <td>-0.053429</td>\n",
       "      <td>-0.152539</td>\n",
       "      <td>-0.204016</td>\n",
       "      <td>-0.198987</td>\n",
       "      <td>-0.129626</td>\n",
       "      <td>-0.058443</td>\n",
       "      <td>0.028723</td>\n",
       "      <td>0.085300</td>\n",
       "      <td>0.002616</td>\n",
       "      <td>...</td>\n",
       "      <td>-0.260751</td>\n",
       "      <td>0.075466</td>\n",
       "      <td>-0.346743</td>\n",
       "      <td>1.000000</td>\n",
       "      <td>0.266868</td>\n",
       "      <td>-0.564133</td>\n",
       "      <td>-0.278124</td>\n",
       "      <td>-0.146944</td>\n",
       "      <td>0.061756</td>\n",
       "      <td>-0.221012</td>\n",
       "    </tr>\n",
       "    <tr>\n",
       "      <th>lat</th>\n",
       "      <td>-0.005062</td>\n",
       "      <td>0.307667</td>\n",
       "      <td>-0.009939</td>\n",
       "      <td>0.025243</td>\n",
       "      <td>0.053213</td>\n",
       "      <td>-0.085076</td>\n",
       "      <td>0.049237</td>\n",
       "      <td>-0.011696</td>\n",
       "      <td>0.006174</td>\n",
       "      <td>-0.016021</td>\n",
       "      <td>...</td>\n",
       "      <td>-0.000014</td>\n",
       "      <td>0.110526</td>\n",
       "      <td>-0.148165</td>\n",
       "      <td>0.266868</td>\n",
       "      <td>1.000000</td>\n",
       "      <td>-0.135173</td>\n",
       "      <td>0.050357</td>\n",
       "      <td>-0.084799</td>\n",
       "      <td>0.029177</td>\n",
       "      <td>0.039979</td>\n",
       "    </tr>\n",
       "    <tr>\n",
       "      <th>long</th>\n",
       "      <td>0.021254</td>\n",
       "      <td>0.022512</td>\n",
       "      <td>0.131398</td>\n",
       "      <td>0.224660</td>\n",
       "      <td>0.241473</td>\n",
       "      <td>0.230489</td>\n",
       "      <td>0.125360</td>\n",
       "      <td>-0.036585</td>\n",
       "      <td>-0.076306</td>\n",
       "      <td>-0.105805</td>\n",
       "      <td>...</td>\n",
       "      <td>0.344774</td>\n",
       "      <td>-0.144709</td>\n",
       "      <td>0.409009</td>\n",
       "      <td>-0.564133</td>\n",
       "      <td>-0.135173</td>\n",
       "      <td>1.000000</td>\n",
       "      <td>0.334699</td>\n",
       "      <td>0.255272</td>\n",
       "      <td>-0.064169</td>\n",
       "      <td>0.256977</td>\n",
       "    </tr>\n",
       "    <tr>\n",
       "      <th>sqft_living15</th>\n",
       "      <td>-0.003084</td>\n",
       "      <td>0.586495</td>\n",
       "      <td>0.391936</td>\n",
       "      <td>0.569396</td>\n",
       "      <td>0.756199</td>\n",
       "      <td>0.143815</td>\n",
       "      <td>0.279379</td>\n",
       "      <td>0.083676</td>\n",
       "      <td>0.280934</td>\n",
       "      <td>-0.093556</td>\n",
       "      <td>...</td>\n",
       "      <td>0.730794</td>\n",
       "      <td>0.200709</td>\n",
       "      <td>0.325657</td>\n",
       "      <td>-0.278124</td>\n",
       "      <td>0.050357</td>\n",
       "      <td>0.334699</td>\n",
       "      <td>1.000000</td>\n",
       "      <td>0.183539</td>\n",
       "      <td>0.000849</td>\n",
       "      <td>0.736762</td>\n",
       "    </tr>\n",
       "    <tr>\n",
       "      <th>sqft_lot15</th>\n",
       "      <td>-0.138114</td>\n",
       "      <td>0.083530</td>\n",
       "      <td>0.030779</td>\n",
       "      <td>0.089414</td>\n",
       "      <td>0.184920</td>\n",
       "      <td>0.719499</td>\n",
       "      <td>-0.011632</td>\n",
       "      <td>0.030188</td>\n",
       "      <td>0.072797</td>\n",
       "      <td>-0.004386</td>\n",
       "      <td>...</td>\n",
       "      <td>0.195983</td>\n",
       "      <td>0.016705</td>\n",
       "      <td>0.071184</td>\n",
       "      <td>-0.146944</td>\n",
       "      <td>-0.084799</td>\n",
       "      <td>0.255272</td>\n",
       "      <td>0.183539</td>\n",
       "      <td>1.000000</td>\n",
       "      <td>0.002898</td>\n",
       "      <td>0.162956</td>\n",
       "    </tr>\n",
       "    <tr>\n",
       "      <th>was_renovated</th>\n",
       "      <td>-0.009071</td>\n",
       "      <td>0.116540</td>\n",
       "      <td>0.018082</td>\n",
       "      <td>0.047303</td>\n",
       "      <td>0.049545</td>\n",
       "      <td>0.004396</td>\n",
       "      <td>0.002953</td>\n",
       "      <td>0.070947</td>\n",
       "      <td>0.088482</td>\n",
       "      <td>-0.055684</td>\n",
       "      <td>...</td>\n",
       "      <td>0.019018</td>\n",
       "      <td>0.067242</td>\n",
       "      <td>-0.200535</td>\n",
       "      <td>0.061756</td>\n",
       "      <td>0.029177</td>\n",
       "      <td>-0.064169</td>\n",
       "      <td>0.000849</td>\n",
       "      <td>0.002898</td>\n",
       "      <td>1.000000</td>\n",
       "      <td>0.046557</td>\n",
       "    </tr>\n",
       "    <tr>\n",
       "      <th>log_sqft_liv</th>\n",
       "      <td>-0.001205</td>\n",
       "      <td>0.612344</td>\n",
       "      <td>0.621083</td>\n",
       "      <td>0.761380</td>\n",
       "      <td>0.954619</td>\n",
       "      <td>0.149707</td>\n",
       "      <td>0.367533</td>\n",
       "      <td>0.077985</td>\n",
       "      <td>0.245960</td>\n",
       "      <td>-0.052036</td>\n",
       "      <td>...</td>\n",
       "      <td>0.832324</td>\n",
       "      <td>0.422463</td>\n",
       "      <td>0.350929</td>\n",
       "      <td>-0.221012</td>\n",
       "      <td>0.039979</td>\n",
       "      <td>0.256977</td>\n",
       "      <td>0.736762</td>\n",
       "      <td>0.162956</td>\n",
       "      <td>0.046557</td>\n",
       "      <td>1.000000</td>\n",
       "    </tr>\n",
       "  </tbody>\n",
       "</table>\n",
       "<p>21 rows × 21 columns</p>\n",
       "</div>"
      ],
      "text/plain": [
       "                     id     price  bedrooms  bathrooms  sqft_living  sqft_lot  \\\n",
       "id             1.000000 -0.016413  0.002267   0.005873    -0.011866 -0.132412   \n",
       "price         -0.016413  1.000000  0.308454   0.525029     0.702004  0.088400   \n",
       "bedrooms       0.002267  0.308454  1.000000   0.513694     0.577696  0.032531   \n",
       "bathrooms      0.005873  0.525029  0.513694   1.000000     0.754793  0.088451   \n",
       "sqft_living   -0.011866  0.702004  0.577696   0.754793     1.000000  0.173266   \n",
       "sqft_lot      -0.132412  0.088400  0.032531   0.088451     0.173266  1.000000   \n",
       "floors         0.019150  0.256603  0.178518   0.503796     0.354260 -0.007745   \n",
       "waterfront    -0.003588  0.260777 -0.001578   0.062055     0.103331  0.021216   \n",
       "view           0.012859  0.397176  0.080379   0.187249     0.283797  0.072668   \n",
       "condition     -0.023410  0.034613  0.025652  -0.128167    -0.061626 -0.009207   \n",
       "grade          0.008765  0.668099  0.356418   0.665992     0.762719  0.113801   \n",
       "sqft_above    -0.010757  0.605481  0.478967   0.685959     0.876787  0.183653   \n",
       "sqft_basement -0.004480  0.323018  0.301987   0.281813     0.433369  0.015612   \n",
       "yr_built       0.022179  0.054849  0.156820   0.508866     0.319584  0.052469   \n",
       "zipcode       -0.010959 -0.053429 -0.152539  -0.204016    -0.198987 -0.129626   \n",
       "lat           -0.005062  0.307667 -0.009939   0.025243     0.053213 -0.085076   \n",
       "long           0.021254  0.022512  0.131398   0.224660     0.241473  0.230489   \n",
       "sqft_living15 -0.003084  0.586495  0.391936   0.569396     0.756199  0.143815   \n",
       "sqft_lot15    -0.138114  0.083530  0.030779   0.089414     0.184920  0.719499   \n",
       "was_renovated -0.009071  0.116540  0.018082   0.047303     0.049545  0.004396   \n",
       "log_sqft_liv  -0.001205  0.612344  0.621083   0.761380     0.954619  0.149707   \n",
       "\n",
       "                 floors  waterfront      view  condition      ...       \\\n",
       "id             0.019150   -0.003588  0.012859  -0.023410      ...        \n",
       "price          0.256603    0.260777  0.397176   0.034613      ...        \n",
       "bedrooms       0.178518   -0.001578  0.080379   0.025652      ...        \n",
       "bathrooms      0.503796    0.062055  0.187249  -0.128167      ...        \n",
       "sqft_living    0.354260    0.103331  0.283797  -0.061626      ...        \n",
       "sqft_lot      -0.007745    0.021216  0.072668  -0.009207      ...        \n",
       "floors         1.000000    0.019853  0.027748  -0.264259      ...        \n",
       "waterfront     0.019853    1.000000  0.380418   0.016293      ...        \n",
       "view           0.027748    0.380418  1.000000   0.045464      ...        \n",
       "condition     -0.264259    0.016293  0.045464   1.000000      ...        \n",
       "grade          0.459144    0.081945  0.250014  -0.148886      ...        \n",
       "sqft_above     0.523594    0.070315  0.166907  -0.159186      ...        \n",
       "sqft_basement -0.245628    0.082796  0.276521   0.170361      ...        \n",
       "yr_built       0.489898   -0.024358 -0.054415  -0.361838      ...        \n",
       "zipcode       -0.058443    0.028723  0.085300   0.002616      ...        \n",
       "lat            0.049237   -0.011696  0.006174  -0.016021      ...        \n",
       "long           0.125360   -0.036585 -0.076306  -0.105805      ...        \n",
       "sqft_living15  0.279379    0.083676  0.280934  -0.093556      ...        \n",
       "sqft_lot15    -0.011632    0.030188  0.072797  -0.004386      ...        \n",
       "was_renovated  0.002953    0.070947  0.088482  -0.055684      ...        \n",
       "log_sqft_liv   0.367533    0.077985  0.245960  -0.052036      ...        \n",
       "\n",
       "               sqft_above  sqft_basement  yr_built   zipcode       lat  \\\n",
       "id              -0.010757      -0.004480  0.022179 -0.010959 -0.005062   \n",
       "price            0.605481       0.323018  0.054849 -0.053429  0.307667   \n",
       "bedrooms         0.478967       0.301987  0.156820 -0.152539 -0.009939   \n",
       "bathrooms        0.685959       0.281813  0.508866 -0.204016  0.025243   \n",
       "sqft_living      0.876787       0.433369  0.319584 -0.198987  0.053213   \n",
       "sqft_lot         0.183653       0.015612  0.052469 -0.129626 -0.085076   \n",
       "floors           0.523594      -0.245628  0.489898 -0.058443  0.049237   \n",
       "waterfront       0.070315       0.082796 -0.024358  0.028723 -0.011696   \n",
       "view             0.166907       0.276521 -0.054415  0.085300  0.006174   \n",
       "condition       -0.159186       0.170361 -0.361838  0.002616 -0.016021   \n",
       "grade            0.756289       0.166466  0.448574 -0.185138  0.113629   \n",
       "sqft_above       1.000000      -0.053403  0.425170 -0.260751 -0.000014   \n",
       "sqft_basement   -0.053403       1.000000 -0.133178  0.075466  0.110526   \n",
       "yr_built         0.425170      -0.133178  1.000000 -0.346743 -0.148165   \n",
       "zipcode         -0.260751       0.075466 -0.346743  1.000000  0.266868   \n",
       "lat             -0.000014       0.110526 -0.148165  0.266868  1.000000   \n",
       "long             0.344774      -0.144709  0.409009 -0.564133 -0.135173   \n",
       "sqft_living15    0.730794       0.200709  0.325657 -0.278124  0.050357   \n",
       "sqft_lot15       0.195983       0.016705  0.071184 -0.146944 -0.084799   \n",
       "was_renovated    0.019018       0.067242 -0.200535  0.061756  0.029177   \n",
       "log_sqft_liv     0.832324       0.422463  0.350929 -0.221012  0.039979   \n",
       "\n",
       "                   long  sqft_living15  sqft_lot15  was_renovated  \\\n",
       "id             0.021254      -0.003084   -0.138114      -0.009071   \n",
       "price          0.022512       0.586495    0.083530       0.116540   \n",
       "bedrooms       0.131398       0.391936    0.030779       0.018082   \n",
       "bathrooms      0.224660       0.569396    0.089414       0.047303   \n",
       "sqft_living    0.241473       0.756199    0.184920       0.049545   \n",
       "sqft_lot       0.230489       0.143815    0.719499       0.004396   \n",
       "floors         0.125360       0.279379   -0.011632       0.002953   \n",
       "waterfront    -0.036585       0.083676    0.030188       0.070947   \n",
       "view          -0.076306       0.280934    0.072797       0.088482   \n",
       "condition     -0.105805      -0.093556   -0.004386      -0.055684   \n",
       "grade          0.199735       0.713176    0.122404       0.015140   \n",
       "sqft_above     0.344774       0.730794    0.195983       0.019018   \n",
       "sqft_basement -0.144709       0.200709    0.016705       0.067242   \n",
       "yr_built       0.409009       0.325657    0.071184      -0.200535   \n",
       "zipcode       -0.564133      -0.278124   -0.146944       0.061756   \n",
       "lat           -0.135173       0.050357   -0.084799       0.029177   \n",
       "long           1.000000       0.334699    0.255272      -0.064169   \n",
       "sqft_living15  0.334699       1.000000    0.183539       0.000849   \n",
       "sqft_lot15     0.255272       0.183539    1.000000       0.002898   \n",
       "was_renovated -0.064169       0.000849    0.002898       1.000000   \n",
       "log_sqft_liv   0.256977       0.736762    0.162956       0.046557   \n",
       "\n",
       "               log_sqft_liv  \n",
       "id                -0.001205  \n",
       "price              0.612344  \n",
       "bedrooms           0.621083  \n",
       "bathrooms          0.761380  \n",
       "sqft_living        0.954619  \n",
       "sqft_lot           0.149707  \n",
       "floors             0.367533  \n",
       "waterfront         0.077985  \n",
       "view               0.245960  \n",
       "condition         -0.052036  \n",
       "grade              0.743034  \n",
       "sqft_above         0.832324  \n",
       "sqft_basement      0.422463  \n",
       "yr_built           0.350929  \n",
       "zipcode           -0.221012  \n",
       "lat                0.039979  \n",
       "long               0.256977  \n",
       "sqft_living15      0.736762  \n",
       "sqft_lot15         0.162956  \n",
       "was_renovated      0.046557  \n",
       "log_sqft_liv       1.000000  \n",
       "\n",
       "[21 rows x 21 columns]"
      ]
     },
     "execution_count": 247,
     "metadata": {},
     "output_type": "execute_result"
    }
   ],
   "source": [
    "kc_houses.corr()"
   ]
  },
  {
   "cell_type": "code",
   "execution_count": 69,
   "metadata": {},
   "outputs": [
    {
     "data": {
      "text/plain": [
       "<matplotlib.collections.PathCollection at 0x114e29208>"
      ]
     },
     "execution_count": 69,
     "metadata": {},
     "output_type": "execute_result"
    },
    {
     "data": {
      "image/png": "[encoded data removed]",
      "text/plain": [
       "<Figure size 432x288 with 1 Axes>"
      ]
     },
     "metadata": {
      "needs_background": "light"
     },
     "output_type": "display_data"
    }
   ],
   "source": [
    "plt.scatter(kc_houses['view'],kc_houses['price'])"
   ]
  },
  {
   "cell_type": "code",
   "execution_count": 22,
   "metadata": {},
   "outputs": [
    {
     "data": {
      "text/plain": [
       "70"
      ]
     },
     "execution_count": 22,
     "metadata": {},
     "output_type": "execute_result"
    }
   ],
   "source": [
    "kc_houses['zipcode'].nunique()"
   ]
  },
  {
   "cell_type": "code",
   "execution_count": 32,
   "metadata": {},
   "outputs": [
    {
     "data": {
      "text/plain": [
       "<matplotlib.axes._subplots.AxesSubplot at 0x1a1dfbb6d8>"
      ]
     },
     "execution_count": 32,
     "metadata": {},
     "output_type": "execute_result"
    },
    {
     "data": {
      "image/png": "[encoded data removed]",
      "text/plain": [
       "<Figure size 432x288 with 1 Axes>"
      ]
     },
     "metadata": {
      "needs_background": "light"
     },
     "output_type": "display_data"
    }
   ],
   "source": [
    "kc_houses.groupby('zipcode')['price'].median().hist(bins = 30)"
   ]
  },
  {
   "cell_type": "code",
   "execution_count": null,
   "metadata": {},
   "outputs": [],
   "source": [
    "plt.hist(kc_houses['sqft_living15'])"
   ]
  },
  {
   "cell_type": "code",
   "execution_count": 238,
   "metadata": {},
   "outputs": [
    {
     "data": {
      "text/plain": [
       "(array([3.000e+00, 5.000e+00, 1.290e+02, 1.353e+03, 5.251e+03, 6.531e+03,\n",
       "        4.811e+03, 2.385e+03, 5.590e+02, 5.500e+01]),\n",
       " array([5.98896142, 6.26345689, 6.53795237, 6.81244784, 7.08694332,\n",
       "        7.3614388 , 7.63593427, 7.91042975, 8.18492522, 8.4594207 ,\n",
       "        8.73391617]),\n",
       " <a list of 10 Patch objects>)"
      ]
     },
     "execution_count": 238,
     "metadata": {},
     "output_type": "execute_result"
    },
    {
     "data": {
      "image/png": "[encoded data removed]",
      "text/plain": [
       "<Figure size 432x288 with 1 Axes>"
      ]
     },
     "metadata": {
      "needs_background": "light"
     },
     "output_type": "display_data"
    }
   ],
   "source": [
    "import numpy as np\n",
    "plt.hist(np.log(kc_houses['sqft_living15']))"
   ]
  },
  {
   "cell_type": "code",
   "execution_count": 239,
   "metadata": {},
   "outputs": [],
   "source": [
    "kc_houses['log_sqft_liv'] = np.log(kc_houses['sqft_living'])"
   ]
  },
  {
   "cell_type": "code",
   "execution_count": 242,
   "metadata": {},
   "outputs": [
    {
     "data": {
      "text/plain": [
       "<matplotlib.collections.PathCollection at 0x1a270321d0>"
      ]
     },
     "execution_count": 242,
     "metadata": {},
     "output_type": "execute_result"
    },
    {
     "data": {
      "image/png": "[encoded data removed]",
      "text/plain": [
       "<Figure size 432x288 with 1 Axes>"
      ]
     },
     "metadata": {
      "needs_background": "light"
     },
     "output_type": "display_data"
    }
   ],
   "source": [
    "from sklearn.linear_model import LinearRegression as LinReg\n",
    "house_model = LinReg()\n",
    "to_model = kc_houses[['grade','condition','log_sqft_liv']]\n",
    "mod = house_model.fit(to_model,np.log(kc_houses['price']))\n",
    "y_pred = mod.predict(to_model)\n",
    "plt.scatter(y_pred,np.log(kc_houses['price']))"
   ]
  },
  {
   "cell_type": "code",
   "execution_count": 243,
   "metadata": {},
   "outputs": [
    {
     "data": {
      "text/plain": [
       "0.5774503590441932"
      ]
     },
     "execution_count": 243,
     "metadata": {},
     "output_type": "execute_result"
    }
   ],
   "source": [
    "from sklearn.metrics import explained_variance_score\n",
    "explained_variance_score(kc_houses['price'],np.e**y_pred)"
   ]
  },
  {
   "cell_type": "code",
   "execution_count": null,
   "metadata": {},
   "outputs": [],
   "source": [
    "#ask Bryan how to encode 70 categories"
   ]
  },
  {
   "cell_type": "code",
   "execution_count": 100,
   "metadata": {},
   "outputs": [
    {
     "data": {
      "text/plain": [
       "<matplotlib.collections.PathCollection at 0x1a20f1c320>"
      ]
     },
     "execution_count": 100,
     "metadata": {},
     "output_type": "execute_result"
    },
    {
     "data": {
      "image/png": "[encoded data removed]",
      "text/plain": [
       "<Figure size 432x288 with 1 Axes>"
      ]
     },
     "metadata": {
      "needs_background": "light"
     },
     "output_type": "display_data"
    }
   ],
   "source": [
    "everything = kc_houses.drop(columns = ['id','date','price',])\n",
    "mod = house_model.fit(everything,np.log(kc_houses['price']))\n",
    "y_pred = mod.predict(everything)\n",
    "plt.scatter(y_pred,np.log(kc_houses['price']))"
   ]
  },
  {
   "cell_type": "code",
   "execution_count": 101,
   "metadata": {},
   "outputs": [
    {
     "data": {
      "text/plain": [
       "0.6990673731935952"
      ]
     },
     "execution_count": 101,
     "metadata": {},
     "output_type": "execute_result"
    }
   ],
   "source": [
    "explained_variance_score(kc_houses['price'],np.e**y_pred)"
   ]
  },
  {
   "cell_type": "code",
   "execution_count": 120,
   "metadata": {},
   "outputs": [],
   "source": [
    "model_features = kc_houses[['bedrooms','bathrooms','floors','waterfront','condition','grade','sqft_above','sqft_basement','yr_built','was_renovated','log_sqft_liv']]"
   ]
  },
  {
   "cell_type": "code",
   "execution_count": 122,
   "metadata": {},
   "outputs": [
    {
     "data": {
      "text/plain": [
       "array([[<matplotlib.axes._subplots.AxesSubplot object at 0x1a1e308f28>,\n",
       "        <matplotlib.axes._subplots.AxesSubplot object at 0x1a2113d2b0>,\n",
       "        <matplotlib.axes._subplots.AxesSubplot object at 0x1a21165518>],\n",
       "       [<matplotlib.axes._subplots.AxesSubplot object at 0x1a2118ca90>,\n",
       "        <matplotlib.axes._subplots.AxesSubplot object at 0x1a1e8e8048>,\n",
       "        <matplotlib.axes._subplots.AxesSubplot object at 0x1a212245c0>],\n",
       "       [<matplotlib.axes._subplots.AxesSubplot object at 0x1a2124cb38>,\n",
       "        <matplotlib.axes._subplots.AxesSubplot object at 0x1a1f7d4128>,\n",
       "        <matplotlib.axes._subplots.AxesSubplot object at 0x1a1f7d4160>],\n",
       "       [<matplotlib.axes._subplots.AxesSubplot object at 0x1a211ccbe0>,\n",
       "        <matplotlib.axes._subplots.AxesSubplot object at 0x1a20c64198>,\n",
       "        <matplotlib.axes._subplots.AxesSubplot object at 0x1a21529710>]],\n",
       "      dtype=object)"
      ]
     },
     "execution_count": 122,
     "metadata": {},
     "output_type": "execute_result"
    },
    {
     "data": {
      "image/png": "[encoded data removed]",
      "text/plain": [
       "<Figure size 1296x1080 with 12 Axes>"
      ]
     },
     "metadata": {
      "needs_background": "light"
     },
     "output_type": "display_data"
    }
   ],
   "source": [
    "model_features.hist(figsize = (18,15))"
   ]
  },
  {
   "cell_type": "code",
   "execution_count": 124,
   "metadata": {},
   "outputs": [
    {
     "data": {
      "text/plain": [
       "(array([1.9100e+02, 2.6850e+03, 0.0000e+00, 1.6331e+04, 1.5550e+03,\n",
       "        3.0900e+02, 1.0000e+01, 0.0000e+00, 0.0000e+00, 1.0000e+00]),\n",
       " array([0.        , 0.34965076, 0.69930151, 1.04895227, 1.39860302,\n",
       "        1.74825378, 2.09790454, 2.44755529, 2.79720605, 3.14685681,\n",
       "        3.49650756]),\n",
       " <a list of 10 Patch objects>)"
      ]
     },
     "execution_count": 124,
     "metadata": {},
     "output_type": "execute_result"
    },
    {
     "data": {
      "image/png": "[encoded data removed]",
      "text/plain": [
       "<Figure size 432x288 with 1 Axes>"
      ]
     },
     "metadata": {
      "needs_background": "light"
     },
     "output_type": "display_data"
    }
   ],
   "source": [
    "plt.hist(np.log(kc_houses['bedrooms']))"
   ]
  },
  {
   "cell_type": "code",
   "execution_count": null,
   "metadata": {},
   "outputs": [],
   "source": [
    "mod = house_model.fit(model_features,np.log(kc_houses['price']))\n",
    "y_pred = mod.predict(everything)\n",
    "plt.scatter(y_pred,np.log(kc_houses['price']))"
   ]
  },
  {
   "cell_type": "code",
   "execution_count": null,
   "metadata": {},
   "outputs": [],
   "source": [
    "from sklearn.feature_selection import RFE\n"
   ]
  },
  {
   "cell_type": "code",
   "execution_count": null,
   "metadata": {},
   "outputs": [],
   "source": []
  },
  {
   "cell_type": "code",
   "execution_count": 244,
   "metadata": {},
   "outputs": [],
   "source": [
    "zips = pd.get_dummies(kc_houses['zipcode'])"
   ]
  },
  {
   "cell_type": "code",
   "execution_count": 245,
   "metadata": {},
   "outputs": [],
   "source": [
    "houses_with_zips = pd.concat([kc_houses,zips],axis =1)"
   ]
  },
  {
   "cell_type": "code",
   "execution_count": 246,
   "metadata": {},
   "outputs": [],
   "source": [
    "houses_with_zips.drop(columns = ['zipcode'],inplace=True)"
   ]
  },
  {
   "cell_type": "code",
   "execution_count": 268,
   "metadata": {},
   "outputs": [],
   "source": [
    "slim_model = houses_with_zips.drop(columns = ['id','date','price','bathrooms','sqft_living','sqft_lot','floors','waterfront','condition','grade','view','sqft_above','sqft_basement','yr_built','lat','long','sqft_living15','sqft_lot15'])"
   ]
  },
  {
   "cell_type": "code",
   "execution_count": 148,
   "metadata": {},
   "outputs": [],
   "source": [
    "from sklearn.model_selection import train_test_split"
   ]
  },
  {
   "cell_type": "code",
   "execution_count": 269,
   "metadata": {},
   "outputs": [],
   "source": [
    "everything = houses_with_zips.drop(columns = ['id','date','price','sqft_lot','sqft_lot15','sqft_living15'])\n",
    "target = houses_with_zips['price']"
   ]
  },
  {
   "cell_type": "code",
   "execution_count": 200,
   "metadata": {},
   "outputs": [],
   "source": [
    "everything_train, everything_test, target_train, target_test = train_test_split(everything,target,test_size=.2)"
   ]
  },
  {
   "cell_type": "code",
   "execution_count": 270,
   "metadata": {},
   "outputs": [],
   "source": [
    "slim_train, slim_test, target_train, target_test = train_test_split(slim_model,target, test_size = 0.2)"
   ]
  },
  {
   "cell_type": "code",
   "execution_count": 271,
   "metadata": {},
   "outputs": [
    {
     "data": {
      "text/plain": [
       "<matplotlib.collections.PathCollection at 0x1a28332fd0>"
      ]
     },
     "execution_count": 271,
     "metadata": {},
     "output_type": "execute_result"
    },
    {
     "data": {
      "image/png": "[encoded data removed]",
      "text/plain": [
       "<Figure size 432x288 with 1 Axes>"
      ]
     },
     "metadata": {
      "needs_background": "light"
     },
     "output_type": "display_data"
    }
   ],
   "source": [
    "mod = house_model.fit(slim_train,np.log(target_train))\n",
    "y_pred = mod.predict(slim_test)\n",
    "plt.scatter(np.e**y_pred,target_test)"
   ]
  },
  {
   "cell_type": "code",
   "execution_count": 272,
   "metadata": {},
   "outputs": [
    {
     "data": {
      "text/plain": [
       "0.7618729583546467"
      ]
     },
     "execution_count": 272,
     "metadata": {},
     "output_type": "execute_result"
    }
   ],
   "source": [
    "explained_variance_score(target_test,np.e**y_pred)#is this logic correct?"
   ]
  },
  {
   "cell_type": "code",
   "execution_count": 157,
   "metadata": {},
   "outputs": [
    {
     "data": {
      "text/plain": [
       "(array([1.631e+03, 6.216e+03, 5.359e+03, 3.395e+03, 1.987e+03, 9.980e+02,\n",
       "        4.000e+02, 3.080e+02, 2.130e+02, 1.560e+02, 1.070e+02, 7.800e+01,\n",
       "        4.700e+01, 2.900e+01, 3.300e+01, 3.200e+01, 1.600e+01, 1.200e+01,\n",
       "        1.500e+01, 1.400e+01, 6.000e+00, 9.000e+00, 1.000e+00, 6.000e+00,\n",
       "        3.000e+00, 1.000e+00, 0.000e+00, 1.000e+00, 1.000e+00, 1.000e+00,\n",
       "        1.000e+00, 0.000e+00, 0.000e+00, 1.000e+00, 1.000e+00, 0.000e+00,\n",
       "        1.000e+00, 0.000e+00, 0.000e+00, 0.000e+00, 0.000e+00, 0.000e+00,\n",
       "        0.000e+00, 0.000e+00, 1.000e+00, 1.000e+00, 0.000e+00, 0.000e+00,\n",
       "        0.000e+00, 1.000e+00]),\n",
       " array([  78000.,  230440.,  382880.,  535320.,  687760.,  840200.,\n",
       "         992640., 1145080., 1297520., 1449960., 1602400., 1754840.,\n",
       "        1907280., 2059720., 2212160., 2364600., 2517040., 2669480.,\n",
       "        2821920., 2974360., 3126800., 3279240., 3431680., 3584120.,\n",
       "        3736560., 3889000., 4041440., 4193880., 4346320., 4498760.,\n",
       "        4651200., 4803640., 4956080., 5108520., 5260960., 5413400.,\n",
       "        5565840., 5718280., 5870720., 6023160., 6175600., 6328040.,\n",
       "        6480480., 6632920., 6785360., 6937800., 7090240., 7242680.,\n",
       "        7395120., 7547560., 7700000.]),\n",
       " <a list of 50 Patch objects>)"
      ]
     },
     "execution_count": 157,
     "metadata": {},
     "output_type": "execute_result"
    },
    {
     "data": {
      "image/png": "[encoded data removed]",
      "text/plain": [
       "<Figure size 1080x864 with 1 Axes>"
      ]
     },
     "metadata": {
      "needs_background": "light"
     },
     "output_type": "display_data"
    }
   ],
   "source": [
    "plt.figure(figsize = (15,12))\n",
    "plt.hist(kc_houses['price'],bins = 50)"
   ]
  },
  {
   "cell_type": "code",
   "execution_count": 262,
   "metadata": {},
   "outputs": [
    {
     "data": {
      "text/plain": [
       "count    2.108200e+04\n",
       "mean     5.402469e+05\n",
       "std      3.667323e+05\n",
       "min      7.800000e+04\n",
       "25%      3.220000e+05\n",
       "50%      4.500000e+05\n",
       "75%      6.450000e+05\n",
       "max      7.700000e+06\n",
       "Name: price, dtype: float64"
      ]
     },
     "execution_count": 262,
     "metadata": {},
     "output_type": "execute_result"
    }
   ],
   "source": [
    "kc_houses['price'].describe()"
   ]
  },
  {
   "cell_type": "code",
   "execution_count": 263,
   "metadata": {},
   "outputs": [
    {
     "data": {
      "text/html": [
       "<div>\n",
       "<style scoped>\n",
       "    .dataframe tbody tr th:only-of-type {\n",
       "        vertical-align: middle;\n",
       "    }\n",
       "\n",
       "    .dataframe tbody tr th {\n",
       "        vertical-align: top;\n",
       "    }\n",
       "\n",
       "    .dataframe thead th {\n",
       "        text-align: right;\n",
       "    }\n",
       "</style>\n",
       "<table border=\"1\" class=\"dataframe\">\n",
       "  <thead>\n",
       "    <tr style=\"text-align: right;\">\n",
       "      <th></th>\n",
       "      <th>id</th>\n",
       "      <th>price</th>\n",
       "      <th>bedrooms</th>\n",
       "      <th>bathrooms</th>\n",
       "      <th>sqft_living</th>\n",
       "      <th>sqft_lot</th>\n",
       "      <th>floors</th>\n",
       "      <th>waterfront</th>\n",
       "      <th>view</th>\n",
       "      <th>condition</th>\n",
       "      <th>...</th>\n",
       "      <th>sqft_above</th>\n",
       "      <th>sqft_basement</th>\n",
       "      <th>yr_built</th>\n",
       "      <th>zipcode</th>\n",
       "      <th>lat</th>\n",
       "      <th>long</th>\n",
       "      <th>sqft_living15</th>\n",
       "      <th>sqft_lot15</th>\n",
       "      <th>was_renovated</th>\n",
       "      <th>log_sqft_liv</th>\n",
       "    </tr>\n",
       "  </thead>\n",
       "  <tbody>\n",
       "    <tr>\n",
       "      <th>count</th>\n",
       "      <td>2.108200e+04</td>\n",
       "      <td>2.108200e+04</td>\n",
       "      <td>21082.000000</td>\n",
       "      <td>21082.000000</td>\n",
       "      <td>21082.000000</td>\n",
       "      <td>2.108200e+04</td>\n",
       "      <td>21082.00000</td>\n",
       "      <td>21082.000000</td>\n",
       "      <td>21082.000000</td>\n",
       "      <td>21082.000000</td>\n",
       "      <td>...</td>\n",
       "      <td>21082.000000</td>\n",
       "      <td>21082.000000</td>\n",
       "      <td>21082.000000</td>\n",
       "      <td>21082.000000</td>\n",
       "      <td>21082.000000</td>\n",
       "      <td>21082.000000</td>\n",
       "      <td>21082.000000</td>\n",
       "      <td>21082.000000</td>\n",
       "      <td>21082.000000</td>\n",
       "      <td>21082.000000</td>\n",
       "    </tr>\n",
       "    <tr>\n",
       "      <th>mean</th>\n",
       "      <td>4.582793e+09</td>\n",
       "      <td>5.402469e+05</td>\n",
       "      <td>3.372403</td>\n",
       "      <td>2.115916</td>\n",
       "      <td>2080.359975</td>\n",
       "      <td>1.507759e+04</td>\n",
       "      <td>1.49362</td>\n",
       "      <td>0.006688</td>\n",
       "      <td>0.233327</td>\n",
       "      <td>3.409828</td>\n",
       "      <td>...</td>\n",
       "      <td>1789.000000</td>\n",
       "      <td>291.359975</td>\n",
       "      <td>1971.023337</td>\n",
       "      <td>98077.858837</td>\n",
       "      <td>47.560371</td>\n",
       "      <td>-122.213843</td>\n",
       "      <td>1986.917418</td>\n",
       "      <td>12732.514135</td>\n",
       "      <td>0.034247</td>\n",
       "      <td>7.550815</td>\n",
       "    </tr>\n",
       "    <tr>\n",
       "      <th>std</th>\n",
       "      <td>2.876423e+09</td>\n",
       "      <td>3.667323e+05</td>\n",
       "      <td>0.924996</td>\n",
       "      <td>0.768142</td>\n",
       "      <td>917.856396</td>\n",
       "      <td>4.117338e+04</td>\n",
       "      <td>0.53937</td>\n",
       "      <td>0.081509</td>\n",
       "      <td>0.765066</td>\n",
       "      <td>0.650597</td>\n",
       "      <td>...</td>\n",
       "      <td>828.369355</td>\n",
       "      <td>442.007858</td>\n",
       "      <td>29.323120</td>\n",
       "      <td>53.528769</td>\n",
       "      <td>0.138568</td>\n",
       "      <td>0.140607</td>\n",
       "      <td>685.544250</td>\n",
       "      <td>27148.781580</td>\n",
       "      <td>0.181868</td>\n",
       "      <td>0.423980</td>\n",
       "    </tr>\n",
       "    <tr>\n",
       "      <th>min</th>\n",
       "      <td>1.000102e+06</td>\n",
       "      <td>7.800000e+04</td>\n",
       "      <td>1.000000</td>\n",
       "      <td>0.500000</td>\n",
       "      <td>370.000000</td>\n",
       "      <td>5.200000e+02</td>\n",
       "      <td>1.00000</td>\n",
       "      <td>0.000000</td>\n",
       "      <td>0.000000</td>\n",
       "      <td>1.000000</td>\n",
       "      <td>...</td>\n",
       "      <td>370.000000</td>\n",
       "      <td>0.000000</td>\n",
       "      <td>1900.000000</td>\n",
       "      <td>98001.000000</td>\n",
       "      <td>47.155900</td>\n",
       "      <td>-122.519000</td>\n",
       "      <td>399.000000</td>\n",
       "      <td>651.000000</td>\n",
       "      <td>0.000000</td>\n",
       "      <td>5.913503</td>\n",
       "    </tr>\n",
       "    <tr>\n",
       "      <th>25%</th>\n",
       "      <td>2.123700e+09</td>\n",
       "      <td>3.220000e+05</td>\n",
       "      <td>3.000000</td>\n",
       "      <td>1.750000</td>\n",
       "      <td>1430.000000</td>\n",
       "      <td>5.040000e+03</td>\n",
       "      <td>1.00000</td>\n",
       "      <td>0.000000</td>\n",
       "      <td>0.000000</td>\n",
       "      <td>3.000000</td>\n",
       "      <td>...</td>\n",
       "      <td>1200.000000</td>\n",
       "      <td>0.000000</td>\n",
       "      <td>1952.000000</td>\n",
       "      <td>98033.000000</td>\n",
       "      <td>47.471325</td>\n",
       "      <td>-122.328000</td>\n",
       "      <td>1490.000000</td>\n",
       "      <td>5100.000000</td>\n",
       "      <td>0.000000</td>\n",
       "      <td>7.265430</td>\n",
       "    </tr>\n",
       "    <tr>\n",
       "      <th>50%</th>\n",
       "      <td>3.904970e+09</td>\n",
       "      <td>4.500000e+05</td>\n",
       "      <td>3.000000</td>\n",
       "      <td>2.250000</td>\n",
       "      <td>1910.000000</td>\n",
       "      <td>7.620000e+03</td>\n",
       "      <td>1.50000</td>\n",
       "      <td>0.000000</td>\n",
       "      <td>0.000000</td>\n",
       "      <td>3.000000</td>\n",
       "      <td>...</td>\n",
       "      <td>1560.000000</td>\n",
       "      <td>0.000000</td>\n",
       "      <td>1975.000000</td>\n",
       "      <td>98065.000000</td>\n",
       "      <td>47.572200</td>\n",
       "      <td>-122.230000</td>\n",
       "      <td>1840.000000</td>\n",
       "      <td>7626.000000</td>\n",
       "      <td>0.000000</td>\n",
       "      <td>7.554859</td>\n",
       "    </tr>\n",
       "    <tr>\n",
       "      <th>75%</th>\n",
       "      <td>7.312200e+09</td>\n",
       "      <td>6.450000e+05</td>\n",
       "      <td>4.000000</td>\n",
       "      <td>2.500000</td>\n",
       "      <td>2550.000000</td>\n",
       "      <td>1.069775e+04</td>\n",
       "      <td>2.00000</td>\n",
       "      <td>0.000000</td>\n",
       "      <td>0.000000</td>\n",
       "      <td>4.000000</td>\n",
       "      <td>...</td>\n",
       "      <td>2210.000000</td>\n",
       "      <td>560.000000</td>\n",
       "      <td>1997.000000</td>\n",
       "      <td>98117.000000</td>\n",
       "      <td>47.678200</td>\n",
       "      <td>-122.125000</td>\n",
       "      <td>2360.000000</td>\n",
       "      <td>10088.750000</td>\n",
       "      <td>0.000000</td>\n",
       "      <td>7.843849</td>\n",
       "    </tr>\n",
       "    <tr>\n",
       "      <th>max</th>\n",
       "      <td>9.900000e+09</td>\n",
       "      <td>7.700000e+06</td>\n",
       "      <td>33.000000</td>\n",
       "      <td>8.000000</td>\n",
       "      <td>13540.000000</td>\n",
       "      <td>1.651359e+06</td>\n",
       "      <td>3.50000</td>\n",
       "      <td>1.000000</td>\n",
       "      <td>4.000000</td>\n",
       "      <td>5.000000</td>\n",
       "      <td>...</td>\n",
       "      <td>9410.000000</td>\n",
       "      <td>4820.000000</td>\n",
       "      <td>2015.000000</td>\n",
       "      <td>98199.000000</td>\n",
       "      <td>47.777600</td>\n",
       "      <td>-121.315000</td>\n",
       "      <td>6210.000000</td>\n",
       "      <td>871200.000000</td>\n",
       "      <td>1.000000</td>\n",
       "      <td>9.513404</td>\n",
       "    </tr>\n",
       "  </tbody>\n",
       "</table>\n",
       "<p>8 rows × 21 columns</p>\n",
       "</div>"
      ],
      "text/plain": [
       "                 id         price      bedrooms     bathrooms   sqft_living  \\\n",
       "count  2.108200e+04  2.108200e+04  21082.000000  21082.000000  21082.000000   \n",
       "mean   4.582793e+09  5.402469e+05      3.372403      2.115916   2080.359975   \n",
       "std    2.876423e+09  3.667323e+05      0.924996      0.768142    917.856396   \n",
       "min    1.000102e+06  7.800000e+04      1.000000      0.500000    370.000000   \n",
       "25%    2.123700e+09  3.220000e+05      3.000000      1.750000   1430.000000   \n",
       "50%    3.904970e+09  4.500000e+05      3.000000      2.250000   1910.000000   \n",
       "75%    7.312200e+09  6.450000e+05      4.000000      2.500000   2550.000000   \n",
       "max    9.900000e+09  7.700000e+06     33.000000      8.000000  13540.000000   \n",
       "\n",
       "           sqft_lot       floors    waterfront          view     condition  \\\n",
       "count  2.108200e+04  21082.00000  21082.000000  21082.000000  21082.000000   \n",
       "mean   1.507759e+04      1.49362      0.006688      0.233327      3.409828   \n",
       "std    4.117338e+04      0.53937      0.081509      0.765066      0.650597   \n",
       "min    5.200000e+02      1.00000      0.000000      0.000000      1.000000   \n",
       "25%    5.040000e+03      1.00000      0.000000      0.000000      3.000000   \n",
       "50%    7.620000e+03      1.50000      0.000000      0.000000      3.000000   \n",
       "75%    1.069775e+04      2.00000      0.000000      0.000000      4.000000   \n",
       "max    1.651359e+06      3.50000      1.000000      4.000000      5.000000   \n",
       "\n",
       "           ...         sqft_above  sqft_basement      yr_built       zipcode  \\\n",
       "count      ...       21082.000000   21082.000000  21082.000000  21082.000000   \n",
       "mean       ...        1789.000000     291.359975   1971.023337  98077.858837   \n",
       "std        ...         828.369355     442.007858     29.323120     53.528769   \n",
       "min        ...         370.000000       0.000000   1900.000000  98001.000000   \n",
       "25%        ...        1200.000000       0.000000   1952.000000  98033.000000   \n",
       "50%        ...        1560.000000       0.000000   1975.000000  98065.000000   \n",
       "75%        ...        2210.000000     560.000000   1997.000000  98117.000000   \n",
       "max        ...        9410.000000    4820.000000   2015.000000  98199.000000   \n",
       "\n",
       "                lat          long  sqft_living15     sqft_lot15  \\\n",
       "count  21082.000000  21082.000000   21082.000000   21082.000000   \n",
       "mean      47.560371   -122.213843    1986.917418   12732.514135   \n",
       "std        0.138568      0.140607     685.544250   27148.781580   \n",
       "min       47.155900   -122.519000     399.000000     651.000000   \n",
       "25%       47.471325   -122.328000    1490.000000    5100.000000   \n",
       "50%       47.572200   -122.230000    1840.000000    7626.000000   \n",
       "75%       47.678200   -122.125000    2360.000000   10088.750000   \n",
       "max       47.777600   -121.315000    6210.000000  871200.000000   \n",
       "\n",
       "       was_renovated  log_sqft_liv  \n",
       "count   21082.000000  21082.000000  \n",
       "mean        0.034247      7.550815  \n",
       "std         0.181868      0.423980  \n",
       "min         0.000000      5.913503  \n",
       "25%         0.000000      7.265430  \n",
       "50%         0.000000      7.554859  \n",
       "75%         0.000000      7.843849  \n",
       "max         1.000000      9.513404  \n",
       "\n",
       "[8 rows x 21 columns]"
      ]
     },
     "execution_count": 263,
     "metadata": {},
     "output_type": "execute_result"
    }
   ],
   "source": [
    "kc_houses.describe()"
   ]
  },
  {
   "cell_type": "code",
   "execution_count": 163,
   "metadata": {},
   "outputs": [
    {
     "data": {
      "text/plain": [
       "(array([ 22.,  29.,  52.,  87., 172., 206., 374., 519., 540., 793., 829.,\n",
       "        639., 818., 864., 775., 724., 740., 678., 764., 720., 750., 539.,\n",
       "        650., 447., 529., 605., 502., 389., 438., 401., 287., 393., 317.,\n",
       "        286., 264., 275., 284., 201., 207., 236., 168., 194., 148., 122.,\n",
       "        145., 130.,  83., 112.,  99.,  82.]),\n",
       " array([ 78000.  ,  96439.98, 114879.96, 133319.94, 151759.92, 170199.9 ,\n",
       "        188639.88, 207079.86, 225519.84, 243959.82, 262399.8 , 280839.78,\n",
       "        299279.76, 317719.74, 336159.72, 354599.7 , 373039.68, 391479.66,\n",
       "        409919.64, 428359.62, 446799.6 , 465239.58, 483679.56, 502119.54,\n",
       "        520559.52, 538999.5 , 557439.48, 575879.46, 594319.44, 612759.42,\n",
       "        631199.4 , 649639.38, 668079.36, 686519.34, 704959.32, 723399.3 ,\n",
       "        741839.28, 760279.26, 778719.24, 797159.22, 815599.2 , 834039.18,\n",
       "        852479.16, 870919.14, 889359.12, 907799.1 , 926239.08, 944679.06,\n",
       "        963119.04, 981559.02, 999999.  ]),\n",
       " <a list of 50 Patch objects>)"
      ]
     },
     "execution_count": 163,
     "metadata": {},
     "output_type": "execute_result"
    },
    {
     "data": {
      "image/png": "[encoded data removed]",
      "text/plain": [
       "<Figure size 432x288 with 1 Axes>"
      ]
     },
     "metadata": {
      "needs_background": "light"
     },
     "output_type": "display_data"
    }
   ],
   "source": [
    "plt.hist(kc_houses['price'],bins =50)"
   ]
  },
  {
   "cell_type": "code",
   "execution_count": 164,
   "metadata": {},
   "outputs": [],
   "source": [
    "everything = houses_with_zips.drop(columns = ['id','date','price','sqft_lot','sqft_lot15','sqft_living15','bathrooms'])\n",
    "target = houses_with_zips['price']\n",
    "everything_train, everything_test, target_train, target_test = train_test_split(everything,target,test_size=.2)"
   ]
  },
  {
   "cell_type": "code",
   "execution_count": 165,
   "metadata": {},
   "outputs": [
    {
     "data": {
      "text/plain": [
       "<matplotlib.collections.PathCollection at 0x1a23b9ada0>"
      ]
     },
     "execution_count": 165,
     "metadata": {},
     "output_type": "execute_result"
    },
    {
     "data": {
      "image/png": "[encoded data removed]",
      "text/plain": [
       "<Figure size 432x288 with 1 Axes>"
      ]
     },
     "metadata": {
      "needs_background": "light"
     },
     "output_type": "display_data"
    }
   ],
   "source": [
    "mod = house_model.fit(everything_train,target_train)\n",
    "y_pred = mod.predict(everything_test)\n",
    "plt.scatter(y_pred,target_test)"
   ]
  },
  {
   "cell_type": "code",
   "execution_count": 166,
   "metadata": {},
   "outputs": [
    {
     "data": {
      "text/plain": [
       "0.7869024501856363"
      ]
     },
     "execution_count": 166,
     "metadata": {},
     "output_type": "execute_result"
    }
   ],
   "source": [
    "explained_variance_score(target_test,y_pred)"
   ]
  },
  {
   "cell_type": "code",
   "execution_count": 169,
   "metadata": {},
   "outputs": [
    {
     "data": {
      "text/plain": [
       "(array([105.,  24.,  43.,  42.,  55.,  78., 138.,  81., 120.,  66.,  69.,\n",
       "         49.,  48., 130.,  51., 110.,  81.,  94.,  68.,  85., 199., 142.,\n",
       "        157., 100., 109., 109., 128.,  36.,  22.,  19.,  21.,  35.,  54.,\n",
       "        137., 141., 143., 211., 162., 138.,  91., 364., 223., 179., 227.,\n",
       "        207., 203., 494., 256., 186., 187., 209., 315., 237., 505., 234.,\n",
       "        156., 173., 232., 330., 358., 381.,  97., 136., 138., 153., 177.,\n",
       "        626., 371., 329., 222., 187.,  94., 196., 419., 205., 269., 236.,\n",
       "        253., 285., 198., 372., 239., 144., 166., 159., 212., 410., 256.,\n",
       "        195., 386., 389., 399., 387., 671., 214., 135., 121., 156., 172.,\n",
       "        507.]),\n",
       " array([1900.  , 1901.15, 1902.3 , 1903.45, 1904.6 , 1905.75, 1906.9 ,\n",
       "        1908.05, 1909.2 , 1910.35, 1911.5 , 1912.65, 1913.8 , 1914.95,\n",
       "        1916.1 , 1917.25, 1918.4 , 1919.55, 1920.7 , 1921.85, 1923.  ,\n",
       "        1924.15, 1925.3 , 1926.45, 1927.6 , 1928.75, 1929.9 , 1931.05,\n",
       "        1932.2 , 1933.35, 1934.5 , 1935.65, 1936.8 , 1937.95, 1939.1 ,\n",
       "        1940.25, 1941.4 , 1942.55, 1943.7 , 1944.85, 1946.  , 1947.15,\n",
       "        1948.3 , 1949.45, 1950.6 , 1951.75, 1952.9 , 1954.05, 1955.2 ,\n",
       "        1956.35, 1957.5 , 1958.65, 1959.8 , 1960.95, 1962.1 , 1963.25,\n",
       "        1964.4 , 1965.55, 1966.7 , 1967.85, 1969.  , 1970.15, 1971.3 ,\n",
       "        1972.45, 1973.6 , 1974.75, 1975.9 , 1977.05, 1978.2 , 1979.35,\n",
       "        1980.5 , 1981.65, 1982.8 , 1983.95, 1985.1 , 1986.25, 1987.4 ,\n",
       "        1988.55, 1989.7 , 1990.85, 1992.  , 1993.15, 1994.3 , 1995.45,\n",
       "        1996.6 , 1997.75, 1998.9 , 2000.05, 2001.2 , 2002.35, 2003.5 ,\n",
       "        2004.65, 2005.8 , 2006.95, 2008.1 , 2009.25, 2010.4 , 2011.55,\n",
       "        2012.7 , 2013.85, 2015.  ]),\n",
       " <a list of 100 Patch objects>)"
      ]
     },
     "execution_count": 169,
     "metadata": {},
     "output_type": "execute_result"
    },
    {
     "data": {
      "image/png": "[encoded data removed]",
      "text/plain": [
       "<Figure size 432x288 with 1 Axes>"
      ]
     },
     "metadata": {
      "needs_background": "light"
     },
     "output_type": "display_data"
    }
   ],
   "source": [
    "plt.hist(kc_houses['yr_built'], bins =100)"
   ]
  },
  {
   "cell_type": "code",
   "execution_count": 181,
   "metadata": {},
   "outputs": [
    {
     "data": {
      "text/plain": [
       "<matplotlib.collections.PathCollection at 0x1a217e0940>"
      ]
     },
     "execution_count": 181,
     "metadata": {},
     "output_type": "execute_result"
    },
    {
     "data": {
      "image/png": "[encoded data removed]",
      "text/plain": [
       "<Figure size 432x288 with 1 Axes>"
      ]
     },
     "metadata": {
      "needs_background": "light"
     },
     "output_type": "display_data"
    }
   ],
   "source": [
    "plt.scatter(kc_houses['yr_built'],kc_houses['zipcode'])"
   ]
  },
  {
   "cell_type": "code",
   "execution_count": 182,
   "metadata": {},
   "outputs": [
    {
     "data": {
      "text/plain": [
       "116"
      ]
     },
     "execution_count": 182,
     "metadata": {},
     "output_type": "execute_result"
    }
   ],
   "source": [
    "kc_houses['yr_built'].nunique()"
   ]
  },
  {
   "cell_type": "code",
   "execution_count": 183,
   "metadata": {},
   "outputs": [
    {
     "data": {
      "text/plain": [
       "zipcode  yr_built\n",
       "98001    1903         230000.0\n",
       "         1908         213750.0\n",
       "         1909         185900.0\n",
       "         1912         170000.0\n",
       "         1913         168000.0\n",
       "         1919         189950.0\n",
       "         1936         292500.0\n",
       "         1938         389000.0\n",
       "         1939         249900.0\n",
       "         1942         239950.0\n",
       "         1943         311000.0\n",
       "         1944         199900.0\n",
       "         1946         207725.0\n",
       "         1947         225000.0\n",
       "         1948         366250.0\n",
       "         1950         243450.0\n",
       "         1952         231500.0\n",
       "         1953         209550.0\n",
       "         1954         228725.0\n",
       "         1955         314564.5\n",
       "         1956         100000.0\n",
       "         1958         210500.0\n",
       "         1959         341500.0\n",
       "         1960         246700.0\n",
       "         1961         294000.0\n",
       "         1962         223500.0\n",
       "         1963         217500.0\n",
       "         1964         235000.0\n",
       "         1965         274000.0\n",
       "         1966         215000.0\n",
       "                       ...    \n",
       "98199    1968         830000.0\n",
       "         1970         611750.0\n",
       "         1972         707000.0\n",
       "         1977         714500.0\n",
       "         1983         440000.0\n",
       "         1986        1340000.0\n",
       "         1990         450000.0\n",
       "         1992         950000.0\n",
       "         1993         390000.0\n",
       "         1994         509500.0\n",
       "         1996        2160000.0\n",
       "         1997         495500.0\n",
       "         1998        1930000.0\n",
       "         1999        1570000.0\n",
       "         2000         803000.0\n",
       "         2001        1170000.0\n",
       "         2002         505000.0\n",
       "         2003         443750.0\n",
       "         2004         678000.0\n",
       "         2005         957000.0\n",
       "         2006         825000.0\n",
       "         2007         612500.0\n",
       "         2008         520000.0\n",
       "         2009         435000.0\n",
       "         2010        2125000.0\n",
       "         2011         453000.0\n",
       "         2012         761400.0\n",
       "         2013         549000.0\n",
       "         2014        1050000.0\n",
       "         2015         585500.0\n",
       "Name: price, Length: 4681, dtype: float64"
      ]
     },
     "execution_count": 183,
     "metadata": {},
     "output_type": "execute_result"
    }
   ],
   "source": [
    "kc_houses.groupby(['zipcode','yr_built'])['price'].median()"
   ]
  },
  {
   "cell_type": "code",
   "execution_count": 186,
   "metadata": {},
   "outputs": [
    {
     "data": {
      "text/plain": [
       "(array([2.8760e+03, 1.6331e+04, 1.5550e+03, 2.9600e+02, 1.3000e+01,\n",
       "        9.0000e+00, 1.0000e+00, 0.0000e+00, 0.0000e+00, 0.0000e+00,\n",
       "        0.0000e+00, 0.0000e+00, 0.0000e+00, 0.0000e+00, 0.0000e+00,\n",
       "        0.0000e+00, 0.0000e+00, 0.0000e+00, 0.0000e+00, 1.0000e+00]),\n",
       " array([ 1. ,  2.6,  4.2,  5.8,  7.4,  9. , 10.6, 12.2, 13.8, 15.4, 17. ,\n",
       "        18.6, 20.2, 21.8, 23.4, 25. , 26.6, 28.2, 29.8, 31.4, 33. ]),\n",
       " <a list of 20 Patch objects>)"
      ]
     },
     "execution_count": 186,
     "metadata": {},
     "output_type": "execute_result"
    },
    {
     "data": {
      "image/png": "[encoded data removed]",
      "text/plain": [
       "<Figure size 1080x864 with 1 Axes>"
      ]
     },
     "metadata": {
      "needs_background": "light"
     },
     "output_type": "display_data"
    }
   ],
   "source": [
    "plt.figure(figsize = (15,12))\n",
    "plt.hist(kc_houses['bedrooms'],bins = 20)"
   ]
  },
  {
   "cell_type": "code",
   "execution_count": 187,
   "metadata": {},
   "outputs": [
    {
     "data": {
      "text/plain": [
       "count    21082.000000\n",
       "mean         3.372403\n",
       "std          0.924996\n",
       "min          1.000000\n",
       "25%          3.000000\n",
       "50%          3.000000\n",
       "75%          4.000000\n",
       "max         33.000000\n",
       "Name: bedrooms, dtype: float64"
      ]
     },
     "execution_count": 187,
     "metadata": {},
     "output_type": "execute_result"
    }
   ],
   "source": [
    "kc_houses['bedrooms'].describe()"
   ]
  },
  {
   "cell_type": "code",
   "execution_count": 188,
   "metadata": {},
   "outputs": [],
   "source": [
    "too_many_bedrooms = kc_houses[kc_houses['bedrooms']>10]"
   ]
  },
  {
   "cell_type": "code",
   "execution_count": 189,
   "metadata": {},
   "outputs": [],
   "source": [
    "kc_houses = kc_houses.drop(too_many_bedrooms.index)"
   ]
  },
  {
   "cell_type": "code",
   "execution_count": 190,
   "metadata": {},
   "outputs": [
    {
     "name": "stdout",
     "output_type": "stream",
     "text": [
      "<class 'pandas.core.frame.DataFrame'>\n",
      "Int64Index: 21080 entries, 0 to 21596\n",
      "Data columns (total 21 columns):\n",
      "id               21080 non-null int64\n",
      "date             21080 non-null object\n",
      "price            21080 non-null float64\n",
      "bedrooms         21080 non-null int64\n",
      "bathrooms        21080 non-null float64\n",
      "sqft_living      21080 non-null int64\n",
      "sqft_lot         21080 non-null int64\n",
      "floors           21080 non-null float64\n",
      "waterfront       21080 non-null float64\n",
      "view             21080 non-null float64\n",
      "condition        21080 non-null int64\n",
      "grade            21080 non-null int64\n",
      "sqft_above       21080 non-null int64\n",
      "sqft_basement    21080 non-null float64\n",
      "yr_built         21080 non-null int64\n",
      "zipcode          21080 non-null int64\n",
      "lat              21080 non-null float64\n",
      "long             21080 non-null float64\n",
      "sqft_living15    21080 non-null int64\n",
      "sqft_lot15       21080 non-null int64\n",
      "was_renovated    21080 non-null int64\n",
      "dtypes: float64(8), int64(12), object(1)\n",
      "memory usage: 3.5+ MB\n"
     ]
    }
   ],
   "source": [
    "kc_houses.info()"
   ]
  },
  {
   "cell_type": "code",
   "execution_count": 191,
   "metadata": {},
   "outputs": [
    {
     "data": {
      "text/plain": [
       "(array([1.910e+02, 2.685e+03, 9.607e+03, 6.724e+03, 1.555e+03, 2.600e+02,\n",
       "        3.600e+01, 1.300e+01, 6.000e+00, 3.000e+00]),\n",
       " array([ 1. ,  1.9,  2.8,  3.7,  4.6,  5.5,  6.4,  7.3,  8.2,  9.1, 10. ]),\n",
       " <a list of 10 Patch objects>)"
      ]
     },
     "execution_count": 191,
     "metadata": {},
     "output_type": "execute_result"
    },
    {
     "data": {
      "image/png": "[encoded data removed]",
      "text/plain": [
       "<Figure size 432x288 with 1 Axes>"
      ]
     },
     "metadata": {
      "needs_background": "light"
     },
     "output_type": "display_data"
    }
   ],
   "source": [
    "plt.hist(kc_houses['bedrooms'])"
   ]
  },
  {
   "cell_type": "code",
   "execution_count": 209,
   "metadata": {},
   "outputs": [],
   "source": [
    "year_built = pd.get_dummies(houses_with_zips['yr_built'])\n",
    "houses_with_zips_and_years = pd.concat([houses_with_zips,year_built],axis=1)\n",
    "houses_with_zips_and_years.drop(columns = ['yr_built'],inplace=True)"
   ]
  },
  {
   "cell_type": "code",
   "execution_count": 210,
   "metadata": {},
   "outputs": [],
   "source": [
    "everything = houses_with_zips_and_years.drop(columns = ['id','date','price','sqft_lot','sqft_lot15','sqft_living15','bathrooms'])\n",
    "target = houses_with_zips['price']\n",
    "everything_train, everything_test, target_train, target_test = train_test_split(everything,target,test_size=.2)"
   ]
  },
  {
   "cell_type": "code",
   "execution_count": 211,
   "metadata": {},
   "outputs": [
    {
     "data": {
      "text/plain": [
       "<matplotlib.collections.PathCollection at 0x1a25d1e198>"
      ]
     },
     "execution_count": 211,
     "metadata": {},
     "output_type": "execute_result"
    },
    {
     "data": {
      "image/png": "[encoded data removed]",
      "text/plain": [
       "<Figure size 432x288 with 1 Axes>"
      ]
     },
     "metadata": {
      "needs_background": "light"
     },
     "output_type": "display_data"
    }
   ],
   "source": [
    "mod = house_model.fit(everything_train,target_train)\n",
    "y_pred = mod.predict(everything_test)\n",
    "plt.scatter(y_pred,target_test)"
   ]
  },
  {
   "cell_type": "code",
   "execution_count": 212,
   "metadata": {},
   "outputs": [
    {
     "data": {
      "text/plain": [
       "0.8171939789098877"
      ]
     },
     "execution_count": 212,
     "metadata": {},
     "output_type": "execute_result"
    }
   ],
   "source": [
    "explained_variance_score(target_test,y_pred)"
   ]
  },
  {
   "cell_type": "code",
   "execution_count": null,
   "metadata": {},
   "outputs": [],
   "source": [
    "#grouping by year built does not improve model"
   ]
  },
  {
   "cell_type": "code",
   "execution_count": 213,
   "metadata": {},
   "outputs": [],
   "source": [
    "def extract_year_mon_day(df):\n",
    "    df['Year'], df['Month'], df['Day'] = df['date'].dt.year, df['date'].dt.month, df['date'].dt.day\n",
    "    return df"
   ]
  },
  {
   "cell_type": "code",
   "execution_count": 214,
   "metadata": {},
   "outputs": [],
   "source": [
    "houses_with_zips['date'] = pd.to_datetime(houses_with_zips['date'])"
   ]
  },
  {
   "cell_type": "code",
   "execution_count": 215,
   "metadata": {},
   "outputs": [],
   "source": [
    "houses_with_dates = extract_year_mon_day(houses_with_zips)"
   ]
  },
  {
   "cell_type": "code",
   "execution_count": 224,
   "metadata": {},
   "outputs": [],
   "source": [
    "year_sold = pd.get_dummies(houses_with_dates['Year'])\n",
    "houses_with_years_and_zips = pd.concat([houses_with_zips,year_sold],axis = 1)"
   ]
  },
  {
   "cell_type": "code",
   "execution_count": 225,
   "metadata": {},
   "outputs": [],
   "source": [
    "everything = houses_with_years_and_zips.drop(columns = ['id','date','price','sqft_lot','sqft_lot15','sqft_living15','bathrooms'])\n",
    "target = houses_with_zips['price']\n",
    "everything_train, everything_test, target_train, target_test = train_test_split(everything,target,test_size=.2)"
   ]
  },
  {
   "cell_type": "code",
   "execution_count": 226,
   "metadata": {},
   "outputs": [
    {
     "data": {
      "text/plain": [
       "<matplotlib.collections.PathCollection at 0x1a1f242c50>"
      ]
     },
     "execution_count": 226,
     "metadata": {},
     "output_type": "execute_result"
    },
    {
     "data": {
      "image/png": "[encoded data removed]",
      "text/plain": [
       "<Figure size 432x288 with 1 Axes>"
      ]
     },
     "metadata": {
      "needs_background": "light"
     },
     "output_type": "display_data"
    }
   ],
   "source": [
    "mod = house_model.fit(everything_train,target_train)\n",
    "y_pred = mod.predict(everything_test)\n",
    "plt.scatter(y_pred,target_test)"
   ]
  },
  {
   "cell_type": "code",
   "execution_count": 227,
   "metadata": {},
   "outputs": [
    {
     "data": {
      "text/plain": [
       "0.7996012031708833"
      ]
     },
     "execution_count": 227,
     "metadata": {},
     "output_type": "execute_result"
    }
   ],
   "source": [
    "explained_variance_score(target_test,y_pred)"
   ]
  },
  {
   "cell_type": "code",
   "execution_count": null,
   "metadata": {},
   "outputs": [],
   "source": [
    "#grouping by year sold makes the model WORSE"
   ]
  },
  {
   "cell_type": "code",
   "execution_count": 229,
   "metadata": {},
   "outputs": [
    {
     "data": {
      "text/plain": [
       "<matplotlib.collections.PathCollection at 0x1a1fa89fd0>"
      ]
     },
     "execution_count": 229,
     "metadata": {},
     "output_type": "execute_result"
    },
    {
     "data": {
      "image/png": "[encoded data removed]",
      "text/plain": [
       "<Figure size 1080x864 with 1 Axes>"
      ]
     },
     "metadata": {
      "needs_background": "light"
     },
     "output_type": "display_data"
    }
   ],
   "source": [
    "plt.figure(figsize = (15,12))\n",
    "plt.scatter(kc_houses['sqft_basement'],kc_houses['price'])"
   ]
  },
  {
   "cell_type": "code",
   "execution_count": 230,
   "metadata": {},
   "outputs": [
    {
     "data": {
      "text/html": [
       "<div>\n",
       "<style scoped>\n",
       "    .dataframe tbody tr th:only-of-type {\n",
       "        vertical-align: middle;\n",
       "    }\n",
       "\n",
       "    .dataframe tbody tr th {\n",
       "        vertical-align: top;\n",
       "    }\n",
       "\n",
       "    .dataframe thead th {\n",
       "        text-align: right;\n",
       "    }\n",
       "</style>\n",
       "<table border=\"1\" class=\"dataframe\">\n",
       "  <thead>\n",
       "    <tr style=\"text-align: right;\">\n",
       "      <th></th>\n",
       "      <th>id</th>\n",
       "      <th>price</th>\n",
       "      <th>bedrooms</th>\n",
       "      <th>bathrooms</th>\n",
       "      <th>sqft_living</th>\n",
       "      <th>sqft_lot</th>\n",
       "      <th>floors</th>\n",
       "      <th>waterfront</th>\n",
       "      <th>view</th>\n",
       "      <th>condition</th>\n",
       "      <th>grade</th>\n",
       "      <th>sqft_above</th>\n",
       "      <th>sqft_basement</th>\n",
       "      <th>yr_built</th>\n",
       "      <th>zipcode</th>\n",
       "      <th>lat</th>\n",
       "      <th>long</th>\n",
       "      <th>sqft_living15</th>\n",
       "      <th>sqft_lot15</th>\n",
       "      <th>was_renovated</th>\n",
       "    </tr>\n",
       "  </thead>\n",
       "  <tbody>\n",
       "    <tr>\n",
       "      <th>id</th>\n",
       "      <td>1.000000</td>\n",
       "      <td>-0.016407</td>\n",
       "      <td>0.003904</td>\n",
       "      <td>0.005910</td>\n",
       "      <td>-0.011838</td>\n",
       "      <td>-0.132437</td>\n",
       "      <td>0.019162</td>\n",
       "      <td>-0.003595</td>\n",
       "      <td>0.012834</td>\n",
       "      <td>-0.023356</td>\n",
       "      <td>0.008720</td>\n",
       "      <td>-0.010756</td>\n",
       "      <td>-0.004424</td>\n",
       "      <td>0.022069</td>\n",
       "      <td>-0.010918</td>\n",
       "      <td>-0.005031</td>\n",
       "      <td>0.021177</td>\n",
       "      <td>-0.003157</td>\n",
       "      <td>-0.138143</td>\n",
       "      <td>-0.008838</td>\n",
       "    </tr>\n",
       "    <tr>\n",
       "      <th>price</th>\n",
       "      <td>-0.016407</td>\n",
       "      <td>1.000000</td>\n",
       "      <td>0.316381</td>\n",
       "      <td>0.525058</td>\n",
       "      <td>0.702035</td>\n",
       "      <td>0.088402</td>\n",
       "      <td>0.256628</td>\n",
       "      <td>0.260779</td>\n",
       "      <td>0.397182</td>\n",
       "      <td>0.034585</td>\n",
       "      <td>0.668116</td>\n",
       "      <td>0.605516</td>\n",
       "      <td>0.323019</td>\n",
       "      <td>0.054861</td>\n",
       "      <td>-0.053434</td>\n",
       "      <td>0.307662</td>\n",
       "      <td>0.022521</td>\n",
       "      <td>0.586528</td>\n",
       "      <td>0.083534</td>\n",
       "      <td>0.116635</td>\n",
       "    </tr>\n",
       "    <tr>\n",
       "      <th>bedrooms</th>\n",
       "      <td>0.003904</td>\n",
       "      <td>0.316381</td>\n",
       "      <td>1.000000</td>\n",
       "      <td>0.527866</td>\n",
       "      <td>0.593693</td>\n",
       "      <td>0.033853</td>\n",
       "      <td>0.184397</td>\n",
       "      <td>-0.001460</td>\n",
       "      <td>0.083148</td>\n",
       "      <td>0.022787</td>\n",
       "      <td>0.367148</td>\n",
       "      <td>0.493031</td>\n",
       "      <td>0.308849</td>\n",
       "      <td>0.163074</td>\n",
       "      <td>-0.157604</td>\n",
       "      <td>-0.011630</td>\n",
       "      <td>0.136679</td>\n",
       "      <td>0.404363</td>\n",
       "      <td>0.032187</td>\n",
       "      <td>0.016741</td>\n",
       "    </tr>\n",
       "    <tr>\n",
       "      <th>bathrooms</th>\n",
       "      <td>0.005910</td>\n",
       "      <td>0.525058</td>\n",
       "      <td>0.527866</td>\n",
       "      <td>1.000000</td>\n",
       "      <td>0.754777</td>\n",
       "      <td>0.088463</td>\n",
       "      <td>0.503763</td>\n",
       "      <td>0.062060</td>\n",
       "      <td>0.187267</td>\n",
       "      <td>-0.128101</td>\n",
       "      <td>0.666044</td>\n",
       "      <td>0.685946</td>\n",
       "      <td>0.281806</td>\n",
       "      <td>0.509012</td>\n",
       "      <td>-0.204044</td>\n",
       "      <td>0.025266</td>\n",
       "      <td>0.224717</td>\n",
       "      <td>0.569462</td>\n",
       "      <td>0.089426</td>\n",
       "      <td>0.047042</td>\n",
       "    </tr>\n",
       "    <tr>\n",
       "      <th>sqft_living</th>\n",
       "      <td>-0.011838</td>\n",
       "      <td>0.702035</td>\n",
       "      <td>0.593693</td>\n",
       "      <td>0.754777</td>\n",
       "      <td>1.000000</td>\n",
       "      <td>0.173278</td>\n",
       "      <td>0.354219</td>\n",
       "      <td>0.103336</td>\n",
       "      <td>0.283814</td>\n",
       "      <td>-0.061549</td>\n",
       "      <td>0.762766</td>\n",
       "      <td>0.876785</td>\n",
       "      <td>0.433374</td>\n",
       "      <td>0.319690</td>\n",
       "      <td>-0.199009</td>\n",
       "      <td>0.053239</td>\n",
       "      <td>0.241521</td>\n",
       "      <td>0.756267</td>\n",
       "      <td>0.184933</td>\n",
       "      <td>0.049322</td>\n",
       "    </tr>\n",
       "    <tr>\n",
       "      <th>sqft_lot</th>\n",
       "      <td>-0.132437</td>\n",
       "      <td>0.088402</td>\n",
       "      <td>0.033853</td>\n",
       "      <td>0.088463</td>\n",
       "      <td>0.173278</td>\n",
       "      <td>1.000000</td>\n",
       "      <td>-0.007744</td>\n",
       "      <td>0.021215</td>\n",
       "      <td>0.072662</td>\n",
       "      <td>-0.009190</td>\n",
       "      <td>0.113790</td>\n",
       "      <td>0.183658</td>\n",
       "      <td>0.015628</td>\n",
       "      <td>0.052444</td>\n",
       "      <td>-0.129617</td>\n",
       "      <td>-0.085068</td>\n",
       "      <td>0.230478</td>\n",
       "      <td>0.143802</td>\n",
       "      <td>0.719497</td>\n",
       "      <td>0.004459</td>\n",
       "    </tr>\n",
       "    <tr>\n",
       "      <th>floors</th>\n",
       "      <td>0.019162</td>\n",
       "      <td>0.256628</td>\n",
       "      <td>0.184397</td>\n",
       "      <td>0.503763</td>\n",
       "      <td>0.354219</td>\n",
       "      <td>-0.007744</td>\n",
       "      <td>1.000000</td>\n",
       "      <td>0.019854</td>\n",
       "      <td>0.027749</td>\n",
       "      <td>-0.264175</td>\n",
       "      <td>0.459170</td>\n",
       "      <td>0.523560</td>\n",
       "      <td>-0.245646</td>\n",
       "      <td>0.490009</td>\n",
       "      <td>-0.058449</td>\n",
       "      <td>0.049281</td>\n",
       "      <td>0.125382</td>\n",
       "      <td>0.279396</td>\n",
       "      <td>-0.011632</td>\n",
       "      <td>0.002710</td>\n",
       "    </tr>\n",
       "    <tr>\n",
       "      <th>waterfront</th>\n",
       "      <td>-0.003595</td>\n",
       "      <td>0.260779</td>\n",
       "      <td>-0.001460</td>\n",
       "      <td>0.062060</td>\n",
       "      <td>0.103336</td>\n",
       "      <td>0.021215</td>\n",
       "      <td>0.019854</td>\n",
       "      <td>1.000000</td>\n",
       "      <td>0.380417</td>\n",
       "      <td>0.016303</td>\n",
       "      <td>0.081942</td>\n",
       "      <td>0.070316</td>\n",
       "      <td>0.082803</td>\n",
       "      <td>-0.024370</td>\n",
       "      <td>0.028727</td>\n",
       "      <td>-0.011693</td>\n",
       "      <td>-0.036594</td>\n",
       "      <td>0.083672</td>\n",
       "      <td>0.030186</td>\n",
       "      <td>0.071015</td>\n",
       "    </tr>\n",
       "    <tr>\n",
       "      <th>view</th>\n",
       "      <td>0.012834</td>\n",
       "      <td>0.397182</td>\n",
       "      <td>0.083148</td>\n",
       "      <td>0.187267</td>\n",
       "      <td>0.283814</td>\n",
       "      <td>0.072662</td>\n",
       "      <td>0.027749</td>\n",
       "      <td>0.380417</td>\n",
       "      <td>1.000000</td>\n",
       "      <td>0.045497</td>\n",
       "      <td>0.250003</td>\n",
       "      <td>0.166911</td>\n",
       "      <td>0.276548</td>\n",
       "      <td>-0.054459</td>\n",
       "      <td>0.085316</td>\n",
       "      <td>0.006187</td>\n",
       "      <td>-0.076337</td>\n",
       "      <td>0.280921</td>\n",
       "      <td>0.072789</td>\n",
       "      <td>0.088616</td>\n",
       "    </tr>\n",
       "    <tr>\n",
       "      <th>condition</th>\n",
       "      <td>-0.023356</td>\n",
       "      <td>0.034585</td>\n",
       "      <td>0.022787</td>\n",
       "      <td>-0.128101</td>\n",
       "      <td>-0.061549</td>\n",
       "      <td>-0.009190</td>\n",
       "      <td>-0.264175</td>\n",
       "      <td>0.016303</td>\n",
       "      <td>0.045497</td>\n",
       "      <td>1.000000</td>\n",
       "      <td>-0.148862</td>\n",
       "      <td>-0.159088</td>\n",
       "      <td>0.170335</td>\n",
       "      <td>-0.361886</td>\n",
       "      <td>0.002578</td>\n",
       "      <td>-0.016132</td>\n",
       "      <td>-0.105761</td>\n",
       "      <td>-0.093487</td>\n",
       "      <td>-0.004361</td>\n",
       "      <td>-0.055549</td>\n",
       "    </tr>\n",
       "    <tr>\n",
       "      <th>grade</th>\n",
       "      <td>0.008720</td>\n",
       "      <td>0.668116</td>\n",
       "      <td>0.367148</td>\n",
       "      <td>0.666044</td>\n",
       "      <td>0.762766</td>\n",
       "      <td>0.113790</td>\n",
       "      <td>0.459170</td>\n",
       "      <td>0.081942</td>\n",
       "      <td>0.250003</td>\n",
       "      <td>-0.148862</td>\n",
       "      <td>1.000000</td>\n",
       "      <td>0.756320</td>\n",
       "      <td>0.166508</td>\n",
       "      <td>0.448553</td>\n",
       "      <td>-0.185116</td>\n",
       "      <td>0.113656</td>\n",
       "      <td>0.199696</td>\n",
       "      <td>0.713166</td>\n",
       "      <td>0.122391</td>\n",
       "      <td>0.015287</td>\n",
       "    </tr>\n",
       "    <tr>\n",
       "      <th>sqft_above</th>\n",
       "      <td>-0.010756</td>\n",
       "      <td>0.605516</td>\n",
       "      <td>0.493031</td>\n",
       "      <td>0.685946</td>\n",
       "      <td>0.876785</td>\n",
       "      <td>0.183658</td>\n",
       "      <td>0.523560</td>\n",
       "      <td>0.070316</td>\n",
       "      <td>0.166911</td>\n",
       "      <td>-0.159088</td>\n",
       "      <td>0.756320</td>\n",
       "      <td>1.000000</td>\n",
       "      <td>-0.053402</td>\n",
       "      <td>0.425252</td>\n",
       "      <td>-0.260761</td>\n",
       "      <td>0.000026</td>\n",
       "      <td>0.344802</td>\n",
       "      <td>0.730833</td>\n",
       "      <td>0.195987</td>\n",
       "      <td>0.018837</td>\n",
       "    </tr>\n",
       "    <tr>\n",
       "      <th>sqft_basement</th>\n",
       "      <td>-0.004424</td>\n",
       "      <td>0.323019</td>\n",
       "      <td>0.308849</td>\n",
       "      <td>0.281806</td>\n",
       "      <td>0.433374</td>\n",
       "      <td>0.015628</td>\n",
       "      <td>-0.245646</td>\n",
       "      <td>0.082803</td>\n",
       "      <td>0.276548</td>\n",
       "      <td>0.170335</td>\n",
       "      <td>0.166508</td>\n",
       "      <td>-0.053402</td>\n",
       "      <td>1.000000</td>\n",
       "      <td>-0.133108</td>\n",
       "      <td>0.075437</td>\n",
       "      <td>0.110503</td>\n",
       "      <td>-0.144658</td>\n",
       "      <td>0.200778</td>\n",
       "      <td>0.016724</td>\n",
       "      <td>0.067118</td>\n",
       "    </tr>\n",
       "    <tr>\n",
       "      <th>yr_built</th>\n",
       "      <td>0.022069</td>\n",
       "      <td>0.054861</td>\n",
       "      <td>0.163074</td>\n",
       "      <td>0.509012</td>\n",
       "      <td>0.319690</td>\n",
       "      <td>0.052444</td>\n",
       "      <td>0.490009</td>\n",
       "      <td>-0.024370</td>\n",
       "      <td>-0.054459</td>\n",
       "      <td>-0.361886</td>\n",
       "      <td>0.448553</td>\n",
       "      <td>0.425252</td>\n",
       "      <td>-0.133108</td>\n",
       "      <td>1.000000</td>\n",
       "      <td>-0.346716</td>\n",
       "      <td>-0.148149</td>\n",
       "      <td>0.408942</td>\n",
       "      <td>0.325592</td>\n",
       "      <td>0.071155</td>\n",
       "      <td>-0.200240</td>\n",
       "    </tr>\n",
       "    <tr>\n",
       "      <th>zipcode</th>\n",
       "      <td>-0.010918</td>\n",
       "      <td>-0.053434</td>\n",
       "      <td>-0.157604</td>\n",
       "      <td>-0.204044</td>\n",
       "      <td>-0.199009</td>\n",
       "      <td>-0.129617</td>\n",
       "      <td>-0.058449</td>\n",
       "      <td>0.028727</td>\n",
       "      <td>0.085316</td>\n",
       "      <td>0.002578</td>\n",
       "      <td>-0.185116</td>\n",
       "      <td>-0.260761</td>\n",
       "      <td>0.075437</td>\n",
       "      <td>-0.346716</td>\n",
       "      <td>1.000000</td>\n",
       "      <td>0.266857</td>\n",
       "      <td>-0.564119</td>\n",
       "      <td>-0.278096</td>\n",
       "      <td>-0.146932</td>\n",
       "      <td>0.061669</td>\n",
       "    </tr>\n",
       "    <tr>\n",
       "      <th>lat</th>\n",
       "      <td>-0.005031</td>\n",
       "      <td>0.307662</td>\n",
       "      <td>-0.011630</td>\n",
       "      <td>0.025266</td>\n",
       "      <td>0.053239</td>\n",
       "      <td>-0.085068</td>\n",
       "      <td>0.049281</td>\n",
       "      <td>-0.011693</td>\n",
       "      <td>0.006187</td>\n",
       "      <td>-0.016132</td>\n",
       "      <td>0.113656</td>\n",
       "      <td>0.000026</td>\n",
       "      <td>0.110503</td>\n",
       "      <td>-0.148149</td>\n",
       "      <td>0.266857</td>\n",
       "      <td>1.000000</td>\n",
       "      <td>-0.135146</td>\n",
       "      <td>0.050400</td>\n",
       "      <td>-0.084788</td>\n",
       "      <td>0.029213</td>\n",
       "    </tr>\n",
       "    <tr>\n",
       "      <th>long</th>\n",
       "      <td>0.021177</td>\n",
       "      <td>0.022521</td>\n",
       "      <td>0.136679</td>\n",
       "      <td>0.224717</td>\n",
       "      <td>0.241521</td>\n",
       "      <td>0.230478</td>\n",
       "      <td>0.125382</td>\n",
       "      <td>-0.036594</td>\n",
       "      <td>-0.076337</td>\n",
       "      <td>-0.105761</td>\n",
       "      <td>0.199696</td>\n",
       "      <td>0.344802</td>\n",
       "      <td>-0.144658</td>\n",
       "      <td>0.408942</td>\n",
       "      <td>-0.564119</td>\n",
       "      <td>-0.135146</td>\n",
       "      <td>1.000000</td>\n",
       "      <td>0.334647</td>\n",
       "      <td>0.255258</td>\n",
       "      <td>-0.063955</td>\n",
       "    </tr>\n",
       "    <tr>\n",
       "      <th>sqft_living15</th>\n",
       "      <td>-0.003157</td>\n",
       "      <td>0.586528</td>\n",
       "      <td>0.404363</td>\n",
       "      <td>0.569462</td>\n",
       "      <td>0.756267</td>\n",
       "      <td>0.143802</td>\n",
       "      <td>0.279396</td>\n",
       "      <td>0.083672</td>\n",
       "      <td>0.280921</td>\n",
       "      <td>-0.093487</td>\n",
       "      <td>0.713166</td>\n",
       "      <td>0.730833</td>\n",
       "      <td>0.200778</td>\n",
       "      <td>0.325592</td>\n",
       "      <td>-0.278096</td>\n",
       "      <td>0.050400</td>\n",
       "      <td>0.334647</td>\n",
       "      <td>1.000000</td>\n",
       "      <td>0.183522</td>\n",
       "      <td>0.001049</td>\n",
       "    </tr>\n",
       "    <tr>\n",
       "      <th>sqft_lot15</th>\n",
       "      <td>-0.138143</td>\n",
       "      <td>0.083534</td>\n",
       "      <td>0.032187</td>\n",
       "      <td>0.089426</td>\n",
       "      <td>0.184933</td>\n",
       "      <td>0.719497</td>\n",
       "      <td>-0.011632</td>\n",
       "      <td>0.030186</td>\n",
       "      <td>0.072789</td>\n",
       "      <td>-0.004361</td>\n",
       "      <td>0.122391</td>\n",
       "      <td>0.195987</td>\n",
       "      <td>0.016724</td>\n",
       "      <td>0.071155</td>\n",
       "      <td>-0.146932</td>\n",
       "      <td>-0.084788</td>\n",
       "      <td>0.255258</td>\n",
       "      <td>0.183522</td>\n",
       "      <td>1.000000</td>\n",
       "      <td>0.002970</td>\n",
       "    </tr>\n",
       "    <tr>\n",
       "      <th>was_renovated</th>\n",
       "      <td>-0.008838</td>\n",
       "      <td>0.116635</td>\n",
       "      <td>0.016741</td>\n",
       "      <td>0.047042</td>\n",
       "      <td>0.049322</td>\n",
       "      <td>0.004459</td>\n",
       "      <td>0.002710</td>\n",
       "      <td>0.071015</td>\n",
       "      <td>0.088616</td>\n",
       "      <td>-0.055549</td>\n",
       "      <td>0.015287</td>\n",
       "      <td>0.018837</td>\n",
       "      <td>0.067118</td>\n",
       "      <td>-0.200240</td>\n",
       "      <td>0.061669</td>\n",
       "      <td>0.029213</td>\n",
       "      <td>-0.063955</td>\n",
       "      <td>0.001049</td>\n",
       "      <td>0.002970</td>\n",
       "      <td>1.000000</td>\n",
       "    </tr>\n",
       "  </tbody>\n",
       "</table>\n",
       "</div>"
      ],
      "text/plain": [
       "                     id     price  bedrooms  bathrooms  sqft_living  sqft_lot  \\\n",
       "id             1.000000 -0.016407  0.003904   0.005910    -0.011838 -0.132437   \n",
       "price         -0.016407  1.000000  0.316381   0.525058     0.702035  0.088402   \n",
       "bedrooms       0.003904  0.316381  1.000000   0.527866     0.593693  0.033853   \n",
       "bathrooms      0.005910  0.525058  0.527866   1.000000     0.754777  0.088463   \n",
       "sqft_living   -0.011838  0.702035  0.593693   0.754777     1.000000  0.173278   \n",
       "sqft_lot      -0.132437  0.088402  0.033853   0.088463     0.173278  1.000000   \n",
       "floors         0.019162  0.256628  0.184397   0.503763     0.354219 -0.007744   \n",
       "waterfront    -0.003595  0.260779 -0.001460   0.062060     0.103336  0.021215   \n",
       "view           0.012834  0.397182  0.083148   0.187267     0.283814  0.072662   \n",
       "condition     -0.023356  0.034585  0.022787  -0.128101    -0.061549 -0.009190   \n",
       "grade          0.008720  0.668116  0.367148   0.666044     0.762766  0.113790   \n",
       "sqft_above    -0.010756  0.605516  0.493031   0.685946     0.876785  0.183658   \n",
       "sqft_basement -0.004424  0.323019  0.308849   0.281806     0.433374  0.015628   \n",
       "yr_built       0.022069  0.054861  0.163074   0.509012     0.319690  0.052444   \n",
       "zipcode       -0.010918 -0.053434 -0.157604  -0.204044    -0.199009 -0.129617   \n",
       "lat           -0.005031  0.307662 -0.011630   0.025266     0.053239 -0.085068   \n",
       "long           0.021177  0.022521  0.136679   0.224717     0.241521  0.230478   \n",
       "sqft_living15 -0.003157  0.586528  0.404363   0.569462     0.756267  0.143802   \n",
       "sqft_lot15    -0.138143  0.083534  0.032187   0.089426     0.184933  0.719497   \n",
       "was_renovated -0.008838  0.116635  0.016741   0.047042     0.049322  0.004459   \n",
       "\n",
       "                 floors  waterfront      view  condition     grade  \\\n",
       "id             0.019162   -0.003595  0.012834  -0.023356  0.008720   \n",
       "price          0.256628    0.260779  0.397182   0.034585  0.668116   \n",
       "bedrooms       0.184397   -0.001460  0.083148   0.022787  0.367148   \n",
       "bathrooms      0.503763    0.062060  0.187267  -0.128101  0.666044   \n",
       "sqft_living    0.354219    0.103336  0.283814  -0.061549  0.762766   \n",
       "sqft_lot      -0.007744    0.021215  0.072662  -0.009190  0.113790   \n",
       "floors         1.000000    0.019854  0.027749  -0.264175  0.459170   \n",
       "waterfront     0.019854    1.000000  0.380417   0.016303  0.081942   \n",
       "view           0.027749    0.380417  1.000000   0.045497  0.250003   \n",
       "condition     -0.264175    0.016303  0.045497   1.000000 -0.148862   \n",
       "grade          0.459170    0.081942  0.250003  -0.148862  1.000000   \n",
       "sqft_above     0.523560    0.070316  0.166911  -0.159088  0.756320   \n",
       "sqft_basement -0.245646    0.082803  0.276548   0.170335  0.166508   \n",
       "yr_built       0.490009   -0.024370 -0.054459  -0.361886  0.448553   \n",
       "zipcode       -0.058449    0.028727  0.085316   0.002578 -0.185116   \n",
       "lat            0.049281   -0.011693  0.006187  -0.016132  0.113656   \n",
       "long           0.125382   -0.036594 -0.076337  -0.105761  0.199696   \n",
       "sqft_living15  0.279396    0.083672  0.280921  -0.093487  0.713166   \n",
       "sqft_lot15    -0.011632    0.030186  0.072789  -0.004361  0.122391   \n",
       "was_renovated  0.002710    0.071015  0.088616  -0.055549  0.015287   \n",
       "\n",
       "               sqft_above  sqft_basement  yr_built   zipcode       lat  \\\n",
       "id              -0.010756      -0.004424  0.022069 -0.010918 -0.005031   \n",
       "price            0.605516       0.323019  0.054861 -0.053434  0.307662   \n",
       "bedrooms         0.493031       0.308849  0.163074 -0.157604 -0.011630   \n",
       "bathrooms        0.685946       0.281806  0.509012 -0.204044  0.025266   \n",
       "sqft_living      0.876785       0.433374  0.319690 -0.199009  0.053239   \n",
       "sqft_lot         0.183658       0.015628  0.052444 -0.129617 -0.085068   \n",
       "floors           0.523560      -0.245646  0.490009 -0.058449  0.049281   \n",
       "waterfront       0.070316       0.082803 -0.024370  0.028727 -0.011693   \n",
       "view             0.166911       0.276548 -0.054459  0.085316  0.006187   \n",
       "condition       -0.159088       0.170335 -0.361886  0.002578 -0.016132   \n",
       "grade            0.756320       0.166508  0.448553 -0.185116  0.113656   \n",
       "sqft_above       1.000000      -0.053402  0.425252 -0.260761  0.000026   \n",
       "sqft_basement   -0.053402       1.000000 -0.133108  0.075437  0.110503   \n",
       "yr_built         0.425252      -0.133108  1.000000 -0.346716 -0.148149   \n",
       "zipcode         -0.260761       0.075437 -0.346716  1.000000  0.266857   \n",
       "lat              0.000026       0.110503 -0.148149  0.266857  1.000000   \n",
       "long             0.344802      -0.144658  0.408942 -0.564119 -0.135146   \n",
       "sqft_living15    0.730833       0.200778  0.325592 -0.278096  0.050400   \n",
       "sqft_lot15       0.195987       0.016724  0.071155 -0.146932 -0.084788   \n",
       "was_renovated    0.018837       0.067118 -0.200240  0.061669  0.029213   \n",
       "\n",
       "                   long  sqft_living15  sqft_lot15  was_renovated  \n",
       "id             0.021177      -0.003157   -0.138143      -0.008838  \n",
       "price          0.022521       0.586528    0.083534       0.116635  \n",
       "bedrooms       0.136679       0.404363    0.032187       0.016741  \n",
       "bathrooms      0.224717       0.569462    0.089426       0.047042  \n",
       "sqft_living    0.241521       0.756267    0.184933       0.049322  \n",
       "sqft_lot       0.230478       0.143802    0.719497       0.004459  \n",
       "floors         0.125382       0.279396   -0.011632       0.002710  \n",
       "waterfront    -0.036594       0.083672    0.030186       0.071015  \n",
       "view          -0.076337       0.280921    0.072789       0.088616  \n",
       "condition     -0.105761      -0.093487   -0.004361      -0.055549  \n",
       "grade          0.199696       0.713166    0.122391       0.015287  \n",
       "sqft_above     0.344802       0.730833    0.195987       0.018837  \n",
       "sqft_basement -0.144658       0.200778    0.016724       0.067118  \n",
       "yr_built       0.408942       0.325592    0.071155      -0.200240  \n",
       "zipcode       -0.564119      -0.278096   -0.146932       0.061669  \n",
       "lat           -0.135146       0.050400   -0.084788       0.029213  \n",
       "long           1.000000       0.334647    0.255258      -0.063955  \n",
       "sqft_living15  0.334647       1.000000    0.183522       0.001049  \n",
       "sqft_lot15     0.255258       0.183522    1.000000       0.002970  \n",
       "was_renovated -0.063955       0.001049    0.002970       1.000000  "
      ]
     },
     "execution_count": 230,
     "metadata": {},
     "output_type": "execute_result"
    }
   ],
   "source": [
    "kc_houses.corr()"
   ]
  },
  {
   "cell_type": "code",
   "execution_count": null,
   "metadata": {},
   "outputs": [],
   "source": []
  }
 ],
 "metadata": {
  "kernelspec": {
   "display_name": "Python 3",
   "language": "python",
   "name": "python3"
  },
  "language_info": {
   "codemirror_mode": {
    "name": "ipython",
    "version": 3
   },
   "file_extension": ".py",
   "mimetype": "text/x-python",
   "name": "python",
   "nbconvert_exporter": "python",
   "pygments_lexer": "ipython3",
   "version": "3.6.6"
  }
 },
 "nbformat": 4,
 "nbformat_minor": 2
}
