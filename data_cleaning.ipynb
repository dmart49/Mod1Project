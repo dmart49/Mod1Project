{
 "cells": [
  {
   "cell_type": "code",
   "execution_count": 173,
   "metadata": {},
   "outputs": [],
   "source": [
    "import pandas as pd\n",
    "\n",
    "kc_houses = pd.read_csv('/Users/flatironschool/Documents/dsc-v2-mod1-final-project-houston-ds-060319/kc_house_data.csv')"
   ]
  },
  {
   "cell_type": "code",
   "execution_count": 104,
   "metadata": {},
   "outputs": [
    {
     "data": {
      "text/plain": [
       "id                  0\n",
       "date                0\n",
       "price               0\n",
       "bedrooms            0\n",
       "bathrooms           0\n",
       "sqft_living         0\n",
       "sqft_lot            0\n",
       "floors              0\n",
       "waterfront       2376\n",
       "view               63\n",
       "condition           0\n",
       "grade               0\n",
       "sqft_above          0\n",
       "sqft_basement       0\n",
       "yr_built            0\n",
       "yr_renovated     3842\n",
       "zipcode             0\n",
       "lat                 0\n",
       "long                0\n",
       "sqft_living15       0\n",
       "sqft_lot15          0\n",
       "dtype: int64"
      ]
     },
     "execution_count": 104,
     "metadata": {},
     "output_type": "execute_result"
    }
   ],
   "source": [
    "kc_houses.isna().sum()"
   ]
  },
  {
   "cell_type": "code",
   "execution_count": 105,
   "metadata": {},
   "outputs": [
    {
     "data": {
      "text/plain": [
       "array([nan,  0.,  1.])"
      ]
     },
     "execution_count": 105,
     "metadata": {},
     "output_type": "execute_result"
    }
   ],
   "source": [
    "kc_houses['waterfront'].unique()"
   ]
  },
  {
   "cell_type": "code",
   "execution_count": 106,
   "metadata": {},
   "outputs": [
    {
     "data": {
      "text/plain": [
       "array([3, 5, 4, 1, 2])"
      ]
     },
     "execution_count": 106,
     "metadata": {},
     "output_type": "execute_result"
    }
   ],
   "source": [
    "kc_houses['condition'].unique()"
   ]
  },
  {
   "cell_type": "code",
   "execution_count": 107,
   "metadata": {},
   "outputs": [
    {
     "data": {
      "text/plain": [
       "0.0    19075\n",
       "1.0      146\n",
       "Name: waterfront, dtype: int64"
      ]
     },
     "execution_count": 107,
     "metadata": {},
     "output_type": "execute_result"
    }
   ],
   "source": [
    "kc_houses['waterfront'].value_counts()"
   ]
  },
  {
   "cell_type": "code",
   "execution_count": 108,
   "metadata": {},
   "outputs": [
    {
     "data": {
      "text/plain": [
       "5"
      ]
     },
     "execution_count": 108,
     "metadata": {},
     "output_type": "execute_result"
    }
   ],
   "source": [
    "kc_houses['view'].nunique()"
   ]
  },
  {
   "cell_type": "code",
   "execution_count": 109,
   "metadata": {},
   "outputs": [
    {
     "data": {
      "text/plain": [
       "0.0    19422\n",
       "2.0      957\n",
       "3.0      508\n",
       "1.0      330\n",
       "4.0      317\n",
       "Name: view, dtype: int64"
      ]
     },
     "execution_count": 109,
     "metadata": {},
     "output_type": "execute_result"
    }
   ],
   "source": [
    "kc_houses['view'].value_counts()"
   ]
  },
  {
   "cell_type": "code",
   "execution_count": 48,
   "metadata": {},
   "outputs": [
    {
     "data": {
      "text/plain": [
       "0.0       17011\n",
       "2014.0       73\n",
       "2003.0       31\n",
       "2013.0       31\n",
       "2007.0       30\n",
       "2000.0       29\n",
       "2005.0       29\n",
       "1990.0       22\n",
       "2004.0       22\n",
       "2009.0       21\n",
       "1989.0       20\n",
       "2006.0       20\n",
       "2002.0       17\n",
       "1991.0       16\n",
       "1998.0       16\n",
       "1984.0       16\n",
       "1999.0       15\n",
       "2008.0       15\n",
       "2010.0       15\n",
       "2001.0       15\n",
       "1983.0       15\n",
       "2015.0       14\n",
       "1985.0       14\n",
       "1986.0       14\n",
       "1987.0       14\n",
       "1994.0       14\n",
       "1992.0       13\n",
       "1993.0       12\n",
       "1997.0       12\n",
       "1995.0       12\n",
       "          ...  \n",
       "1975.0        5\n",
       "1964.0        5\n",
       "1969.0        4\n",
       "1963.0        4\n",
       "1973.0        4\n",
       "1981.0        4\n",
       "1965.0        4\n",
       "1978.0        3\n",
       "1960.0        3\n",
       "1958.0        3\n",
       "1956.0        3\n",
       "1955.0        3\n",
       "1945.0        3\n",
       "1972.0        3\n",
       "1967.0        2\n",
       "1957.0        2\n",
       "1940.0        2\n",
       "1974.0        2\n",
       "1962.0        2\n",
       "1953.0        1\n",
       "1950.0        1\n",
       "1934.0        1\n",
       "1944.0        1\n",
       "1976.0        1\n",
       "1948.0        1\n",
       "1946.0        1\n",
       "1959.0        1\n",
       "1971.0        1\n",
       "1951.0        1\n",
       "1954.0        1\n",
       "Name: yr_renovated, Length: 70, dtype: int64"
      ]
     },
     "execution_count": 48,
     "metadata": {},
     "output_type": "execute_result"
    }
   ],
   "source": [
    "kc_houses['yr_renovated'].value_counts()"
   ]
  },
  {
   "cell_type": "markdown",
   "metadata": {},
   "source": [
    "Given that the vast majority of lots have a value of 0 for 'yr_renovated' and >10% of the values for 'yr_renovated' are missing, we will replace 'yr_renovated' with a dummy variable 'was_renovated'; all lots that have a year in which they were renovated will be represented with a 1, and all other lots will be represented with 0."
   ]
  },
  {
   "cell_type": "code",
   "execution_count": 174,
   "metadata": {},
   "outputs": [],
   "source": [
    "kc_houses['was_renovated']= kc_houses['yr_renovated'].fillna(0)\n",
    "temp = kc_houses['was_renovated'].astype(bool).astype(int)\n",
    "kc_houses['was_renovated'] = temp\n",
    "kc_houses.drop(columns = ['yr_renovated'],inplace =True)"
   ]
  },
  {
   "cell_type": "markdown",
   "metadata": {},
   "source": [
    "Roughly 10% of records have a null value for 'waterfront'. Given that a large number of records have a null value for waterfront but we think this information may have a bearing on sale price, it would not be practical to simply drop the rows for which waterfront has a null value. Instead, null values in the waterfront column will be replaced with 0."
   ]
  },
  {
   "cell_type": "code",
   "execution_count": 175,
   "metadata": {},
   "outputs": [],
   "source": [
    "kc_houses['waterfront'].fillna(0,inplace=True)"
   ]
  },
  {
   "cell_type": "markdown",
   "metadata": {},
   "source": [
    "Given that only 63 rows are missing values for 'view', we will simply drop the rows that have a null value for 'view'"
   ]
  },
  {
   "cell_type": "code",
   "execution_count": 176,
   "metadata": {},
   "outputs": [],
   "source": [
    "no_view = kc_houses['view'].isna()\n",
    "# no_view.head()\n",
    "kc_houses.drop(kc_houses[no_view].index,inplace=True)"
   ]
  },
  {
   "cell_type": "code",
   "execution_count": 177,
   "metadata": {},
   "outputs": [
    {
     "name": "stdout",
     "output_type": "stream",
     "text": [
      "<class 'pandas.core.frame.DataFrame'>\n",
      "Int64Index: 21534 entries, 0 to 21596\n",
      "Data columns (total 21 columns):\n",
      "id               21534 non-null int64\n",
      "date             21534 non-null object\n",
      "price            21534 non-null float64\n",
      "bedrooms         21534 non-null int64\n",
      "bathrooms        21534 non-null float64\n",
      "sqft_living      21534 non-null int64\n",
      "sqft_lot         21534 non-null int64\n",
      "floors           21534 non-null float64\n",
      "waterfront       21534 non-null float64\n",
      "view             21534 non-null float64\n",
      "condition        21534 non-null int64\n",
      "grade            21534 non-null int64\n",
      "sqft_above       21534 non-null int64\n",
      "sqft_basement    21534 non-null object\n",
      "yr_built         21534 non-null int64\n",
      "zipcode          21534 non-null int64\n",
      "lat              21534 non-null float64\n",
      "long             21534 non-null float64\n",
      "sqft_living15    21534 non-null int64\n",
      "sqft_lot15       21534 non-null int64\n",
      "was_renovated    21534 non-null int64\n",
      "dtypes: float64(7), int64(12), object(2)\n",
      "memory usage: 3.6+ MB\n"
     ]
    }
   ],
   "source": [
    "kc_houses.info()"
   ]
  },
  {
   "cell_type": "markdown",
   "metadata": {},
   "source": [
    "'sqft_basement' is a string for some reason? Let's convert that to float."
   ]
  },
  {
   "cell_type": "code",
   "execution_count": 178,
   "metadata": {},
   "outputs": [],
   "source": [
    "no_basement = kc_houses['sqft_basement']=='?'\n",
    "kc_houses = kc_houses.drop(kc_houses[no_basement].index)"
   ]
  },
  {
   "cell_type": "code",
   "execution_count": 179,
   "metadata": {},
   "outputs": [],
   "source": [
    "kc_houses['sqft_basement'] = kc_houses['sqft_basement'].apply(lambda x: float(x))"
   ]
  },
  {
   "cell_type": "code",
   "execution_count": 68,
   "metadata": {},
   "outputs": [
    {
     "data": {
      "text/html": [
       "<div>\n",
       "<style scoped>\n",
       "    .dataframe tbody tr th:only-of-type {\n",
       "        vertical-align: middle;\n",
       "    }\n",
       "\n",
       "    .dataframe tbody tr th {\n",
       "        vertical-align: top;\n",
       "    }\n",
       "\n",
       "    .dataframe thead th {\n",
       "        text-align: right;\n",
       "    }\n",
       "</style>\n",
       "<table border=\"1\" class=\"dataframe\">\n",
       "  <thead>\n",
       "    <tr style=\"text-align: right;\">\n",
       "      <th></th>\n",
       "      <th>id</th>\n",
       "      <th>price</th>\n",
       "      <th>bedrooms</th>\n",
       "      <th>bathrooms</th>\n",
       "      <th>sqft_living</th>\n",
       "      <th>sqft_lot</th>\n",
       "      <th>floors</th>\n",
       "      <th>waterfront</th>\n",
       "      <th>view</th>\n",
       "      <th>condition</th>\n",
       "      <th>...</th>\n",
       "      <th>sqft_above</th>\n",
       "      <th>sqft_basement</th>\n",
       "      <th>yr_built</th>\n",
       "      <th>yr_renovated</th>\n",
       "      <th>zipcode</th>\n",
       "      <th>lat</th>\n",
       "      <th>long</th>\n",
       "      <th>sqft_living15</th>\n",
       "      <th>sqft_lot15</th>\n",
       "      <th>was_renovated</th>\n",
       "    </tr>\n",
       "  </thead>\n",
       "  <tbody>\n",
       "    <tr>\n",
       "      <th>count</th>\n",
       "      <td>2.108200e+04</td>\n",
       "      <td>2.108200e+04</td>\n",
       "      <td>21082.000000</td>\n",
       "      <td>21082.000000</td>\n",
       "      <td>21082.000000</td>\n",
       "      <td>2.108200e+04</td>\n",
       "      <td>21082.00000</td>\n",
       "      <td>21082.000000</td>\n",
       "      <td>21082.000000</td>\n",
       "      <td>21082.000000</td>\n",
       "      <td>...</td>\n",
       "      <td>21082.000000</td>\n",
       "      <td>21082.000000</td>\n",
       "      <td>21082.000000</td>\n",
       "      <td>17340.000000</td>\n",
       "      <td>21082.000000</td>\n",
       "      <td>21082.000000</td>\n",
       "      <td>21082.000000</td>\n",
       "      <td>21082.000000</td>\n",
       "      <td>21082.000000</td>\n",
       "      <td>21082.000000</td>\n",
       "    </tr>\n",
       "    <tr>\n",
       "      <th>mean</th>\n",
       "      <td>4.582793e+09</td>\n",
       "      <td>5.402469e+05</td>\n",
       "      <td>3.372403</td>\n",
       "      <td>2.115916</td>\n",
       "      <td>2080.359975</td>\n",
       "      <td>1.507759e+04</td>\n",
       "      <td>1.49362</td>\n",
       "      <td>0.006688</td>\n",
       "      <td>0.233327</td>\n",
       "      <td>3.409828</td>\n",
       "      <td>...</td>\n",
       "      <td>1789.000000</td>\n",
       "      <td>291.359975</td>\n",
       "      <td>1971.023337</td>\n",
       "      <td>83.111419</td>\n",
       "      <td>98077.858837</td>\n",
       "      <td>47.560371</td>\n",
       "      <td>-122.213843</td>\n",
       "      <td>1986.917418</td>\n",
       "      <td>12732.514135</td>\n",
       "      <td>0.034247</td>\n",
       "    </tr>\n",
       "    <tr>\n",
       "      <th>std</th>\n",
       "      <td>2.876423e+09</td>\n",
       "      <td>3.667323e+05</td>\n",
       "      <td>0.924996</td>\n",
       "      <td>0.768142</td>\n",
       "      <td>917.856396</td>\n",
       "      <td>4.117338e+04</td>\n",
       "      <td>0.53937</td>\n",
       "      <td>0.081509</td>\n",
       "      <td>0.765066</td>\n",
       "      <td>0.650597</td>\n",
       "      <td>...</td>\n",
       "      <td>828.369355</td>\n",
       "      <td>442.007858</td>\n",
       "      <td>29.323120</td>\n",
       "      <td>398.756281</td>\n",
       "      <td>53.528769</td>\n",
       "      <td>0.138568</td>\n",
       "      <td>0.140607</td>\n",
       "      <td>685.544250</td>\n",
       "      <td>27148.781580</td>\n",
       "      <td>0.181868</td>\n",
       "    </tr>\n",
       "    <tr>\n",
       "      <th>min</th>\n",
       "      <td>1.000102e+06</td>\n",
       "      <td>7.800000e+04</td>\n",
       "      <td>1.000000</td>\n",
       "      <td>0.500000</td>\n",
       "      <td>370.000000</td>\n",
       "      <td>5.200000e+02</td>\n",
       "      <td>1.00000</td>\n",
       "      <td>0.000000</td>\n",
       "      <td>0.000000</td>\n",
       "      <td>1.000000</td>\n",
       "      <td>...</td>\n",
       "      <td>370.000000</td>\n",
       "      <td>0.000000</td>\n",
       "      <td>1900.000000</td>\n",
       "      <td>0.000000</td>\n",
       "      <td>98001.000000</td>\n",
       "      <td>47.155900</td>\n",
       "      <td>-122.519000</td>\n",
       "      <td>399.000000</td>\n",
       "      <td>651.000000</td>\n",
       "      <td>0.000000</td>\n",
       "    </tr>\n",
       "    <tr>\n",
       "      <th>25%</th>\n",
       "      <td>2.123700e+09</td>\n",
       "      <td>3.220000e+05</td>\n",
       "      <td>3.000000</td>\n",
       "      <td>1.750000</td>\n",
       "      <td>1430.000000</td>\n",
       "      <td>5.040000e+03</td>\n",
       "      <td>1.00000</td>\n",
       "      <td>0.000000</td>\n",
       "      <td>0.000000</td>\n",
       "      <td>3.000000</td>\n",
       "      <td>...</td>\n",
       "      <td>1200.000000</td>\n",
       "      <td>0.000000</td>\n",
       "      <td>1952.000000</td>\n",
       "      <td>0.000000</td>\n",
       "      <td>98033.000000</td>\n",
       "      <td>47.471325</td>\n",
       "      <td>-122.328000</td>\n",
       "      <td>1490.000000</td>\n",
       "      <td>5100.000000</td>\n",
       "      <td>0.000000</td>\n",
       "    </tr>\n",
       "    <tr>\n",
       "      <th>50%</th>\n",
       "      <td>3.904970e+09</td>\n",
       "      <td>4.500000e+05</td>\n",
       "      <td>3.000000</td>\n",
       "      <td>2.250000</td>\n",
       "      <td>1910.000000</td>\n",
       "      <td>7.620000e+03</td>\n",
       "      <td>1.50000</td>\n",
       "      <td>0.000000</td>\n",
       "      <td>0.000000</td>\n",
       "      <td>3.000000</td>\n",
       "      <td>...</td>\n",
       "      <td>1560.000000</td>\n",
       "      <td>0.000000</td>\n",
       "      <td>1975.000000</td>\n",
       "      <td>0.000000</td>\n",
       "      <td>98065.000000</td>\n",
       "      <td>47.572200</td>\n",
       "      <td>-122.230000</td>\n",
       "      <td>1840.000000</td>\n",
       "      <td>7626.000000</td>\n",
       "      <td>0.000000</td>\n",
       "    </tr>\n",
       "    <tr>\n",
       "      <th>75%</th>\n",
       "      <td>7.312200e+09</td>\n",
       "      <td>6.450000e+05</td>\n",
       "      <td>4.000000</td>\n",
       "      <td>2.500000</td>\n",
       "      <td>2550.000000</td>\n",
       "      <td>1.069775e+04</td>\n",
       "      <td>2.00000</td>\n",
       "      <td>0.000000</td>\n",
       "      <td>0.000000</td>\n",
       "      <td>4.000000</td>\n",
       "      <td>...</td>\n",
       "      <td>2210.000000</td>\n",
       "      <td>560.000000</td>\n",
       "      <td>1997.000000</td>\n",
       "      <td>0.000000</td>\n",
       "      <td>98117.000000</td>\n",
       "      <td>47.678200</td>\n",
       "      <td>-122.125000</td>\n",
       "      <td>2360.000000</td>\n",
       "      <td>10088.750000</td>\n",
       "      <td>0.000000</td>\n",
       "    </tr>\n",
       "    <tr>\n",
       "      <th>max</th>\n",
       "      <td>9.900000e+09</td>\n",
       "      <td>7.700000e+06</td>\n",
       "      <td>33.000000</td>\n",
       "      <td>8.000000</td>\n",
       "      <td>13540.000000</td>\n",
       "      <td>1.651359e+06</td>\n",
       "      <td>3.50000</td>\n",
       "      <td>1.000000</td>\n",
       "      <td>4.000000</td>\n",
       "      <td>5.000000</td>\n",
       "      <td>...</td>\n",
       "      <td>9410.000000</td>\n",
       "      <td>4820.000000</td>\n",
       "      <td>2015.000000</td>\n",
       "      <td>2015.000000</td>\n",
       "      <td>98199.000000</td>\n",
       "      <td>47.777600</td>\n",
       "      <td>-121.315000</td>\n",
       "      <td>6210.000000</td>\n",
       "      <td>871200.000000</td>\n",
       "      <td>1.000000</td>\n",
       "    </tr>\n",
       "  </tbody>\n",
       "</table>\n",
       "<p>8 rows × 21 columns</p>\n",
       "</div>"
      ],
      "text/plain": [
       "                 id         price      bedrooms     bathrooms   sqft_living  \\\n",
       "count  2.108200e+04  2.108200e+04  21082.000000  21082.000000  21082.000000   \n",
       "mean   4.582793e+09  5.402469e+05      3.372403      2.115916   2080.359975   \n",
       "std    2.876423e+09  3.667323e+05      0.924996      0.768142    917.856396   \n",
       "min    1.000102e+06  7.800000e+04      1.000000      0.500000    370.000000   \n",
       "25%    2.123700e+09  3.220000e+05      3.000000      1.750000   1430.000000   \n",
       "50%    3.904970e+09  4.500000e+05      3.000000      2.250000   1910.000000   \n",
       "75%    7.312200e+09  6.450000e+05      4.000000      2.500000   2550.000000   \n",
       "max    9.900000e+09  7.700000e+06     33.000000      8.000000  13540.000000   \n",
       "\n",
       "           sqft_lot       floors    waterfront          view     condition  \\\n",
       "count  2.108200e+04  21082.00000  21082.000000  21082.000000  21082.000000   \n",
       "mean   1.507759e+04      1.49362      0.006688      0.233327      3.409828   \n",
       "std    4.117338e+04      0.53937      0.081509      0.765066      0.650597   \n",
       "min    5.200000e+02      1.00000      0.000000      0.000000      1.000000   \n",
       "25%    5.040000e+03      1.00000      0.000000      0.000000      3.000000   \n",
       "50%    7.620000e+03      1.50000      0.000000      0.000000      3.000000   \n",
       "75%    1.069775e+04      2.00000      0.000000      0.000000      4.000000   \n",
       "max    1.651359e+06      3.50000      1.000000      4.000000      5.000000   \n",
       "\n",
       "           ...          sqft_above  sqft_basement      yr_built  yr_renovated  \\\n",
       "count      ...        21082.000000   21082.000000  21082.000000  17340.000000   \n",
       "mean       ...         1789.000000     291.359975   1971.023337     83.111419   \n",
       "std        ...          828.369355     442.007858     29.323120    398.756281   \n",
       "min        ...          370.000000       0.000000   1900.000000      0.000000   \n",
       "25%        ...         1200.000000       0.000000   1952.000000      0.000000   \n",
       "50%        ...         1560.000000       0.000000   1975.000000      0.000000   \n",
       "75%        ...         2210.000000     560.000000   1997.000000      0.000000   \n",
       "max        ...         9410.000000    4820.000000   2015.000000   2015.000000   \n",
       "\n",
       "            zipcode           lat          long  sqft_living15     sqft_lot15  \\\n",
       "count  21082.000000  21082.000000  21082.000000   21082.000000   21082.000000   \n",
       "mean   98077.858837     47.560371   -122.213843    1986.917418   12732.514135   \n",
       "std       53.528769      0.138568      0.140607     685.544250   27148.781580   \n",
       "min    98001.000000     47.155900   -122.519000     399.000000     651.000000   \n",
       "25%    98033.000000     47.471325   -122.328000    1490.000000    5100.000000   \n",
       "50%    98065.000000     47.572200   -122.230000    1840.000000    7626.000000   \n",
       "75%    98117.000000     47.678200   -122.125000    2360.000000   10088.750000   \n",
       "max    98199.000000     47.777600   -121.315000    6210.000000  871200.000000   \n",
       "\n",
       "       was_renovated  \n",
       "count   21082.000000  \n",
       "mean        0.034247  \n",
       "std         0.181868  \n",
       "min         0.000000  \n",
       "25%         0.000000  \n",
       "50%         0.000000  \n",
       "75%         0.000000  \n",
       "max         1.000000  \n",
       "\n",
       "[8 rows x 21 columns]"
      ]
     },
     "execution_count": 68,
     "metadata": {},
     "output_type": "execute_result"
    }
   ],
   "source": [
    "kc_houses.describe()"
   ]
  },
  {
   "cell_type": "code",
   "execution_count": 132,
   "metadata": {},
   "outputs": [
    {
     "data": {
      "image/png": "[encoded data removed]",
      "text/plain": [
       "<Figure size 432x288 with 1 Axes>"
      ]
     },
     "metadata": {
      "needs_background": "light"
     },
     "output_type": "display_data"
    }
   ],
   "source": [
    "import matplotlib.pyplot as plt\n",
    "plt.scatter(kc_houses['sqft_living'],kc_houses['sqft_living15'])\n",
    "plt.show()"
   ]
  },
  {
   "cell_type": "code",
   "execution_count": 37,
   "metadata": {},
   "outputs": [
    {
     "data": {
      "text/html": [
       "<div>\n",
       "<style scoped>\n",
       "    .dataframe tbody tr th:only-of-type {\n",
       "        vertical-align: middle;\n",
       "    }\n",
       "\n",
       "    .dataframe tbody tr th {\n",
       "        vertical-align: top;\n",
       "    }\n",
       "\n",
       "    .dataframe thead th {\n",
       "        text-align: right;\n",
       "    }\n",
       "</style>\n",
       "<table border=\"1\" class=\"dataframe\">\n",
       "  <thead>\n",
       "    <tr style=\"text-align: right;\">\n",
       "      <th></th>\n",
       "      <th>id</th>\n",
       "      <th>price</th>\n",
       "      <th>bedrooms</th>\n",
       "      <th>bathrooms</th>\n",
       "      <th>sqft_living</th>\n",
       "      <th>sqft_lot</th>\n",
       "      <th>floors</th>\n",
       "      <th>waterfront</th>\n",
       "      <th>view</th>\n",
       "      <th>condition</th>\n",
       "      <th>...</th>\n",
       "      <th>yr_built</th>\n",
       "      <th>yr_renovated</th>\n",
       "      <th>zipcode</th>\n",
       "      <th>lat</th>\n",
       "      <th>long</th>\n",
       "      <th>sqft_living15</th>\n",
       "      <th>sqft_lot15</th>\n",
       "      <th>was_renovated</th>\n",
       "      <th>living-lot-ratio</th>\n",
       "      <th>living-lot-ratio15</th>\n",
       "    </tr>\n",
       "  </thead>\n",
       "  <tbody>\n",
       "    <tr>\n",
       "      <th>id</th>\n",
       "      <td>1.000000</td>\n",
       "      <td>-0.017392</td>\n",
       "      <td>0.000991</td>\n",
       "      <td>0.004971</td>\n",
       "      <td>-0.012381</td>\n",
       "      <td>-0.132061</td>\n",
       "      <td>0.018573</td>\n",
       "      <td>-0.004259</td>\n",
       "      <td>0.011592</td>\n",
       "      <td>-0.023944</td>\n",
       "      <td>...</td>\n",
       "      <td>0.021609</td>\n",
       "      <td>-0.011802</td>\n",
       "      <td>-0.008027</td>\n",
       "      <td>-0.002001</td>\n",
       "      <td>0.020637</td>\n",
       "      <td>-0.002707</td>\n",
       "      <td>-0.138607</td>\n",
       "      <td>-0.010481</td>\n",
       "      <td>0.088188</td>\n",
       "      <td>0.099755</td>\n",
       "    </tr>\n",
       "    <tr>\n",
       "      <th>price</th>\n",
       "      <td>-0.017392</td>\n",
       "      <td>1.000000</td>\n",
       "      <td>0.308063</td>\n",
       "      <td>0.525053</td>\n",
       "      <td>0.701587</td>\n",
       "      <td>0.090338</td>\n",
       "      <td>0.257052</td>\n",
       "      <td>0.259220</td>\n",
       "      <td>0.395734</td>\n",
       "      <td>0.035393</td>\n",
       "      <td>...</td>\n",
       "      <td>0.054273</td>\n",
       "      <td>0.129887</td>\n",
       "      <td>-0.053620</td>\n",
       "      <td>0.307868</td>\n",
       "      <td>0.022417</td>\n",
       "      <td>0.585304</td>\n",
       "      <td>0.083189</td>\n",
       "      <td>0.117668</td>\n",
       "      <td>0.123050</td>\n",
       "      <td>0.065531</td>\n",
       "    </tr>\n",
       "    <tr>\n",
       "      <th>bedrooms</th>\n",
       "      <td>0.000991</td>\n",
       "      <td>0.308063</td>\n",
       "      <td>1.000000</td>\n",
       "      <td>0.514368</td>\n",
       "      <td>0.577934</td>\n",
       "      <td>0.032735</td>\n",
       "      <td>0.177391</td>\n",
       "      <td>-0.003733</td>\n",
       "      <td>0.078523</td>\n",
       "      <td>0.026402</td>\n",
       "      <td>...</td>\n",
       "      <td>0.155462</td>\n",
       "      <td>0.018419</td>\n",
       "      <td>-0.153990</td>\n",
       "      <td>-0.010415</td>\n",
       "      <td>0.132318</td>\n",
       "      <td>0.392874</td>\n",
       "      <td>0.030952</td>\n",
       "      <td>0.017531</td>\n",
       "      <td>0.026503</td>\n",
       "      <td>-0.060570</td>\n",
       "    </tr>\n",
       "    <tr>\n",
       "      <th>bathrooms</th>\n",
       "      <td>0.004971</td>\n",
       "      <td>0.525053</td>\n",
       "      <td>0.514368</td>\n",
       "      <td>1.000000</td>\n",
       "      <td>0.755277</td>\n",
       "      <td>0.088921</td>\n",
       "      <td>0.502285</td>\n",
       "      <td>0.061115</td>\n",
       "      <td>0.186451</td>\n",
       "      <td>-0.126682</td>\n",
       "      <td>...</td>\n",
       "      <td>0.507565</td>\n",
       "      <td>0.050786</td>\n",
       "      <td>-0.204435</td>\n",
       "      <td>0.024487</td>\n",
       "      <td>0.225025</td>\n",
       "      <td>0.569139</td>\n",
       "      <td>0.088854</td>\n",
       "      <td>0.046519</td>\n",
       "      <td>0.286945</td>\n",
       "      <td>0.186403</td>\n",
       "    </tr>\n",
       "    <tr>\n",
       "      <th>sqft_living</th>\n",
       "      <td>-0.012381</td>\n",
       "      <td>0.701587</td>\n",
       "      <td>0.577934</td>\n",
       "      <td>0.755277</td>\n",
       "      <td>1.000000</td>\n",
       "      <td>0.173768</td>\n",
       "      <td>0.353529</td>\n",
       "      <td>0.101982</td>\n",
       "      <td>0.282532</td>\n",
       "      <td>-0.059783</td>\n",
       "      <td>...</td>\n",
       "      <td>0.318217</td>\n",
       "      <td>0.055471</td>\n",
       "      <td>-0.199839</td>\n",
       "      <td>0.052383</td>\n",
       "      <td>0.241856</td>\n",
       "      <td>0.756208</td>\n",
       "      <td>0.184801</td>\n",
       "      <td>0.050640</td>\n",
       "      <td>0.076427</td>\n",
       "      <td>-0.032489</td>\n",
       "    </tr>\n",
       "    <tr>\n",
       "      <th>sqft_lot</th>\n",
       "      <td>-0.132061</td>\n",
       "      <td>0.090338</td>\n",
       "      <td>0.032735</td>\n",
       "      <td>0.088921</td>\n",
       "      <td>0.173768</td>\n",
       "      <td>1.000000</td>\n",
       "      <td>-0.005025</td>\n",
       "      <td>0.021465</td>\n",
       "      <td>0.075298</td>\n",
       "      <td>-0.008375</td>\n",
       "      <td>...</td>\n",
       "      <td>0.052646</td>\n",
       "      <td>0.004661</td>\n",
       "      <td>-0.129846</td>\n",
       "      <td>-0.085143</td>\n",
       "      <td>0.230137</td>\n",
       "      <td>0.145142</td>\n",
       "      <td>0.717095</td>\n",
       "      <td>0.005203</td>\n",
       "      <td>-0.252470</td>\n",
       "      <td>-0.252465</td>\n",
       "    </tr>\n",
       "    <tr>\n",
       "      <th>floors</th>\n",
       "      <td>0.018573</td>\n",
       "      <td>0.257052</td>\n",
       "      <td>0.177391</td>\n",
       "      <td>0.502285</td>\n",
       "      <td>0.353529</td>\n",
       "      <td>-0.005025</td>\n",
       "      <td>1.000000</td>\n",
       "      <td>0.020357</td>\n",
       "      <td>0.028436</td>\n",
       "      <td>-0.264138</td>\n",
       "      <td>...</td>\n",
       "      <td>0.489410</td>\n",
       "      <td>0.002978</td>\n",
       "      <td>-0.058966</td>\n",
       "      <td>0.049419</td>\n",
       "      <td>0.125329</td>\n",
       "      <td>0.279176</td>\n",
       "      <td>-0.010850</td>\n",
       "      <td>0.003236</td>\n",
       "      <td>0.557130</td>\n",
       "      <td>0.494861</td>\n",
       "    </tr>\n",
       "    <tr>\n",
       "      <th>waterfront</th>\n",
       "      <td>-0.004259</td>\n",
       "      <td>0.259220</td>\n",
       "      <td>-0.003733</td>\n",
       "      <td>0.061115</td>\n",
       "      <td>0.101982</td>\n",
       "      <td>0.021465</td>\n",
       "      <td>0.020357</td>\n",
       "      <td>1.000000</td>\n",
       "      <td>0.382000</td>\n",
       "      <td>0.016224</td>\n",
       "      <td>...</td>\n",
       "      <td>-0.025000</td>\n",
       "      <td>0.081909</td>\n",
       "      <td>0.029490</td>\n",
       "      <td>-0.012282</td>\n",
       "      <td>-0.037845</td>\n",
       "      <td>0.082352</td>\n",
       "      <td>0.030605</td>\n",
       "      <td>0.074657</td>\n",
       "      <td>-0.029894</td>\n",
       "      <td>-0.042551</td>\n",
       "    </tr>\n",
       "    <tr>\n",
       "      <th>view</th>\n",
       "      <td>0.011592</td>\n",
       "      <td>0.395734</td>\n",
       "      <td>0.078523</td>\n",
       "      <td>0.186451</td>\n",
       "      <td>0.282532</td>\n",
       "      <td>0.075298</td>\n",
       "      <td>0.028436</td>\n",
       "      <td>0.382000</td>\n",
       "      <td>1.000000</td>\n",
       "      <td>0.045735</td>\n",
       "      <td>...</td>\n",
       "      <td>-0.054564</td>\n",
       "      <td>0.100964</td>\n",
       "      <td>0.085277</td>\n",
       "      <td>0.006141</td>\n",
       "      <td>-0.077894</td>\n",
       "      <td>0.279561</td>\n",
       "      <td>0.073332</td>\n",
       "      <td>0.090465</td>\n",
       "      <td>-0.002310</td>\n",
       "      <td>-0.013922</td>\n",
       "    </tr>\n",
       "    <tr>\n",
       "      <th>condition</th>\n",
       "      <td>-0.023944</td>\n",
       "      <td>0.035393</td>\n",
       "      <td>0.026402</td>\n",
       "      <td>-0.126682</td>\n",
       "      <td>-0.059783</td>\n",
       "      <td>-0.008375</td>\n",
       "      <td>-0.264138</td>\n",
       "      <td>0.016224</td>\n",
       "      <td>0.045735</td>\n",
       "      <td>1.000000</td>\n",
       "      <td>...</td>\n",
       "      <td>-0.361398</td>\n",
       "      <td>-0.061764</td>\n",
       "      <td>0.002125</td>\n",
       "      <td>-0.015594</td>\n",
       "      <td>-0.105475</td>\n",
       "      <td>-0.093172</td>\n",
       "      <td>-0.002702</td>\n",
       "      <td>-0.055304</td>\n",
       "      <td>-0.157109</td>\n",
       "      <td>-0.175018</td>\n",
       "    </tr>\n",
       "    <tr>\n",
       "      <th>grade</th>\n",
       "      <td>0.008331</td>\n",
       "      <td>0.668307</td>\n",
       "      <td>0.356095</td>\n",
       "      <td>0.665312</td>\n",
       "      <td>0.762398</td>\n",
       "      <td>0.115122</td>\n",
       "      <td>0.458694</td>\n",
       "      <td>0.081195</td>\n",
       "      <td>0.249727</td>\n",
       "      <td>-0.147326</td>\n",
       "      <td>...</td>\n",
       "      <td>0.448255</td>\n",
       "      <td>0.016186</td>\n",
       "      <td>-0.185710</td>\n",
       "      <td>0.113787</td>\n",
       "      <td>0.200821</td>\n",
       "      <td>0.713462</td>\n",
       "      <td>0.121435</td>\n",
       "      <td>0.014870</td>\n",
       "      <td>0.191191</td>\n",
       "      <td>0.130417</td>\n",
       "    </tr>\n",
       "    <tr>\n",
       "      <th>sqft_above</th>\n",
       "      <td>-0.010967</td>\n",
       "      <td>0.605695</td>\n",
       "      <td>0.479148</td>\n",
       "      <td>0.686173</td>\n",
       "      <td>0.876553</td>\n",
       "      <td>0.184325</td>\n",
       "      <td>0.523367</td>\n",
       "      <td>0.069931</td>\n",
       "      <td>0.166299</td>\n",
       "      <td>-0.158830</td>\n",
       "      <td>...</td>\n",
       "      <td>0.423999</td>\n",
       "      <td>0.021654</td>\n",
       "      <td>-0.261480</td>\n",
       "      <td>-0.000889</td>\n",
       "      <td>0.345051</td>\n",
       "      <td>0.731543</td>\n",
       "      <td>0.195413</td>\n",
       "      <td>0.020136</td>\n",
       "      <td>0.051081</td>\n",
       "      <td>-0.015283</td>\n",
       "    </tr>\n",
       "    <tr>\n",
       "      <th>yr_built</th>\n",
       "      <td>0.021609</td>\n",
       "      <td>0.054273</td>\n",
       "      <td>0.155462</td>\n",
       "      <td>0.507565</td>\n",
       "      <td>0.318217</td>\n",
       "      <td>0.052646</td>\n",
       "      <td>0.489410</td>\n",
       "      <td>-0.025000</td>\n",
       "      <td>-0.054564</td>\n",
       "      <td>-0.361398</td>\n",
       "      <td>...</td>\n",
       "      <td>1.000000</td>\n",
       "      <td>-0.225153</td>\n",
       "      <td>-0.346585</td>\n",
       "      <td>-0.147850</td>\n",
       "      <td>0.409666</td>\n",
       "      <td>0.326539</td>\n",
       "      <td>0.070562</td>\n",
       "      <td>-0.202750</td>\n",
       "      <td>0.279597</td>\n",
       "      <td>0.238930</td>\n",
       "    </tr>\n",
       "    <tr>\n",
       "      <th>yr_renovated</th>\n",
       "      <td>-0.011802</td>\n",
       "      <td>0.129887</td>\n",
       "      <td>0.018419</td>\n",
       "      <td>0.050786</td>\n",
       "      <td>0.055471</td>\n",
       "      <td>0.004661</td>\n",
       "      <td>0.002978</td>\n",
       "      <td>0.081909</td>\n",
       "      <td>0.100964</td>\n",
       "      <td>-0.061764</td>\n",
       "      <td>...</td>\n",
       "      <td>-0.225153</td>\n",
       "      <td>1.000000</td>\n",
       "      <td>0.069868</td>\n",
       "      <td>0.031972</td>\n",
       "      <td>-0.072161</td>\n",
       "      <td>-0.000665</td>\n",
       "      <td>0.004028</td>\n",
       "      <td>0.999968</td>\n",
       "      <td>-0.002154</td>\n",
       "      <td>-0.033864</td>\n",
       "    </tr>\n",
       "    <tr>\n",
       "      <th>zipcode</th>\n",
       "      <td>-0.008027</td>\n",
       "      <td>-0.053620</td>\n",
       "      <td>-0.153990</td>\n",
       "      <td>-0.204435</td>\n",
       "      <td>-0.199839</td>\n",
       "      <td>-0.129846</td>\n",
       "      <td>-0.058966</td>\n",
       "      <td>0.029490</td>\n",
       "      <td>0.085277</td>\n",
       "      <td>0.002125</td>\n",
       "      <td>...</td>\n",
       "      <td>-0.346585</td>\n",
       "      <td>0.069868</td>\n",
       "      <td>1.000000</td>\n",
       "      <td>0.266595</td>\n",
       "      <td>-0.564279</td>\n",
       "      <td>-0.279375</td>\n",
       "      <td>-0.147519</td>\n",
       "      <td>0.062403</td>\n",
       "      <td>0.177568</td>\n",
       "      <td>0.150364</td>\n",
       "    </tr>\n",
       "    <tr>\n",
       "      <th>lat</th>\n",
       "      <td>-0.002001</td>\n",
       "      <td>0.307868</td>\n",
       "      <td>-0.010415</td>\n",
       "      <td>0.024487</td>\n",
       "      <td>0.052383</td>\n",
       "      <td>-0.085143</td>\n",
       "      <td>0.049419</td>\n",
       "      <td>-0.012282</td>\n",
       "      <td>0.006141</td>\n",
       "      <td>-0.015594</td>\n",
       "      <td>...</td>\n",
       "      <td>-0.147850</td>\n",
       "      <td>0.031972</td>\n",
       "      <td>0.266595</td>\n",
       "      <td>1.000000</td>\n",
       "      <td>-0.135439</td>\n",
       "      <td>0.048569</td>\n",
       "      <td>-0.086035</td>\n",
       "      <td>0.027730</td>\n",
       "      <td>0.164529</td>\n",
       "      <td>0.153384</td>\n",
       "    </tr>\n",
       "    <tr>\n",
       "      <th>long</th>\n",
       "      <td>0.020637</td>\n",
       "      <td>0.022417</td>\n",
       "      <td>0.132318</td>\n",
       "      <td>0.225025</td>\n",
       "      <td>0.241856</td>\n",
       "      <td>0.230137</td>\n",
       "      <td>0.125329</td>\n",
       "      <td>-0.037845</td>\n",
       "      <td>-0.077894</td>\n",
       "      <td>-0.105475</td>\n",
       "      <td>...</td>\n",
       "      <td>0.409666</td>\n",
       "      <td>-0.072161</td>\n",
       "      <td>-0.564279</td>\n",
       "      <td>-0.135439</td>\n",
       "      <td>1.000000</td>\n",
       "      <td>0.336019</td>\n",
       "      <td>0.255283</td>\n",
       "      <td>-0.064514</td>\n",
       "      <td>-0.204257</td>\n",
       "      <td>-0.169950</td>\n",
       "    </tr>\n",
       "    <tr>\n",
       "      <th>sqft_living15</th>\n",
       "      <td>-0.002707</td>\n",
       "      <td>0.585304</td>\n",
       "      <td>0.392874</td>\n",
       "      <td>0.569139</td>\n",
       "      <td>0.756208</td>\n",
       "      <td>0.145142</td>\n",
       "      <td>0.279176</td>\n",
       "      <td>0.082352</td>\n",
       "      <td>0.279561</td>\n",
       "      <td>-0.093172</td>\n",
       "      <td>...</td>\n",
       "      <td>0.326539</td>\n",
       "      <td>-0.000665</td>\n",
       "      <td>-0.279375</td>\n",
       "      <td>0.048569</td>\n",
       "      <td>0.336019</td>\n",
       "      <td>1.000000</td>\n",
       "      <td>0.183952</td>\n",
       "      <td>0.000247</td>\n",
       "      <td>-0.042700</td>\n",
       "      <td>0.000484</td>\n",
       "    </tr>\n",
       "    <tr>\n",
       "      <th>sqft_lot15</th>\n",
       "      <td>-0.138607</td>\n",
       "      <td>0.083189</td>\n",
       "      <td>0.030952</td>\n",
       "      <td>0.088854</td>\n",
       "      <td>0.184801</td>\n",
       "      <td>0.717095</td>\n",
       "      <td>-0.010850</td>\n",
       "      <td>0.030605</td>\n",
       "      <td>0.073332</td>\n",
       "      <td>-0.002702</td>\n",
       "      <td>...</td>\n",
       "      <td>0.070562</td>\n",
       "      <td>0.004028</td>\n",
       "      <td>-0.147519</td>\n",
       "      <td>-0.086035</td>\n",
       "      <td>0.255283</td>\n",
       "      <td>0.183952</td>\n",
       "      <td>1.000000</td>\n",
       "      <td>0.004508</td>\n",
       "      <td>-0.277178</td>\n",
       "      <td>-0.313484</td>\n",
       "    </tr>\n",
       "    <tr>\n",
       "      <th>was_renovated</th>\n",
       "      <td>-0.010481</td>\n",
       "      <td>0.117668</td>\n",
       "      <td>0.017531</td>\n",
       "      <td>0.046519</td>\n",
       "      <td>0.050640</td>\n",
       "      <td>0.005203</td>\n",
       "      <td>0.003236</td>\n",
       "      <td>0.074657</td>\n",
       "      <td>0.090465</td>\n",
       "      <td>-0.055304</td>\n",
       "      <td>...</td>\n",
       "      <td>-0.202750</td>\n",
       "      <td>0.999968</td>\n",
       "      <td>0.062403</td>\n",
       "      <td>0.027730</td>\n",
       "      <td>-0.064514</td>\n",
       "      <td>0.000247</td>\n",
       "      <td>0.004508</td>\n",
       "      <td>1.000000</td>\n",
       "      <td>-0.002176</td>\n",
       "      <td>-0.031047</td>\n",
       "    </tr>\n",
       "    <tr>\n",
       "      <th>living-lot-ratio</th>\n",
       "      <td>0.088188</td>\n",
       "      <td>0.123050</td>\n",
       "      <td>0.026503</td>\n",
       "      <td>0.286945</td>\n",
       "      <td>0.076427</td>\n",
       "      <td>-0.252470</td>\n",
       "      <td>0.557130</td>\n",
       "      <td>-0.029894</td>\n",
       "      <td>-0.002310</td>\n",
       "      <td>-0.157109</td>\n",
       "      <td>...</td>\n",
       "      <td>0.279597</td>\n",
       "      <td>-0.002154</td>\n",
       "      <td>0.177568</td>\n",
       "      <td>0.164529</td>\n",
       "      <td>-0.204257</td>\n",
       "      <td>-0.042700</td>\n",
       "      <td>-0.277178</td>\n",
       "      <td>-0.002176</td>\n",
       "      <td>1.000000</td>\n",
       "      <td>0.848737</td>\n",
       "    </tr>\n",
       "    <tr>\n",
       "      <th>living-lot-ratio15</th>\n",
       "      <td>0.099755</td>\n",
       "      <td>0.065531</td>\n",
       "      <td>-0.060570</td>\n",
       "      <td>0.186403</td>\n",
       "      <td>-0.032489</td>\n",
       "      <td>-0.252465</td>\n",
       "      <td>0.494861</td>\n",
       "      <td>-0.042551</td>\n",
       "      <td>-0.013922</td>\n",
       "      <td>-0.175018</td>\n",
       "      <td>...</td>\n",
       "      <td>0.238930</td>\n",
       "      <td>-0.033864</td>\n",
       "      <td>0.150364</td>\n",
       "      <td>0.153384</td>\n",
       "      <td>-0.169950</td>\n",
       "      <td>0.000484</td>\n",
       "      <td>-0.313484</td>\n",
       "      <td>-0.031047</td>\n",
       "      <td>0.848737</td>\n",
       "      <td>1.000000</td>\n",
       "    </tr>\n",
       "  </tbody>\n",
       "</table>\n",
       "<p>22 rows × 22 columns</p>\n",
       "</div>"
      ],
      "text/plain": [
       "                          id     price  bedrooms  bathrooms  sqft_living  \\\n",
       "id                  1.000000 -0.017392  0.000991   0.004971    -0.012381   \n",
       "price              -0.017392  1.000000  0.308063   0.525053     0.701587   \n",
       "bedrooms            0.000991  0.308063  1.000000   0.514368     0.577934   \n",
       "bathrooms           0.004971  0.525053  0.514368   1.000000     0.755277   \n",
       "sqft_living        -0.012381  0.701587  0.577934   0.755277     1.000000   \n",
       "sqft_lot           -0.132061  0.090338  0.032735   0.088921     0.173768   \n",
       "floors              0.018573  0.257052  0.177391   0.502285     0.353529   \n",
       "waterfront         -0.004259  0.259220 -0.003733   0.061115     0.101982   \n",
       "view                0.011592  0.395734  0.078523   0.186451     0.282532   \n",
       "condition          -0.023944  0.035393  0.026402  -0.126682    -0.059783   \n",
       "grade               0.008331  0.668307  0.356095   0.665312     0.762398   \n",
       "sqft_above         -0.010967  0.605695  0.479148   0.686173     0.876553   \n",
       "yr_built            0.021609  0.054273  0.155462   0.507565     0.318217   \n",
       "yr_renovated       -0.011802  0.129887  0.018419   0.050786     0.055471   \n",
       "zipcode            -0.008027 -0.053620 -0.153990  -0.204435    -0.199839   \n",
       "lat                -0.002001  0.307868 -0.010415   0.024487     0.052383   \n",
       "long                0.020637  0.022417  0.132318   0.225025     0.241856   \n",
       "sqft_living15      -0.002707  0.585304  0.392874   0.569139     0.756208   \n",
       "sqft_lot15         -0.138607  0.083189  0.030952   0.088854     0.184801   \n",
       "was_renovated      -0.010481  0.117668  0.017531   0.046519     0.050640   \n",
       "living-lot-ratio    0.088188  0.123050  0.026503   0.286945     0.076427   \n",
       "living-lot-ratio15  0.099755  0.065531 -0.060570   0.186403    -0.032489   \n",
       "\n",
       "                    sqft_lot    floors  waterfront      view  condition  \\\n",
       "id                 -0.132061  0.018573   -0.004259  0.011592  -0.023944   \n",
       "price               0.090338  0.257052    0.259220  0.395734   0.035393   \n",
       "bedrooms            0.032735  0.177391   -0.003733  0.078523   0.026402   \n",
       "bathrooms           0.088921  0.502285    0.061115  0.186451  -0.126682   \n",
       "sqft_living         0.173768  0.353529    0.101982  0.282532  -0.059783   \n",
       "sqft_lot            1.000000 -0.005025    0.021465  0.075298  -0.008375   \n",
       "floors             -0.005025  1.000000    0.020357  0.028436  -0.264138   \n",
       "waterfront          0.021465  0.020357    1.000000  0.382000   0.016224   \n",
       "view                0.075298  0.028436    0.382000  1.000000   0.045735   \n",
       "condition          -0.008375 -0.264138    0.016224  0.045735   1.000000   \n",
       "grade               0.115122  0.458694    0.081195  0.249727  -0.147326   \n",
       "sqft_above          0.184325  0.523367    0.069931  0.166299  -0.158830   \n",
       "yr_built            0.052646  0.489410   -0.025000 -0.054564  -0.361398   \n",
       "yr_renovated        0.004661  0.002978    0.081909  0.100964  -0.061764   \n",
       "zipcode            -0.129846 -0.058966    0.029490  0.085277   0.002125   \n",
       "lat                -0.085143  0.049419   -0.012282  0.006141  -0.015594   \n",
       "long                0.230137  0.125329   -0.037845 -0.077894  -0.105475   \n",
       "sqft_living15       0.145142  0.279176    0.082352  0.279561  -0.093172   \n",
       "sqft_lot15          0.717095 -0.010850    0.030605  0.073332  -0.002702   \n",
       "was_renovated       0.005203  0.003236    0.074657  0.090465  -0.055304   \n",
       "living-lot-ratio   -0.252470  0.557130   -0.029894 -0.002310  -0.157109   \n",
       "living-lot-ratio15 -0.252465  0.494861   -0.042551 -0.013922  -0.175018   \n",
       "\n",
       "                           ...          yr_built  yr_renovated   zipcode  \\\n",
       "id                         ...          0.021609     -0.011802 -0.008027   \n",
       "price                      ...          0.054273      0.129887 -0.053620   \n",
       "bedrooms                   ...          0.155462      0.018419 -0.153990   \n",
       "bathrooms                  ...          0.507565      0.050786 -0.204435   \n",
       "sqft_living                ...          0.318217      0.055471 -0.199839   \n",
       "sqft_lot                   ...          0.052646      0.004661 -0.129846   \n",
       "floors                     ...          0.489410      0.002978 -0.058966   \n",
       "waterfront                 ...         -0.025000      0.081909  0.029490   \n",
       "view                       ...         -0.054564      0.100964  0.085277   \n",
       "condition                  ...         -0.361398     -0.061764  0.002125   \n",
       "grade                      ...          0.448255      0.016186 -0.185710   \n",
       "sqft_above                 ...          0.423999      0.021654 -0.261480   \n",
       "yr_built                   ...          1.000000     -0.225153 -0.346585   \n",
       "yr_renovated               ...         -0.225153      1.000000  0.069868   \n",
       "zipcode                    ...         -0.346585      0.069868  1.000000   \n",
       "lat                        ...         -0.147850      0.031972  0.266595   \n",
       "long                       ...          0.409666     -0.072161 -0.564279   \n",
       "sqft_living15              ...          0.326539     -0.000665 -0.279375   \n",
       "sqft_lot15                 ...          0.070562      0.004028 -0.147519   \n",
       "was_renovated              ...         -0.202750      0.999968  0.062403   \n",
       "living-lot-ratio           ...          0.279597     -0.002154  0.177568   \n",
       "living-lot-ratio15         ...          0.238930     -0.033864  0.150364   \n",
       "\n",
       "                         lat      long  sqft_living15  sqft_lot15  \\\n",
       "id                 -0.002001  0.020637      -0.002707   -0.138607   \n",
       "price               0.307868  0.022417       0.585304    0.083189   \n",
       "bedrooms           -0.010415  0.132318       0.392874    0.030952   \n",
       "bathrooms           0.024487  0.225025       0.569139    0.088854   \n",
       "sqft_living         0.052383  0.241856       0.756208    0.184801   \n",
       "sqft_lot           -0.085143  0.230137       0.145142    0.717095   \n",
       "floors              0.049419  0.125329       0.279176   -0.010850   \n",
       "waterfront         -0.012282 -0.037845       0.082352    0.030605   \n",
       "view                0.006141 -0.077894       0.279561    0.073332   \n",
       "condition          -0.015594 -0.105475      -0.093172   -0.002702   \n",
       "grade               0.113787  0.200821       0.713462    0.121435   \n",
       "sqft_above         -0.000889  0.345051       0.731543    0.195413   \n",
       "yr_built           -0.147850  0.409666       0.326539    0.070562   \n",
       "yr_renovated        0.031972 -0.072161      -0.000665    0.004028   \n",
       "zipcode             0.266595 -0.564279      -0.279375   -0.147519   \n",
       "lat                 1.000000 -0.135439       0.048569   -0.086035   \n",
       "long               -0.135439  1.000000       0.336019    0.255283   \n",
       "sqft_living15       0.048569  0.336019       1.000000    0.183952   \n",
       "sqft_lot15         -0.086035  0.255283       0.183952    1.000000   \n",
       "was_renovated       0.027730 -0.064514       0.000247    0.004508   \n",
       "living-lot-ratio    0.164529 -0.204257      -0.042700   -0.277178   \n",
       "living-lot-ratio15  0.153384 -0.169950       0.000484   -0.313484   \n",
       "\n",
       "                    was_renovated  living-lot-ratio  living-lot-ratio15  \n",
       "id                      -0.010481          0.088188            0.099755  \n",
       "price                    0.117668          0.123050            0.065531  \n",
       "bedrooms                 0.017531          0.026503           -0.060570  \n",
       "bathrooms                0.046519          0.286945            0.186403  \n",
       "sqft_living              0.050640          0.076427           -0.032489  \n",
       "sqft_lot                 0.005203         -0.252470           -0.252465  \n",
       "floors                   0.003236          0.557130            0.494861  \n",
       "waterfront               0.074657         -0.029894           -0.042551  \n",
       "view                     0.090465         -0.002310           -0.013922  \n",
       "condition               -0.055304         -0.157109           -0.175018  \n",
       "grade                    0.014870          0.191191            0.130417  \n",
       "sqft_above               0.020136          0.051081           -0.015283  \n",
       "yr_built                -0.202750          0.279597            0.238930  \n",
       "yr_renovated             0.999968         -0.002154           -0.033864  \n",
       "zipcode                  0.062403          0.177568            0.150364  \n",
       "lat                      0.027730          0.164529            0.153384  \n",
       "long                    -0.064514         -0.204257           -0.169950  \n",
       "sqft_living15            0.000247         -0.042700            0.000484  \n",
       "sqft_lot15               0.004508         -0.277178           -0.313484  \n",
       "was_renovated            1.000000         -0.002176           -0.031047  \n",
       "living-lot-ratio        -0.002176          1.000000            0.848737  \n",
       "living-lot-ratio15      -0.031047          0.848737            1.000000  \n",
       "\n",
       "[22 rows x 22 columns]"
      ]
     },
     "execution_count": 37,
     "metadata": {},
     "output_type": "execute_result"
    }
   ],
   "source": [
    "kc_houses.corr()"
   ]
  },
  {
   "cell_type": "code",
   "execution_count": 69,
   "metadata": {},
   "outputs": [
    {
     "data": {
      "text/plain": [
       "<matplotlib.collections.PathCollection at 0x114e29208>"
      ]
     },
     "execution_count": 69,
     "metadata": {},
     "output_type": "execute_result"
    },
    {
     "data": {
      "image/png": "[encoded data removed]",
      "text/plain": [
       "<Figure size 432x288 with 1 Axes>"
      ]
     },
     "metadata": {
      "needs_background": "light"
     },
     "output_type": "display_data"
    }
   ],
   "source": [
    "plt.scatter(kc_houses['view'],kc_houses['price'])"
   ]
  },
  {
   "cell_type": "code",
   "execution_count": 22,
   "metadata": {},
   "outputs": [
    {
     "data": {
      "text/plain": [
       "70"
      ]
     },
     "execution_count": 22,
     "metadata": {},
     "output_type": "execute_result"
    }
   ],
   "source": [
    "kc_houses['zipcode'].nunique()"
   ]
  },
  {
   "cell_type": "code",
   "execution_count": 32,
   "metadata": {},
   "outputs": [
    {
     "data": {
      "text/plain": [
       "<matplotlib.axes._subplots.AxesSubplot at 0x1a1dfbb6d8>"
      ]
     },
     "execution_count": 32,
     "metadata": {},
     "output_type": "execute_result"
    },
    {
     "data": {
      "image/png": "[encoded data removed]",
      "text/plain": [
       "<Figure size 432x288 with 1 Axes>"
      ]
     },
     "metadata": {
      "needs_background": "light"
     },
     "output_type": "display_data"
    }
   ],
   "source": [
    "kc_houses.groupby('zipcode')['price'].median().hist(bins = 30)"
   ]
  },
  {
   "cell_type": "code",
   "execution_count": null,
   "metadata": {},
   "outputs": [],
   "source": [
    "plt.hist(kc_houses['sqft_living15'])"
   ]
  },
  {
   "cell_type": "code",
   "execution_count": 180,
   "metadata": {},
   "outputs": [
    {
     "data": {
      "text/plain": [
       "(array([3.000e+00, 5.000e+00, 1.290e+02, 1.353e+03, 5.251e+03, 6.531e+03,\n",
       "        4.811e+03, 2.385e+03, 5.590e+02, 5.500e+01]),\n",
       " array([5.98896142, 6.26345689, 6.53795237, 6.81244784, 7.08694332,\n",
       "        7.3614388 , 7.63593427, 7.91042975, 8.18492522, 8.4594207 ,\n",
       "        8.73391617]),\n",
       " <a list of 10 Patch objects>)"
      ]
     },
     "execution_count": 180,
     "metadata": {},
     "output_type": "execute_result"
    },
    {
     "data": {
      "image/png": "[encoded data removed]",
      "text/plain": [
       "<Figure size 432x288 with 1 Axes>"
      ]
     },
     "metadata": {
      "needs_background": "light"
     },
     "output_type": "display_data"
    }
   ],
   "source": [
    "import numpy as np\n",
    "plt.hist(np.log(kc_houses['sqft_living15']))"
   ]
  },
  {
   "cell_type": "code",
   "execution_count": 134,
   "metadata": {},
   "outputs": [],
   "source": [
    "kc_houses['log_sqft_liv'] = np.log(kc_houses['sqft_living15'])"
   ]
  },
  {
   "cell_type": "code",
   "execution_count": 135,
   "metadata": {},
   "outputs": [
    {
     "data": {
      "text/plain": [
       "<matplotlib.collections.PathCollection at 0x1a1ee760b8>"
      ]
     },
     "execution_count": 135,
     "metadata": {},
     "output_type": "execute_result"
    },
    {
     "data": {
      "image/png": "[encoded data removed]",
      "text/plain": [
       "<Figure size 432x288 with 1 Axes>"
      ]
     },
     "metadata": {
      "needs_background": "light"
     },
     "output_type": "display_data"
    }
   ],
   "source": [
    "from sklearn.linear_model import LinearRegression as LinReg\n",
    "house_model = LinReg()\n",
    "to_model = kc_houses[['condition','log_sqft_liv']]\n",
    "mod = house_model.fit(to_model,np.log(kc_houses['price']))\n",
    "y_pred = mod.predict(to_model)\n",
    "plt.scatter(y_pred,np.log(kc_houses['price']))"
   ]
  },
  {
   "cell_type": "code",
   "execution_count": 136,
   "metadata": {},
   "outputs": [
    {
     "data": {
      "text/plain": [
       "0.3359501108224201"
      ]
     },
     "execution_count": 136,
     "metadata": {},
     "output_type": "execute_result"
    }
   ],
   "source": [
    "from sklearn.metrics import explained_variance_score\n",
    "explained_variance_score(kc_houses['price'],np.e**y_pred)"
   ]
  },
  {
   "cell_type": "code",
   "execution_count": null,
   "metadata": {},
   "outputs": [],
   "source": [
    "#ask Bryan how to encode 70 categories"
   ]
  },
  {
   "cell_type": "code",
   "execution_count": 100,
   "metadata": {},
   "outputs": [
    {
     "data": {
      "text/plain": [
       "<matplotlib.collections.PathCollection at 0x1a20f1c320>"
      ]
     },
     "execution_count": 100,
     "metadata": {},
     "output_type": "execute_result"
    },
    {
     "data": {
      "image/png": "[encoded data removed]",
      "text/plain": [
       "<Figure size 432x288 with 1 Axes>"
      ]
     },
     "metadata": {
      "needs_background": "light"
     },
     "output_type": "display_data"
    }
   ],
   "source": [
    "everything = kc_houses.drop(columns = ['id','date','price','yr_renovated','living-lot-ratio','living-lot-ratio15'])\n",
    "mod = house_model.fit(everything,np.log(kc_houses['price']))\n",
    "y_pred = mod.predict(everything)\n",
    "plt.scatter(y_pred,np.log(kc_houses['price']))"
   ]
  },
  {
   "cell_type": "code",
   "execution_count": 101,
   "metadata": {},
   "outputs": [
    {
     "data": {
      "text/plain": [
       "0.6990673731935952"
      ]
     },
     "execution_count": 101,
     "metadata": {},
     "output_type": "execute_result"
    }
   ],
   "source": [
    "explained_variance_score(kc_houses['price'],np.e**y_pred)"
   ]
  },
  {
   "cell_type": "code",
   "execution_count": 120,
   "metadata": {},
   "outputs": [],
   "source": [
    "model_features = kc_houses[['bedrooms','bathrooms','floors','waterfront','condition','grade','sqft_above','sqft_basement','yr_built','was_renovated','log_sqft_liv']]"
   ]
  },
  {
   "cell_type": "code",
   "execution_count": 122,
   "metadata": {},
   "outputs": [
    {
     "data": {
      "text/plain": [
       "array([[<matplotlib.axes._subplots.AxesSubplot object at 0x1a1e308f28>,\n",
       "        <matplotlib.axes._subplots.AxesSubplot object at 0x1a2113d2b0>,\n",
       "        <matplotlib.axes._subplots.AxesSubplot object at 0x1a21165518>],\n",
       "       [<matplotlib.axes._subplots.AxesSubplot object at 0x1a2118ca90>,\n",
       "        <matplotlib.axes._subplots.AxesSubplot object at 0x1a1e8e8048>,\n",
       "        <matplotlib.axes._subplots.AxesSubplot object at 0x1a212245c0>],\n",
       "       [<matplotlib.axes._subplots.AxesSubplot object at 0x1a2124cb38>,\n",
       "        <matplotlib.axes._subplots.AxesSubplot object at 0x1a1f7d4128>,\n",
       "        <matplotlib.axes._subplots.AxesSubplot object at 0x1a1f7d4160>],\n",
       "       [<matplotlib.axes._subplots.AxesSubplot object at 0x1a211ccbe0>,\n",
       "        <matplotlib.axes._subplots.AxesSubplot object at 0x1a20c64198>,\n",
       "        <matplotlib.axes._subplots.AxesSubplot object at 0x1a21529710>]],\n",
       "      dtype=object)"
      ]
     },
     "execution_count": 122,
     "metadata": {},
     "output_type": "execute_result"
    },
    {
     "data": {
      "image/png": "[encoded data removed]",
      "text/plain": [
       "<Figure size 1296x1080 with 12 Axes>"
      ]
     },
     "metadata": {
      "needs_background": "light"
     },
     "output_type": "display_data"
    }
   ],
   "source": [
    "model_features.hist(figsize = (18,15))"
   ]
  },
  {
   "cell_type": "code",
   "execution_count": 124,
   "metadata": {},
   "outputs": [
    {
     "data": {
      "text/plain": [
       "(array([1.9100e+02, 2.6850e+03, 0.0000e+00, 1.6331e+04, 1.5550e+03,\n",
       "        3.0900e+02, 1.0000e+01, 0.0000e+00, 0.0000e+00, 1.0000e+00]),\n",
       " array([0.        , 0.34965076, 0.69930151, 1.04895227, 1.39860302,\n",
       "        1.74825378, 2.09790454, 2.44755529, 2.79720605, 3.14685681,\n",
       "        3.49650756]),\n",
       " <a list of 10 Patch objects>)"
      ]
     },
     "execution_count": 124,
     "metadata": {},
     "output_type": "execute_result"
    },
    {
     "data": {
      "image/png": "[encoded data removed]",
      "text/plain": [
       "<Figure size 432x288 with 1 Axes>"
      ]
     },
     "metadata": {
      "needs_background": "light"
     },
     "output_type": "display_data"
    }
   ],
   "source": [
    "plt.hist(np.log(kc_houses['bedrooms']))"
   ]
  },
  {
   "cell_type": "code",
   "execution_count": null,
   "metadata": {},
   "outputs": [],
   "source": [
    "mod = house_model.fit(model_features,np.log(kc_houses['price']))\n",
    "y_pred = mod.predict(everything)\n",
    "plt.scatter(y_pred,np.log(kc_houses['price']))"
   ]
  },
  {
   "cell_type": "code",
   "execution_count": null,
   "metadata": {},
   "outputs": [],
   "source": [
    "from sklearn.feature_selection import RFE\n"
   ]
  },
  {
   "cell_type": "code",
   "execution_count": null,
   "metadata": {},
   "outputs": [],
   "source": []
  },
  {
   "cell_type": "code",
   "execution_count": 192,
   "metadata": {},
   "outputs": [],
   "source": [
    "zips = pd.get_dummies(kc_houses['zipcode'])"
   ]
  },
  {
   "cell_type": "code",
   "execution_count": 193,
   "metadata": {},
   "outputs": [],
   "source": [
    "houses_with_zips = pd.concat([kc_houses,zips],axis =1)"
   ]
  },
  {
   "cell_type": "code",
   "execution_count": 194,
   "metadata": {},
   "outputs": [],
   "source": [
    "houses_with_zips.drop(columns = ['zipcode'],inplace=True)"
   ]
  },
  {
   "cell_type": "code",
   "execution_count": 148,
   "metadata": {},
   "outputs": [],
   "source": [
    "from sklearn.model_selection import train_test_split"
   ]
  },
  {
   "cell_type": "code",
   "execution_count": 199,
   "metadata": {},
   "outputs": [],
   "source": [
    "everything = houses_with_zips.drop(columns = ['id','date','price','sqft_lot','sqft_lot15','sqft_living15'])\n",
    "target = houses_with_zips['price']"
   ]
  },
  {
   "cell_type": "code",
   "execution_count": 200,
   "metadata": {},
   "outputs": [],
   "source": [
    "everything_train, everything_test, target_train, target_test = train_test_split(everything,target,test_size=.2)"
   ]
  },
  {
   "cell_type": "code",
   "execution_count": 203,
   "metadata": {},
   "outputs": [
    {
     "data": {
      "text/plain": [
       "<matplotlib.collections.PathCollection at 0x1a25a78208>"
      ]
     },
     "execution_count": 203,
     "metadata": {},
     "output_type": "execute_result"
    },
    {
     "data": {
      "image/png": "[encoded data removed]",
      "text/plain": [
       "<Figure size 432x288 with 1 Axes>"
      ]
     },
     "metadata": {
      "needs_background": "light"
     },
     "output_type": "display_data"
    }
   ],
   "source": [
    "mod = house_model.fit(everything_train,np.log(target_train))\n",
    "y_pred = mod.predict(everything_test)\n",
    "plt.scatter(y_pred,np.log(target_test))"
   ]
  },
  {
   "cell_type": "code",
   "execution_count": 206,
   "metadata": {},
   "outputs": [
    {
     "data": {
      "text/plain": [
       "0.8748506909240397"
      ]
     },
     "execution_count": 206,
     "metadata": {},
     "output_type": "execute_result"
    }
   ],
   "source": [
    "explained_variance_score(np.log(target_test),y_pred)#is this logic correct?"
   ]
  },
  {
   "cell_type": "code",
   "execution_count": 157,
   "metadata": {},
   "outputs": [
    {
     "data": {
      "text/plain": [
       "(array([1.631e+03, 6.216e+03, 5.359e+03, 3.395e+03, 1.987e+03, 9.980e+02,\n",
       "        4.000e+02, 3.080e+02, 2.130e+02, 1.560e+02, 1.070e+02, 7.800e+01,\n",
       "        4.700e+01, 2.900e+01, 3.300e+01, 3.200e+01, 1.600e+01, 1.200e+01,\n",
       "        1.500e+01, 1.400e+01, 6.000e+00, 9.000e+00, 1.000e+00, 6.000e+00,\n",
       "        3.000e+00, 1.000e+00, 0.000e+00, 1.000e+00, 1.000e+00, 1.000e+00,\n",
       "        1.000e+00, 0.000e+00, 0.000e+00, 1.000e+00, 1.000e+00, 0.000e+00,\n",
       "        1.000e+00, 0.000e+00, 0.000e+00, 0.000e+00, 0.000e+00, 0.000e+00,\n",
       "        0.000e+00, 0.000e+00, 1.000e+00, 1.000e+00, 0.000e+00, 0.000e+00,\n",
       "        0.000e+00, 1.000e+00]),\n",
       " array([  78000.,  230440.,  382880.,  535320.,  687760.,  840200.,\n",
       "         992640., 1145080., 1297520., 1449960., 1602400., 1754840.,\n",
       "        1907280., 2059720., 2212160., 2364600., 2517040., 2669480.,\n",
       "        2821920., 2974360., 3126800., 3279240., 3431680., 3584120.,\n",
       "        3736560., 3889000., 4041440., 4193880., 4346320., 4498760.,\n",
       "        4651200., 4803640., 4956080., 5108520., 5260960., 5413400.,\n",
       "        5565840., 5718280., 5870720., 6023160., 6175600., 6328040.,\n",
       "        6480480., 6632920., 6785360., 6937800., 7090240., 7242680.,\n",
       "        7395120., 7547560., 7700000.]),\n",
       " <a list of 50 Patch objects>)"
      ]
     },
     "execution_count": 157,
     "metadata": {},
     "output_type": "execute_result"
    },
    {
     "data": {
      "image/png": "[encoded data removed]",
      "text/plain": [
       "<Figure size 1080x864 with 1 Axes>"
      ]
     },
     "metadata": {
      "needs_background": "light"
     },
     "output_type": "display_data"
    }
   ],
   "source": [
    "plt.figure(figsize = (15,12))\n",
    "plt.hist(kc_houses['price'],bins = 50)"
   ]
  },
  {
   "cell_type": "code",
   "execution_count": 158,
   "metadata": {},
   "outputs": [
    {
     "data": {
      "text/plain": [
       "count    2.108200e+04\n",
       "mean     5.402469e+05\n",
       "std      3.667323e+05\n",
       "min      7.800000e+04\n",
       "25%      3.220000e+05\n",
       "50%      4.500000e+05\n",
       "75%      6.450000e+05\n",
       "max      7.700000e+06\n",
       "Name: price, dtype: float64"
      ]
     },
     "execution_count": 158,
     "metadata": {},
     "output_type": "execute_result"
    }
   ],
   "source": [
    "kc_houses['price'].describe()"
   ]
  },
  {
   "cell_type": "code",
   "execution_count": 162,
   "metadata": {},
   "outputs": [
    {
     "data": {
      "text/html": [
       "<div>\n",
       "<style scoped>\n",
       "    .dataframe tbody tr th:only-of-type {\n",
       "        vertical-align: middle;\n",
       "    }\n",
       "\n",
       "    .dataframe tbody tr th {\n",
       "        vertical-align: top;\n",
       "    }\n",
       "\n",
       "    .dataframe thead th {\n",
       "        text-align: right;\n",
       "    }\n",
       "</style>\n",
       "<table border=\"1\" class=\"dataframe\">\n",
       "  <thead>\n",
       "    <tr style=\"text-align: right;\">\n",
       "      <th></th>\n",
       "      <th>id</th>\n",
       "      <th>price</th>\n",
       "      <th>bedrooms</th>\n",
       "      <th>bathrooms</th>\n",
       "      <th>sqft_living</th>\n",
       "      <th>sqft_lot</th>\n",
       "      <th>floors</th>\n",
       "      <th>waterfront</th>\n",
       "      <th>view</th>\n",
       "      <th>condition</th>\n",
       "      <th>...</th>\n",
       "      <th>sqft_above</th>\n",
       "      <th>sqft_basement</th>\n",
       "      <th>yr_built</th>\n",
       "      <th>zipcode</th>\n",
       "      <th>lat</th>\n",
       "      <th>long</th>\n",
       "      <th>sqft_living15</th>\n",
       "      <th>sqft_lot15</th>\n",
       "      <th>was_renovated</th>\n",
       "      <th>log_sqft_liv</th>\n",
       "    </tr>\n",
       "  </thead>\n",
       "  <tbody>\n",
       "    <tr>\n",
       "      <th>count</th>\n",
       "      <td>1.962800e+04</td>\n",
       "      <td>19628.000000</td>\n",
       "      <td>19628.000000</td>\n",
       "      <td>19628.000000</td>\n",
       "      <td>19628.000000</td>\n",
       "      <td>1.962800e+04</td>\n",
       "      <td>19628.000000</td>\n",
       "      <td>19628.000000</td>\n",
       "      <td>19628.000000</td>\n",
       "      <td>19628.000000</td>\n",
       "      <td>...</td>\n",
       "      <td>19628.000000</td>\n",
       "      <td>19628.000000</td>\n",
       "      <td>19628.000000</td>\n",
       "      <td>19628.000000</td>\n",
       "      <td>19628.000000</td>\n",
       "      <td>19628.000000</td>\n",
       "      <td>19628.000000</td>\n",
       "      <td>19628.000000</td>\n",
       "      <td>19628.000000</td>\n",
       "      <td>19628.000000</td>\n",
       "    </tr>\n",
       "    <tr>\n",
       "      <th>mean</th>\n",
       "      <td>4.610491e+09</td>\n",
       "      <td>467120.692123</td>\n",
       "      <td>3.320868</td>\n",
       "      <td>2.038809</td>\n",
       "      <td>1954.495669</td>\n",
       "      <td>1.451994e+04</td>\n",
       "      <td>1.470476</td>\n",
       "      <td>0.002445</td>\n",
       "      <td>0.160434</td>\n",
       "      <td>3.404830</td>\n",
       "      <td>...</td>\n",
       "      <td>1692.239963</td>\n",
       "      <td>262.255706</td>\n",
       "      <td>1970.768035</td>\n",
       "      <td>98078.500153</td>\n",
       "      <td>47.556091</td>\n",
       "      <td>-122.213125</td>\n",
       "      <td>1907.807622</td>\n",
       "      <td>12347.386489</td>\n",
       "      <td>0.029702</td>\n",
       "      <td>7.506713</td>\n",
       "    </tr>\n",
       "    <tr>\n",
       "      <th>std</th>\n",
       "      <td>2.877933e+09</td>\n",
       "      <td>195606.490612</td>\n",
       "      <td>0.905342</td>\n",
       "      <td>0.701514</td>\n",
       "      <td>754.764260</td>\n",
       "      <td>4.015123e+04</td>\n",
       "      <td>0.535971</td>\n",
       "      <td>0.049393</td>\n",
       "      <td>0.615843</td>\n",
       "      <td>0.645391</td>\n",
       "      <td>...</td>\n",
       "      <td>711.380034</td>\n",
       "      <td>403.439192</td>\n",
       "      <td>29.059370</td>\n",
       "      <td>53.318121</td>\n",
       "      <td>0.141758</td>\n",
       "      <td>0.142369</td>\n",
       "      <td>600.334061</td>\n",
       "      <td>26252.383945</td>\n",
       "      <td>0.169770</td>\n",
       "      <td>0.305316</td>\n",
       "    </tr>\n",
       "    <tr>\n",
       "      <th>min</th>\n",
       "      <td>1.000102e+06</td>\n",
       "      <td>78000.000000</td>\n",
       "      <td>1.000000</td>\n",
       "      <td>0.500000</td>\n",
       "      <td>370.000000</td>\n",
       "      <td>5.200000e+02</td>\n",
       "      <td>1.000000</td>\n",
       "      <td>0.000000</td>\n",
       "      <td>0.000000</td>\n",
       "      <td>1.000000</td>\n",
       "      <td>...</td>\n",
       "      <td>370.000000</td>\n",
       "      <td>0.000000</td>\n",
       "      <td>1900.000000</td>\n",
       "      <td>98001.000000</td>\n",
       "      <td>47.155900</td>\n",
       "      <td>-122.519000</td>\n",
       "      <td>399.000000</td>\n",
       "      <td>651.000000</td>\n",
       "      <td>0.000000</td>\n",
       "      <td>5.988961</td>\n",
       "    </tr>\n",
       "    <tr>\n",
       "      <th>25%</th>\n",
       "      <td>2.140938e+09</td>\n",
       "      <td>314000.000000</td>\n",
       "      <td>3.000000</td>\n",
       "      <td>1.500000</td>\n",
       "      <td>1390.000000</td>\n",
       "      <td>5.000000e+03</td>\n",
       "      <td>1.000000</td>\n",
       "      <td>0.000000</td>\n",
       "      <td>0.000000</td>\n",
       "      <td>3.000000</td>\n",
       "      <td>...</td>\n",
       "      <td>1170.000000</td>\n",
       "      <td>0.000000</td>\n",
       "      <td>1952.000000</td>\n",
       "      <td>98033.000000</td>\n",
       "      <td>47.457600</td>\n",
       "      <td>-122.330000</td>\n",
       "      <td>1460.000000</td>\n",
       "      <td>5041.500000</td>\n",
       "      <td>0.000000</td>\n",
       "      <td>7.286192</td>\n",
       "    </tr>\n",
       "    <tr>\n",
       "      <th>50%</th>\n",
       "      <td>3.910050e+09</td>\n",
       "      <td>433000.000000</td>\n",
       "      <td>3.000000</td>\n",
       "      <td>2.000000</td>\n",
       "      <td>1840.000000</td>\n",
       "      <td>7.500000e+03</td>\n",
       "      <td>1.000000</td>\n",
       "      <td>0.000000</td>\n",
       "      <td>0.000000</td>\n",
       "      <td>3.000000</td>\n",
       "      <td>...</td>\n",
       "      <td>1500.000000</td>\n",
       "      <td>0.000000</td>\n",
       "      <td>1974.000000</td>\n",
       "      <td>98065.000000</td>\n",
       "      <td>47.565900</td>\n",
       "      <td>-122.232000</td>\n",
       "      <td>1790.000000</td>\n",
       "      <td>7541.500000</td>\n",
       "      <td>0.000000</td>\n",
       "      <td>7.489971</td>\n",
       "    </tr>\n",
       "    <tr>\n",
       "      <th>75%</th>\n",
       "      <td>7.340601e+09</td>\n",
       "      <td>590075.000000</td>\n",
       "      <td>4.000000</td>\n",
       "      <td>2.500000</td>\n",
       "      <td>2410.000000</td>\n",
       "      <td>1.025550e+04</td>\n",
       "      <td>2.000000</td>\n",
       "      <td>0.000000</td>\n",
       "      <td>0.000000</td>\n",
       "      <td>4.000000</td>\n",
       "      <td>...</td>\n",
       "      <td>2080.000000</td>\n",
       "      <td>500.000000</td>\n",
       "      <td>1996.000000</td>\n",
       "      <td>98118.000000</td>\n",
       "      <td>47.680200</td>\n",
       "      <td>-122.122000</td>\n",
       "      <td>2260.000000</td>\n",
       "      <td>9840.000000</td>\n",
       "      <td>0.000000</td>\n",
       "      <td>7.723120</td>\n",
       "    </tr>\n",
       "    <tr>\n",
       "      <th>max</th>\n",
       "      <td>9.900000e+09</td>\n",
       "      <td>999999.000000</td>\n",
       "      <td>33.000000</td>\n",
       "      <td>7.500000</td>\n",
       "      <td>7480.000000</td>\n",
       "      <td>1.651359e+06</td>\n",
       "      <td>3.500000</td>\n",
       "      <td>1.000000</td>\n",
       "      <td>4.000000</td>\n",
       "      <td>5.000000</td>\n",
       "      <td>...</td>\n",
       "      <td>5710.000000</td>\n",
       "      <td>2720.000000</td>\n",
       "      <td>2015.000000</td>\n",
       "      <td>98199.000000</td>\n",
       "      <td>47.777600</td>\n",
       "      <td>-121.315000</td>\n",
       "      <td>4950.000000</td>\n",
       "      <td>871200.000000</td>\n",
       "      <td>1.000000</td>\n",
       "      <td>8.507143</td>\n",
       "    </tr>\n",
       "  </tbody>\n",
       "</table>\n",
       "<p>8 rows × 21 columns</p>\n",
       "</div>"
      ],
      "text/plain": [
       "                 id          price      bedrooms     bathrooms   sqft_living  \\\n",
       "count  1.962800e+04   19628.000000  19628.000000  19628.000000  19628.000000   \n",
       "mean   4.610491e+09  467120.692123      3.320868      2.038809   1954.495669   \n",
       "std    2.877933e+09  195606.490612      0.905342      0.701514    754.764260   \n",
       "min    1.000102e+06   78000.000000      1.000000      0.500000    370.000000   \n",
       "25%    2.140938e+09  314000.000000      3.000000      1.500000   1390.000000   \n",
       "50%    3.910050e+09  433000.000000      3.000000      2.000000   1840.000000   \n",
       "75%    7.340601e+09  590075.000000      4.000000      2.500000   2410.000000   \n",
       "max    9.900000e+09  999999.000000     33.000000      7.500000   7480.000000   \n",
       "\n",
       "           sqft_lot        floors    waterfront          view     condition  \\\n",
       "count  1.962800e+04  19628.000000  19628.000000  19628.000000  19628.000000   \n",
       "mean   1.451994e+04      1.470476      0.002445      0.160434      3.404830   \n",
       "std    4.015123e+04      0.535971      0.049393      0.615843      0.645391   \n",
       "min    5.200000e+02      1.000000      0.000000      0.000000      1.000000   \n",
       "25%    5.000000e+03      1.000000      0.000000      0.000000      3.000000   \n",
       "50%    7.500000e+03      1.000000      0.000000      0.000000      3.000000   \n",
       "75%    1.025550e+04      2.000000      0.000000      0.000000      4.000000   \n",
       "max    1.651359e+06      3.500000      1.000000      4.000000      5.000000   \n",
       "\n",
       "           ...         sqft_above  sqft_basement      yr_built       zipcode  \\\n",
       "count      ...       19628.000000   19628.000000  19628.000000  19628.000000   \n",
       "mean       ...        1692.239963     262.255706   1970.768035  98078.500153   \n",
       "std        ...         711.380034     403.439192     29.059370     53.318121   \n",
       "min        ...         370.000000       0.000000   1900.000000  98001.000000   \n",
       "25%        ...        1170.000000       0.000000   1952.000000  98033.000000   \n",
       "50%        ...        1500.000000       0.000000   1974.000000  98065.000000   \n",
       "75%        ...        2080.000000     500.000000   1996.000000  98118.000000   \n",
       "max        ...        5710.000000    2720.000000   2015.000000  98199.000000   \n",
       "\n",
       "                lat          long  sqft_living15     sqft_lot15  \\\n",
       "count  19628.000000  19628.000000   19628.000000   19628.000000   \n",
       "mean      47.556091   -122.213125    1907.807622   12347.386489   \n",
       "std        0.141758      0.142369     600.334061   26252.383945   \n",
       "min       47.155900   -122.519000     399.000000     651.000000   \n",
       "25%       47.457600   -122.330000    1460.000000    5041.500000   \n",
       "50%       47.565900   -122.232000    1790.000000    7541.500000   \n",
       "75%       47.680200   -122.122000    2260.000000    9840.000000   \n",
       "max       47.777600   -121.315000    4950.000000  871200.000000   \n",
       "\n",
       "       was_renovated  log_sqft_liv  \n",
       "count   19628.000000  19628.000000  \n",
       "mean        0.029702      7.506713  \n",
       "std         0.169770      0.305316  \n",
       "min         0.000000      5.988961  \n",
       "25%         0.000000      7.286192  \n",
       "50%         0.000000      7.489971  \n",
       "75%         0.000000      7.723120  \n",
       "max         1.000000      8.507143  \n",
       "\n",
       "[8 rows x 21 columns]"
      ]
     },
     "execution_count": 162,
     "metadata": {},
     "output_type": "execute_result"
    }
   ],
   "source": [
    "kc_houses.describe()"
   ]
  },
  {
   "cell_type": "code",
   "execution_count": 163,
   "metadata": {},
   "outputs": [
    {
     "data": {
      "text/plain": [
       "(array([ 22.,  29.,  52.,  87., 172., 206., 374., 519., 540., 793., 829.,\n",
       "        639., 818., 864., 775., 724., 740., 678., 764., 720., 750., 539.,\n",
       "        650., 447., 529., 605., 502., 389., 438., 401., 287., 393., 317.,\n",
       "        286., 264., 275., 284., 201., 207., 236., 168., 194., 148., 122.,\n",
       "        145., 130.,  83., 112.,  99.,  82.]),\n",
       " array([ 78000.  ,  96439.98, 114879.96, 133319.94, 151759.92, 170199.9 ,\n",
       "        188639.88, 207079.86, 225519.84, 243959.82, 262399.8 , 280839.78,\n",
       "        299279.76, 317719.74, 336159.72, 354599.7 , 373039.68, 391479.66,\n",
       "        409919.64, 428359.62, 446799.6 , 465239.58, 483679.56, 502119.54,\n",
       "        520559.52, 538999.5 , 557439.48, 575879.46, 594319.44, 612759.42,\n",
       "        631199.4 , 649639.38, 668079.36, 686519.34, 704959.32, 723399.3 ,\n",
       "        741839.28, 760279.26, 778719.24, 797159.22, 815599.2 , 834039.18,\n",
       "        852479.16, 870919.14, 889359.12, 907799.1 , 926239.08, 944679.06,\n",
       "        963119.04, 981559.02, 999999.  ]),\n",
       " <a list of 50 Patch objects>)"
      ]
     },
     "execution_count": 163,
     "metadata": {},
     "output_type": "execute_result"
    },
    {
     "data": {
      "image/png": "[encoded data removed]",
      "text/plain": [
       "<Figure size 432x288 with 1 Axes>"
      ]
     },
     "metadata": {
      "needs_background": "light"
     },
     "output_type": "display_data"
    }
   ],
   "source": [
    "plt.hist(kc_houses['price'],bins =50)"
   ]
  },
  {
   "cell_type": "code",
   "execution_count": 164,
   "metadata": {},
   "outputs": [],
   "source": [
    "everything = houses_with_zips.drop(columns = ['id','date','price','sqft_lot','sqft_lot15','sqft_living15','bathrooms'])\n",
    "target = houses_with_zips['price']\n",
    "everything_train, everything_test, target_train, target_test = train_test_split(everything,target,test_size=.2)"
   ]
  },
  {
   "cell_type": "code",
   "execution_count": 165,
   "metadata": {},
   "outputs": [
    {
     "data": {
      "text/plain": [
       "<matplotlib.collections.PathCollection at 0x1a23b9ada0>"
      ]
     },
     "execution_count": 165,
     "metadata": {},
     "output_type": "execute_result"
    },
    {
     "data": {
      "image/png": "[encoded data removed]",
      "text/plain": [
       "<Figure size 432x288 with 1 Axes>"
      ]
     },
     "metadata": {
      "needs_background": "light"
     },
     "output_type": "display_data"
    }
   ],
   "source": [
    "mod = house_model.fit(everything_train,target_train)\n",
    "y_pred = mod.predict(everything_test)\n",
    "plt.scatter(y_pred,target_test)"
   ]
  },
  {
   "cell_type": "code",
   "execution_count": 166,
   "metadata": {},
   "outputs": [
    {
     "data": {
      "text/plain": [
       "0.7869024501856363"
      ]
     },
     "execution_count": 166,
     "metadata": {},
     "output_type": "execute_result"
    }
   ],
   "source": [
    "explained_variance_score(target_test,y_pred)"
   ]
  },
  {
   "cell_type": "code",
   "execution_count": 169,
   "metadata": {},
   "outputs": [
    {
     "data": {
      "text/plain": [
       "(array([105.,  24.,  43.,  42.,  55.,  78., 138.,  81., 120.,  66.,  69.,\n",
       "         49.,  48., 130.,  51., 110.,  81.,  94.,  68.,  85., 199., 142.,\n",
       "        157., 100., 109., 109., 128.,  36.,  22.,  19.,  21.,  35.,  54.,\n",
       "        137., 141., 143., 211., 162., 138.,  91., 364., 223., 179., 227.,\n",
       "        207., 203., 494., 256., 186., 187., 209., 315., 237., 505., 234.,\n",
       "        156., 173., 232., 330., 358., 381.,  97., 136., 138., 153., 177.,\n",
       "        626., 371., 329., 222., 187.,  94., 196., 419., 205., 269., 236.,\n",
       "        253., 285., 198., 372., 239., 144., 166., 159., 212., 410., 256.,\n",
       "        195., 386., 389., 399., 387., 671., 214., 135., 121., 156., 172.,\n",
       "        507.]),\n",
       " array([1900.  , 1901.15, 1902.3 , 1903.45, 1904.6 , 1905.75, 1906.9 ,\n",
       "        1908.05, 1909.2 , 1910.35, 1911.5 , 1912.65, 1913.8 , 1914.95,\n",
       "        1916.1 , 1917.25, 1918.4 , 1919.55, 1920.7 , 1921.85, 1923.  ,\n",
       "        1924.15, 1925.3 , 1926.45, 1927.6 , 1928.75, 1929.9 , 1931.05,\n",
       "        1932.2 , 1933.35, 1934.5 , 1935.65, 1936.8 , 1937.95, 1939.1 ,\n",
       "        1940.25, 1941.4 , 1942.55, 1943.7 , 1944.85, 1946.  , 1947.15,\n",
       "        1948.3 , 1949.45, 1950.6 , 1951.75, 1952.9 , 1954.05, 1955.2 ,\n",
       "        1956.35, 1957.5 , 1958.65, 1959.8 , 1960.95, 1962.1 , 1963.25,\n",
       "        1964.4 , 1965.55, 1966.7 , 1967.85, 1969.  , 1970.15, 1971.3 ,\n",
       "        1972.45, 1973.6 , 1974.75, 1975.9 , 1977.05, 1978.2 , 1979.35,\n",
       "        1980.5 , 1981.65, 1982.8 , 1983.95, 1985.1 , 1986.25, 1987.4 ,\n",
       "        1988.55, 1989.7 , 1990.85, 1992.  , 1993.15, 1994.3 , 1995.45,\n",
       "        1996.6 , 1997.75, 1998.9 , 2000.05, 2001.2 , 2002.35, 2003.5 ,\n",
       "        2004.65, 2005.8 , 2006.95, 2008.1 , 2009.25, 2010.4 , 2011.55,\n",
       "        2012.7 , 2013.85, 2015.  ]),\n",
       " <a list of 100 Patch objects>)"
      ]
     },
     "execution_count": 169,
     "metadata": {},
     "output_type": "execute_result"
    },
    {
     "data": {
      "image/png": "[encoded data removed]",
      "text/plain": [
       "<Figure size 432x288 with 1 Axes>"
      ]
     },
     "metadata": {
      "needs_background": "light"
     },
     "output_type": "display_data"
    }
   ],
   "source": [
    "plt.hist(kc_houses['yr_built'], bins =100)"
   ]
  },
  {
   "cell_type": "code",
   "execution_count": 181,
   "metadata": {},
   "outputs": [
    {
     "data": {
      "text/plain": [
       "<matplotlib.collections.PathCollection at 0x1a217e0940>"
      ]
     },
     "execution_count": 181,
     "metadata": {},
     "output_type": "execute_result"
    },
    {
     "data": {
      "image/png": "[encoded data removed]",
      "text/plain": [
       "<Figure size 432x288 with 1 Axes>"
      ]
     },
     "metadata": {
      "needs_background": "light"
     },
     "output_type": "display_data"
    }
   ],
   "source": [
    "plt.scatter(kc_houses['yr_built'],kc_houses['zipcode'])"
   ]
  },
  {
   "cell_type": "code",
   "execution_count": 182,
   "metadata": {},
   "outputs": [
    {
     "data": {
      "text/plain": [
       "116"
      ]
     },
     "execution_count": 182,
     "metadata": {},
     "output_type": "execute_result"
    }
   ],
   "source": [
    "kc_houses['yr_built'].nunique()"
   ]
  },
  {
   "cell_type": "code",
   "execution_count": 183,
   "metadata": {},
   "outputs": [
    {
     "data": {
      "text/plain": [
       "zipcode  yr_built\n",
       "98001    1903         230000.0\n",
       "         1908         213750.0\n",
       "         1909         185900.0\n",
       "         1912         170000.0\n",
       "         1913         168000.0\n",
       "         1919         189950.0\n",
       "         1936         292500.0\n",
       "         1938         389000.0\n",
       "         1939         249900.0\n",
       "         1942         239950.0\n",
       "         1943         311000.0\n",
       "         1944         199900.0\n",
       "         1946         207725.0\n",
       "         1947         225000.0\n",
       "         1948         366250.0\n",
       "         1950         243450.0\n",
       "         1952         231500.0\n",
       "         1953         209550.0\n",
       "         1954         228725.0\n",
       "         1955         314564.5\n",
       "         1956         100000.0\n",
       "         1958         210500.0\n",
       "         1959         341500.0\n",
       "         1960         246700.0\n",
       "         1961         294000.0\n",
       "         1962         223500.0\n",
       "         1963         217500.0\n",
       "         1964         235000.0\n",
       "         1965         274000.0\n",
       "         1966         215000.0\n",
       "                       ...    \n",
       "98199    1968         830000.0\n",
       "         1970         611750.0\n",
       "         1972         707000.0\n",
       "         1977         714500.0\n",
       "         1983         440000.0\n",
       "         1986        1340000.0\n",
       "         1990         450000.0\n",
       "         1992         950000.0\n",
       "         1993         390000.0\n",
       "         1994         509500.0\n",
       "         1996        2160000.0\n",
       "         1997         495500.0\n",
       "         1998        1930000.0\n",
       "         1999        1570000.0\n",
       "         2000         803000.0\n",
       "         2001        1170000.0\n",
       "         2002         505000.0\n",
       "         2003         443750.0\n",
       "         2004         678000.0\n",
       "         2005         957000.0\n",
       "         2006         825000.0\n",
       "         2007         612500.0\n",
       "         2008         520000.0\n",
       "         2009         435000.0\n",
       "         2010        2125000.0\n",
       "         2011         453000.0\n",
       "         2012         761400.0\n",
       "         2013         549000.0\n",
       "         2014        1050000.0\n",
       "         2015         585500.0\n",
       "Name: price, Length: 4681, dtype: float64"
      ]
     },
     "execution_count": 183,
     "metadata": {},
     "output_type": "execute_result"
    }
   ],
   "source": [
    "kc_houses.groupby(['zipcode','yr_built'])['price'].median()"
   ]
  },
  {
   "cell_type": "code",
   "execution_count": 186,
   "metadata": {},
   "outputs": [
    {
     "data": {
      "text/plain": [
       "(array([2.8760e+03, 1.6331e+04, 1.5550e+03, 2.9600e+02, 1.3000e+01,\n",
       "        9.0000e+00, 1.0000e+00, 0.0000e+00, 0.0000e+00, 0.0000e+00,\n",
       "        0.0000e+00, 0.0000e+00, 0.0000e+00, 0.0000e+00, 0.0000e+00,\n",
       "        0.0000e+00, 0.0000e+00, 0.0000e+00, 0.0000e+00, 1.0000e+00]),\n",
       " array([ 1. ,  2.6,  4.2,  5.8,  7.4,  9. , 10.6, 12.2, 13.8, 15.4, 17. ,\n",
       "        18.6, 20.2, 21.8, 23.4, 25. , 26.6, 28.2, 29.8, 31.4, 33. ]),\n",
       " <a list of 20 Patch objects>)"
      ]
     },
     "execution_count": 186,
     "metadata": {},
     "output_type": "execute_result"
    },
    {
     "data": {
      "image/png": "[encoded data removed]",
      "text/plain": [
       "<Figure size 1080x864 with 1 Axes>"
      ]
     },
     "metadata": {
      "needs_background": "light"
     },
     "output_type": "display_data"
    }
   ],
   "source": [
    "plt.figure(figsize = (15,12))\n",
    "plt.hist(kc_houses['bedrooms'],bins = 20)"
   ]
  },
  {
   "cell_type": "code",
   "execution_count": 187,
   "metadata": {},
   "outputs": [
    {
     "data": {
      "text/plain": [
       "count    21082.000000\n",
       "mean         3.372403\n",
       "std          0.924996\n",
       "min          1.000000\n",
       "25%          3.000000\n",
       "50%          3.000000\n",
       "75%          4.000000\n",
       "max         33.000000\n",
       "Name: bedrooms, dtype: float64"
      ]
     },
     "execution_count": 187,
     "metadata": {},
     "output_type": "execute_result"
    }
   ],
   "source": [
    "kc_houses['bedrooms'].describe()"
   ]
  },
  {
   "cell_type": "code",
   "execution_count": 188,
   "metadata": {},
   "outputs": [],
   "source": [
    "too_many_bedrooms = kc_houses[kc_houses['bedrooms']>10]"
   ]
  },
  {
   "cell_type": "code",
   "execution_count": 189,
   "metadata": {},
   "outputs": [],
   "source": [
    "kc_houses = kc_houses.drop(too_many_bedrooms.index)"
   ]
  },
  {
   "cell_type": "code",
   "execution_count": 190,
   "metadata": {},
   "outputs": [
    {
     "name": "stdout",
     "output_type": "stream",
     "text": [
      "<class 'pandas.core.frame.DataFrame'>\n",
      "Int64Index: 21080 entries, 0 to 21596\n",
      "Data columns (total 21 columns):\n",
      "id               21080 non-null int64\n",
      "date             21080 non-null object\n",
      "price            21080 non-null float64\n",
      "bedrooms         21080 non-null int64\n",
      "bathrooms        21080 non-null float64\n",
      "sqft_living      21080 non-null int64\n",
      "sqft_lot         21080 non-null int64\n",
      "floors           21080 non-null float64\n",
      "waterfront       21080 non-null float64\n",
      "view             21080 non-null float64\n",
      "condition        21080 non-null int64\n",
      "grade            21080 non-null int64\n",
      "sqft_above       21080 non-null int64\n",
      "sqft_basement    21080 non-null float64\n",
      "yr_built         21080 non-null int64\n",
      "zipcode          21080 non-null int64\n",
      "lat              21080 non-null float64\n",
      "long             21080 non-null float64\n",
      "sqft_living15    21080 non-null int64\n",
      "sqft_lot15       21080 non-null int64\n",
      "was_renovated    21080 non-null int64\n",
      "dtypes: float64(8), int64(12), object(1)\n",
      "memory usage: 3.5+ MB\n"
     ]
    }
   ],
   "source": [
    "kc_houses.info()"
   ]
  },
  {
   "cell_type": "code",
   "execution_count": 191,
   "metadata": {},
   "outputs": [
    {
     "data": {
      "text/plain": [
       "(array([1.910e+02, 2.685e+03, 9.607e+03, 6.724e+03, 1.555e+03, 2.600e+02,\n",
       "        3.600e+01, 1.300e+01, 6.000e+00, 3.000e+00]),\n",
       " array([ 1. ,  1.9,  2.8,  3.7,  4.6,  5.5,  6.4,  7.3,  8.2,  9.1, 10. ]),\n",
       " <a list of 10 Patch objects>)"
      ]
     },
     "execution_count": 191,
     "metadata": {},
     "output_type": "execute_result"
    },
    {
     "data": {
      "image/png": "[encoded data removed]",
      "text/plain": [
       "<Figure size 432x288 with 1 Axes>"
      ]
     },
     "metadata": {
      "needs_background": "light"
     },
     "output_type": "display_data"
    }
   ],
   "source": [
    "plt.hist(kc_houses['bedrooms'])"
   ]
  },
  {
   "cell_type": "code",
   "execution_count": 209,
   "metadata": {},
   "outputs": [],
   "source": [
    "year_built = pd.get_dummies(houses_with_zips['yr_built'])\n",
    "houses_with_zips_and_years = pd.concat([houses_with_zips,year_built],axis=1)\n",
    "houses_with_zips_and_years.drop(columns = ['yr_built'],inplace=True)"
   ]
  },
  {
   "cell_type": "code",
   "execution_count": 210,
   "metadata": {},
   "outputs": [],
   "source": [
    "everything = houses_with_zips_and_years.drop(columns = ['id','date','price','sqft_lot','sqft_lot15','sqft_living15','bathrooms'])\n",
    "target = houses_with_zips['price']\n",
    "everything_train, everything_test, target_train, target_test = train_test_split(everything,target,test_size=.2)"
   ]
  },
  {
   "cell_type": "code",
   "execution_count": 211,
   "metadata": {},
   "outputs": [
    {
     "data": {
      "text/plain": [
       "<matplotlib.collections.PathCollection at 0x1a25d1e198>"
      ]
     },
     "execution_count": 211,
     "metadata": {},
     "output_type": "execute_result"
    },
    {
     "data": {
      "image/png": "[encoded data removed]",
      "text/plain": [
       "<Figure size 432x288 with 1 Axes>"
      ]
     },
     "metadata": {
      "needs_background": "light"
     },
     "output_type": "display_data"
    }
   ],
   "source": [
    "mod = house_model.fit(everything_train,target_train)\n",
    "y_pred = mod.predict(everything_test)\n",
    "plt.scatter(y_pred,target_test)"
   ]
  },
  {
   "cell_type": "code",
   "execution_count": 212,
   "metadata": {},
   "outputs": [
    {
     "data": {
      "text/plain": [
       "0.8171939789098877"
      ]
     },
     "execution_count": 212,
     "metadata": {},
     "output_type": "execute_result"
    }
   ],
   "source": [
    "explained_variance_score(target_test,y_pred)"
   ]
  },
  {
   "cell_type": "code",
   "execution_count": null,
   "metadata": {},
   "outputs": [],
   "source": [
    "#grouping by year built does not improve model"
   ]
  },
  {
   "cell_type": "code",
   "execution_count": 213,
   "metadata": {},
   "outputs": [],
   "source": [
    "def extract_year_mon_day(df):\n",
    "    df['Year'], df['Month'], df['Day'] = df['date'].dt.year, df['date'].dt.month, df['date'].dt.day\n",
    "    return df"
   ]
  },
  {
   "cell_type": "code",
   "execution_count": 214,
   "metadata": {},
   "outputs": [],
   "source": [
    "houses_with_zips['date'] = pd.to_datetime(houses_with_zips['date'])"
   ]
  },
  {
   "cell_type": "code",
   "execution_count": 215,
   "metadata": {},
   "outputs": [],
   "source": [
    "houses_with_dates = extract_year_mon_day(houses_with_zips)"
   ]
  },
  {
   "cell_type": "code",
   "execution_count": 224,
   "metadata": {},
   "outputs": [],
   "source": [
    "year_sold = pd.get_dummies(houses_with_dates['Year'])\n",
    "houses_with_years_and_zips = pd.concat([houses_with_zips,year_sold],axis = 1)"
   ]
  },
  {
   "cell_type": "code",
   "execution_count": 225,
   "metadata": {},
   "outputs": [],
   "source": [
    "everything = houses_with_years_and_zips.drop(columns = ['id','date','price','sqft_lot','sqft_lot15','sqft_living15','bathrooms'])\n",
    "target = houses_with_zips['price']\n",
    "everything_train, everything_test, target_train, target_test = train_test_split(everything,target,test_size=.2)"
   ]
  },
  {
   "cell_type": "code",
   "execution_count": 226,
   "metadata": {},
   "outputs": [
    {
     "data": {
      "text/plain": [
       "<matplotlib.collections.PathCollection at 0x1a1f242c50>"
      ]
     },
     "execution_count": 226,
     "metadata": {},
     "output_type": "execute_result"
    },
    {
     "data": {
      "image/png": "[encoded data removed]",
      "text/plain": [
       "<Figure size 432x288 with 1 Axes>"
      ]
     },
     "metadata": {
      "needs_background": "light"
     },
     "output_type": "display_data"
    }
   ],
   "source": [
    "mod = house_model.fit(everything_train,target_train)\n",
    "y_pred = mod.predict(everything_test)\n",
    "plt.scatter(y_pred,target_test)"
   ]
  },
  {
   "cell_type": "code",
   "execution_count": 227,
   "metadata": {},
   "outputs": [
    {
     "data": {
      "text/plain": [
       "0.7996012031708833"
      ]
     },
     "execution_count": 227,
     "metadata": {},
     "output_type": "execute_result"
    }
   ],
   "source": [
    "explained_variance_score(target_test,y_pred)"
   ]
  },
  {
   "cell_type": "code",
   "execution_count": null,
   "metadata": {},
   "outputs": [],
   "source": [
    "#grouping by year sold makes the model WORSE"
   ]
  }
 ],
 "metadata": {
  "kernelspec": {
   "display_name": "Python 3",
   "language": "python",
   "name": "python3"
  },
  "language_info": {
   "codemirror_mode": {
    "name": "ipython",
    "version": 3
   },
   "file_extension": ".py",
   "mimetype": "text/x-python",
   "name": "python",
   "nbconvert_exporter": "python",
   "pygments_lexer": "ipython3",
   "version": "3.6.6"
  }
 },
 "nbformat": 4,
 "nbformat_minor": 2
}
